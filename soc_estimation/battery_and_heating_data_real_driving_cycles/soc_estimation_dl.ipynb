{
 "cells": [
  {
   "cell_type": "code",
   "execution_count": 1,
   "id": "fc06d4e9-0bc9-4dca-9c81-22cca4113e8f",
   "metadata": {
    "scrolled": true
   },
   "outputs": [
    {
     "name": "stdout",
     "output_type": "stream",
     "text": [
      "2024-08-28 15:06:54,389 - INFO - Upgrading pip...\n",
      "2024-08-28 15:06:54,389 - INFO - Running pip command: install --upgrade pip\n",
      "Requirement already satisfied: pip in d:\\virtualenv\\myenv\\lib\\site-packages (24.2)\n",
      "2024-08-28 15:06:56,116 - INFO - Command 'install --upgrade pip' executed successfully.\n",
      "2024-08-28 15:06:56,117 - INFO - pip upgraded successfully.\n",
      "2024-08-28 15:06:56,117 - INFO - Installing library numpy...\n",
      "2024-08-28 15:06:56,117 - INFO - Running pip command: install numpy\n",
      "Requirement already satisfied: numpy in d:\\virtualenv\\myenv\\lib\\site-packages (1.26.3)\n",
      "2024-08-28 15:06:57,440 - INFO - Command 'install numpy' executed successfully.\n",
      "2024-08-28 15:06:57,440 - INFO - numpy installed successfully.\n",
      "2024-08-28 15:06:57,440 - INFO - Installing library pandas...\n",
      "2024-08-28 15:06:57,440 - INFO - Running pip command: install pandas\n",
      "Requirement already satisfied: pandas in d:\\virtualenv\\myenv\\lib\\site-packages (2.2.2)\n",
      "Requirement already satisfied: numpy>=1.23.2 in d:\\virtualenv\\myenv\\lib\\site-packages (from pandas) (1.26.3)\n",
      "Requirement already satisfied: python-dateutil>=2.8.2 in d:\\virtualenv\\myenv\\lib\\site-packages (from pandas) (2.9.0.post0)\n",
      "Requirement already satisfied: pytz>=2020.1 in d:\\virtualenv\\myenv\\lib\\site-packages (from pandas) (2024.1)\n",
      "Requirement already satisfied: tzdata>=2022.7 in d:\\virtualenv\\myenv\\lib\\site-packages (from pandas) (2024.1)\n",
      "Requirement already satisfied: six>=1.5 in d:\\virtualenv\\myenv\\lib\\site-packages (from python-dateutil>=2.8.2->pandas) (1.16.0)\n",
      "2024-08-28 15:06:58,614 - INFO - Command 'install pandas' executed successfully.\n",
      "2024-08-28 15:06:58,614 - INFO - pandas installed successfully.\n",
      "2024-08-28 15:06:58,614 - INFO - Installing library matplotlib...\n",
      "2024-08-28 15:06:58,614 - INFO - Running pip command: install matplotlib\n",
      "Requirement already satisfied: matplotlib in d:\\virtualenv\\myenv\\lib\\site-packages (3.9.0)\n",
      "Requirement already satisfied: contourpy>=1.0.1 in d:\\virtualenv\\myenv\\lib\\site-packages (from matplotlib) (1.2.1)\n",
      "Requirement already satisfied: cycler>=0.10 in d:\\virtualenv\\myenv\\lib\\site-packages (from matplotlib) (0.12.1)\n",
      "Requirement already satisfied: fonttools>=4.22.0 in d:\\virtualenv\\myenv\\lib\\site-packages (from matplotlib) (4.53.0)\n",
      "Requirement already satisfied: kiwisolver>=1.3.1 in d:\\virtualenv\\myenv\\lib\\site-packages (from matplotlib) (1.4.5)\n",
      "Requirement already satisfied: numpy>=1.23 in d:\\virtualenv\\myenv\\lib\\site-packages (from matplotlib) (1.26.3)\n",
      "Requirement already satisfied: packaging>=20.0 in d:\\virtualenv\\myenv\\lib\\site-packages (from matplotlib) (24.1)\n",
      "Requirement already satisfied: pillow>=8 in d:\\virtualenv\\myenv\\lib\\site-packages (from matplotlib) (10.2.0)\n",
      "Requirement already satisfied: pyparsing>=2.3.1 in d:\\virtualenv\\myenv\\lib\\site-packages (from matplotlib) (3.1.2)\n",
      "Requirement already satisfied: python-dateutil>=2.7 in d:\\virtualenv\\myenv\\lib\\site-packages (from matplotlib) (2.9.0.post0)\n",
      "Requirement already satisfied: six>=1.5 in d:\\virtualenv\\myenv\\lib\\site-packages (from python-dateutil>=2.7->matplotlib) (1.16.0)\n",
      "2024-08-28 15:06:59,713 - INFO - Command 'install matplotlib' executed successfully.\n",
      "2024-08-28 15:06:59,713 - INFO - matplotlib installed successfully.\n",
      "2024-08-28 15:06:59,713 - INFO - Installing library seaborn...\n",
      "2024-08-28 15:06:59,713 - INFO - Running pip command: install seaborn\n",
      "Requirement already satisfied: seaborn in d:\\virtualenv\\myenv\\lib\\site-packages (0.13.2)\n",
      "Requirement already satisfied: numpy!=1.24.0,>=1.20 in d:\\virtualenv\\myenv\\lib\\site-packages (from seaborn) (1.26.3)\n",
      "Requirement already satisfied: pandas>=1.2 in d:\\virtualenv\\myenv\\lib\\site-packages (from seaborn) (2.2.2)\n",
      "Requirement already satisfied: matplotlib!=3.6.1,>=3.4 in d:\\virtualenv\\myenv\\lib\\site-packages (from seaborn) (3.9.0)\n",
      "Requirement already satisfied: contourpy>=1.0.1 in d:\\virtualenv\\myenv\\lib\\site-packages (from matplotlib!=3.6.1,>=3.4->seaborn) (1.2.1)\n",
      "Requirement already satisfied: cycler>=0.10 in d:\\virtualenv\\myenv\\lib\\site-packages (from matplotlib!=3.6.1,>=3.4->seaborn) (0.12.1)\n",
      "Requirement already satisfied: fonttools>=4.22.0 in d:\\virtualenv\\myenv\\lib\\site-packages (from matplotlib!=3.6.1,>=3.4->seaborn) (4.53.0)\n",
      "Requirement already satisfied: kiwisolver>=1.3.1 in d:\\virtualenv\\myenv\\lib\\site-packages (from matplotlib!=3.6.1,>=3.4->seaborn) (1.4.5)\n",
      "Requirement already satisfied: packaging>=20.0 in d:\\virtualenv\\myenv\\lib\\site-packages (from matplotlib!=3.6.1,>=3.4->seaborn) (24.1)\n",
      "Requirement already satisfied: pillow>=8 in d:\\virtualenv\\myenv\\lib\\site-packages (from matplotlib!=3.6.1,>=3.4->seaborn) (10.2.0)\n",
      "Requirement already satisfied: pyparsing>=2.3.1 in d:\\virtualenv\\myenv\\lib\\site-packages (from matplotlib!=3.6.1,>=3.4->seaborn) (3.1.2)\n",
      "Requirement already satisfied: python-dateutil>=2.7 in d:\\virtualenv\\myenv\\lib\\site-packages (from matplotlib!=3.6.1,>=3.4->seaborn) (2.9.0.post0)\n",
      "Requirement already satisfied: pytz>=2020.1 in d:\\virtualenv\\myenv\\lib\\site-packages (from pandas>=1.2->seaborn) (2024.1)\n",
      "Requirement already satisfied: tzdata>=2022.7 in d:\\virtualenv\\myenv\\lib\\site-packages (from pandas>=1.2->seaborn) (2024.1)\n",
      "Requirement already satisfied: six>=1.5 in d:\\virtualenv\\myenv\\lib\\site-packages (from python-dateutil>=2.7->matplotlib!=3.6.1,>=3.4->seaborn) (1.16.0)\n",
      "2024-08-28 15:07:00,999 - INFO - Command 'install seaborn' executed successfully.\n",
      "2024-08-28 15:07:00,999 - INFO - seaborn installed successfully.\n",
      "2024-08-28 15:07:00,999 - INFO - Installing library tensorflow...\n",
      "2024-08-28 15:07:00,999 - INFO - Running pip command: install tensorflow\n",
      "Requirement already satisfied: tensorflow in d:\\virtualenv\\myenv\\lib\\site-packages (2.16.1)\n",
      "Requirement already satisfied: tensorflow-intel==2.16.1 in d:\\virtualenv\\myenv\\lib\\site-packages (from tensorflow) (2.16.1)\n",
      "Requirement already satisfied: absl-py>=1.0.0 in d:\\virtualenv\\myenv\\lib\\site-packages (from tensorflow-intel==2.16.1->tensorflow) (2.1.0)\n",
      "Requirement already satisfied: astunparse>=1.6.0 in d:\\virtualenv\\myenv\\lib\\site-packages (from tensorflow-intel==2.16.1->tensorflow) (1.6.3)\n",
      "Requirement already satisfied: flatbuffers>=23.5.26 in d:\\virtualenv\\myenv\\lib\\site-packages (from tensorflow-intel==2.16.1->tensorflow) (24.3.25)\n",
      "Requirement already satisfied: gast!=0.5.0,!=0.5.1,!=0.5.2,>=0.2.1 in d:\\virtualenv\\myenv\\lib\\site-packages (from tensorflow-intel==2.16.1->tensorflow) (0.5.4)\n",
      "Requirement already satisfied: google-pasta>=0.1.1 in d:\\virtualenv\\myenv\\lib\\site-packages (from tensorflow-intel==2.16.1->tensorflow) (0.2.0)\n",
      "Requirement already satisfied: h5py>=3.10.0 in d:\\virtualenv\\myenv\\lib\\site-packages (from tensorflow-intel==2.16.1->tensorflow) (3.11.0)\n",
      "Requirement already satisfied: libclang>=13.0.0 in d:\\virtualenv\\myenv\\lib\\site-packages (from tensorflow-intel==2.16.1->tensorflow) (18.1.1)\n",
      "Requirement already satisfied: ml-dtypes~=0.3.1 in d:\\virtualenv\\myenv\\lib\\site-packages (from tensorflow-intel==2.16.1->tensorflow) (0.3.2)\n",
      "Requirement already satisfied: opt-einsum>=2.3.2 in d:\\virtualenv\\myenv\\lib\\site-packages (from tensorflow-intel==2.16.1->tensorflow) (3.3.0)\n",
      "Requirement already satisfied: packaging in d:\\virtualenv\\myenv\\lib\\site-packages (from tensorflow-intel==2.16.1->tensorflow) (24.1)\n",
      "Requirement already satisfied: protobuf!=4.21.0,!=4.21.1,!=4.21.2,!=4.21.3,!=4.21.4,!=4.21.5,<5.0.0dev,>=3.20.3 in d:\\virtualenv\\myenv\\lib\\site-packages (from tensorflow-intel==2.16.1->tensorflow) (4.25.3)\n",
      "Requirement already satisfied: requests<3,>=2.21.0 in d:\\virtualenv\\myenv\\lib\\site-packages (from tensorflow-intel==2.16.1->tensorflow) (2.32.3)\n",
      "Requirement already satisfied: setuptools in d:\\virtualenv\\myenv\\lib\\site-packages (from tensorflow-intel==2.16.1->tensorflow) (70.1.0)\n",
      "Requirement already satisfied: six>=1.12.0 in d:\\virtualenv\\myenv\\lib\\site-packages (from tensorflow-intel==2.16.1->tensorflow) (1.16.0)\n",
      "Requirement already satisfied: termcolor>=1.1.0 in d:\\virtualenv\\myenv\\lib\\site-packages (from tensorflow-intel==2.16.1->tensorflow) (2.4.0)\n",
      "Requirement already satisfied: typing-extensions>=3.6.6 in d:\\virtualenv\\myenv\\lib\\site-packages (from tensorflow-intel==2.16.1->tensorflow) (4.12.2)\n",
      "Requirement already satisfied: wrapt>=1.11.0 in d:\\virtualenv\\myenv\\lib\\site-packages (from tensorflow-intel==2.16.1->tensorflow) (1.16.0)\n",
      "Requirement already satisfied: grpcio<2.0,>=1.24.3 in d:\\virtualenv\\myenv\\lib\\site-packages (from tensorflow-intel==2.16.1->tensorflow) (1.64.1)\n",
      "Requirement already satisfied: tensorboard<2.17,>=2.16 in d:\\virtualenv\\myenv\\lib\\site-packages (from tensorflow-intel==2.16.1->tensorflow) (2.16.2)\n",
      "Requirement already satisfied: keras>=3.0.0 in d:\\virtualenv\\myenv\\lib\\site-packages (from tensorflow-intel==2.16.1->tensorflow) (3.4.0)\n",
      "Requirement already satisfied: tensorflow-io-gcs-filesystem>=0.23.1 in d:\\virtualenv\\myenv\\lib\\site-packages (from tensorflow-intel==2.16.1->tensorflow) (0.31.0)\n",
      "Requirement already satisfied: numpy<2.0.0,>=1.23.5 in d:\\virtualenv\\myenv\\lib\\site-packages (from tensorflow-intel==2.16.1->tensorflow) (1.26.3)\n",
      "Requirement already satisfied: wheel<1.0,>=0.23.0 in d:\\virtualenv\\myenv\\lib\\site-packages (from astunparse>=1.6.0->tensorflow-intel==2.16.1->tensorflow) (0.43.0)\n",
      "Requirement already satisfied: rich in d:\\virtualenv\\myenv\\lib\\site-packages (from keras>=3.0.0->tensorflow-intel==2.16.1->tensorflow) (13.7.1)\n",
      "Requirement already satisfied: namex in d:\\virtualenv\\myenv\\lib\\site-packages (from keras>=3.0.0->tensorflow-intel==2.16.1->tensorflow) (0.0.8)\n",
      "Requirement already satisfied: optree in d:\\virtualenv\\myenv\\lib\\site-packages (from keras>=3.0.0->tensorflow-intel==2.16.1->tensorflow) (0.11.0)\n",
      "Requirement already satisfied: charset-normalizer<4,>=2 in d:\\virtualenv\\myenv\\lib\\site-packages (from requests<3,>=2.21.0->tensorflow-intel==2.16.1->tensorflow) (3.3.2)\n",
      "Requirement already satisfied: idna<4,>=2.5 in d:\\virtualenv\\myenv\\lib\\site-packages (from requests<3,>=2.21.0->tensorflow-intel==2.16.1->tensorflow) (3.7)\n",
      "Requirement already satisfied: urllib3<3,>=1.21.1 in d:\\virtualenv\\myenv\\lib\\site-packages (from requests<3,>=2.21.0->tensorflow-intel==2.16.1->tensorflow) (2.2.2)\n",
      "Requirement already satisfied: certifi>=2017.4.17 in d:\\virtualenv\\myenv\\lib\\site-packages (from requests<3,>=2.21.0->tensorflow-intel==2.16.1->tensorflow) (2024.6.2)\n",
      "Requirement already satisfied: markdown>=2.6.8 in d:\\virtualenv\\myenv\\lib\\site-packages (from tensorboard<2.17,>=2.16->tensorflow-intel==2.16.1->tensorflow) (3.6)\n",
      "Requirement already satisfied: tensorboard-data-server<0.8.0,>=0.7.0 in d:\\virtualenv\\myenv\\lib\\site-packages (from tensorboard<2.17,>=2.16->tensorflow-intel==2.16.1->tensorflow) (0.7.2)\n",
      "Requirement already satisfied: werkzeug>=1.0.1 in d:\\virtualenv\\myenv\\lib\\site-packages (from tensorboard<2.17,>=2.16->tensorflow-intel==2.16.1->tensorflow) (3.0.3)\n",
      "Requirement already satisfied: MarkupSafe>=2.1.1 in d:\\virtualenv\\myenv\\lib\\site-packages (from werkzeug>=1.0.1->tensorboard<2.17,>=2.16->tensorflow-intel==2.16.1->tensorflow) (2.1.5)\n",
      "Requirement already satisfied: markdown-it-py>=2.2.0 in d:\\virtualenv\\myenv\\lib\\site-packages (from rich->keras>=3.0.0->tensorflow-intel==2.16.1->tensorflow) (3.0.0)\n",
      "Requirement already satisfied: pygments<3.0.0,>=2.13.0 in d:\\virtualenv\\myenv\\lib\\site-packages (from rich->keras>=3.0.0->tensorflow-intel==2.16.1->tensorflow) (2.18.0)\n",
      "Requirement already satisfied: mdurl~=0.1 in d:\\virtualenv\\myenv\\lib\\site-packages (from markdown-it-py>=2.2.0->rich->keras>=3.0.0->tensorflow-intel==2.16.1->tensorflow) (0.1.2)\n",
      "2024-08-28 15:07:02,338 - INFO - Command 'install tensorflow' executed successfully.\n",
      "2024-08-28 15:07:02,339 - INFO - tensorflow installed successfully.\n",
      "2024-08-28 15:07:02,339 - INFO - Installing library scikit-learn...\n",
      "2024-08-28 15:07:02,339 - INFO - Running pip command: install scikit-learn\n",
      "Requirement already satisfied: scikit-learn in d:\\virtualenv\\myenv\\lib\\site-packages (1.5.0)\n",
      "Requirement already satisfied: numpy>=1.19.5 in d:\\virtualenv\\myenv\\lib\\site-packages (from scikit-learn) (1.26.3)\n",
      "Requirement already satisfied: scipy>=1.6.0 in d:\\virtualenv\\myenv\\lib\\site-packages (from scikit-learn) (1.14.0)\n",
      "Requirement already satisfied: joblib>=1.2.0 in d:\\virtualenv\\myenv\\lib\\site-packages (from scikit-learn) (1.4.2)\n",
      "Requirement already satisfied: threadpoolctl>=3.1.0 in d:\\virtualenv\\myenv\\lib\\site-packages (from scikit-learn) (3.5.0)\n",
      "2024-08-28 15:07:03,519 - INFO - Command 'install scikit-learn' executed successfully.\n",
      "2024-08-28 15:07:03,519 - INFO - scikit-learn installed successfully.\n",
      "2024-08-28 15:07:03,519 - INFO - Installing library openpyxl...\n",
      "2024-08-28 15:07:03,519 - INFO - Running pip command: install openpyxl\n",
      "Requirement already satisfied: openpyxl in d:\\virtualenv\\myenv\\lib\\site-packages (3.1.5)\n",
      "Requirement already satisfied: et-xmlfile in d:\\virtualenv\\myenv\\lib\\site-packages (from openpyxl) (1.1.0)\n",
      "2024-08-28 15:07:04,642 - INFO - Command 'install openpyxl' executed successfully.\n",
      "2024-08-28 15:07:04,643 - INFO - openpyxl installed successfully.\n",
      "2024-08-28 15:07:04,643 - INFO - Installation of all libraries completed!\n"
     ]
    }
   ],
   "source": [
    "!python libraries.py"
   ]
  },
  {
   "cell_type": "code",
   "execution_count": 2,
   "id": "e880fca5-1b37-4969-93bb-585cc6672878",
   "metadata": {},
   "outputs": [
    {
     "name": "stdout",
     "output_type": "stream",
     "text": [
      "WARNING:tensorflow:From C:\\Users\\giorg\\AppData\\Local\\Temp\\ipykernel_12660\\3326022288.py:2: is_gpu_available (from tensorflow.python.framework.test_util) is deprecated and will be removed in a future version.\n",
      "Instructions for updating:\n",
      "Use `tf.config.list_physical_devices('GPU')` instead.\n"
     ]
    },
    {
     "data": {
      "text/plain": [
       "False"
      ]
     },
     "execution_count": 2,
     "metadata": {},
     "output_type": "execute_result"
    }
   ],
   "source": [
    "import tensorflow as tf\n",
    "tf.test.is_gpu_available()"
   ]
  },
  {
   "cell_type": "code",
   "execution_count": 3,
   "id": "d1be1196-e388-45a1-a294-b65da9780bbe",
   "metadata": {},
   "outputs": [
    {
     "name": "stdout",
     "output_type": "stream",
     "text": [
      "[name: \"/device:CPU:0\"\n",
      "device_type: \"CPU\"\n",
      "memory_limit: 268435456\n",
      "locality {\n",
      "}\n",
      "incarnation: 6244120110601901947\n",
      "xla_global_id: -1\n",
      "]\n"
     ]
    }
   ],
   "source": [
    "from tensorflow.python.client import device_lib\n",
    "print(device_lib.list_local_devices())"
   ]
  },
  {
   "cell_type": "code",
   "execution_count": 4,
   "id": "dd9d84a2-0b55-49f0-a04e-6c4f3023b3df",
   "metadata": {},
   "outputs": [],
   "source": [
    "import os\n",
    "import pandas as pd\n",
    "import numpy as np\n",
    "import utils"
   ]
  },
  {
   "cell_type": "code",
   "execution_count": 5,
   "id": "5eacef2b-0926-4815-90da-74a39311109f",
   "metadata": {},
   "outputs": [],
   "source": [
    "data_dir = './data'\n",
    "measurement_data_dir = f'{data_dir}/measurement'\n",
    "os.listdir(measurement_data_dir)\n",
    "\n",
    "trips_dir = os.path.join(measurement_data_dir, 'trips')\n",
    "os.listdir(trips_dir)\n",
    "\n",
    "csvs_list = [f for f in os.listdir(trips_dir) if f.endswith('.csv')]\n",
    "trips = utils.csvs2dfs(\n",
    "    trips_dir=trips_dir, \n",
    "    csvs_list=csvs_list\n",
    ")\n",
    "\n",
    "for i in range(len(trips)):\n",
    "    trips[i].columns = [col.replace('_', '') for col in trips[i].columns]\n",
    "\n",
    "bounds_SOC = utils.data_cleaning(\n",
    "    dfs=trips,\n",
    "    steady_cols_to_drop=['minSoC', 'maxSoC']\n",
    ")\n",
    "\n",
    "min_SOC = bounds_SOC[0]\n",
    "max_SOC = bounds_SOC[1]"
   ]
  },
  {
   "cell_type": "code",
   "execution_count": 6,
   "id": "dd1bb579-f9ac-4454-afa6-1968069a9011",
   "metadata": {
    "scrolled": true
   },
   "outputs": [
    {
     "data": {
      "text/plain": [
       "[(10090,),\n",
       " (14130,),\n",
       " (6706,),\n",
       " (4124,),\n",
       " (13667,),\n",
       " (31645,),\n",
       " (20933,),\n",
       " (28059,),\n",
       " (18344,),\n",
       " (14176,),\n",
       " (14245,),\n",
       " (16384,),\n",
       " (7160,),\n",
       " (6946,),\n",
       " (22348,),\n",
       " (19066,),\n",
       " (6687,),\n",
       " (8808,),\n",
       " (15876,),\n",
       " (17196,),\n",
       " (19829,),\n",
       " (18388,),\n",
       " (10426,),\n",
       " (5322,),\n",
       " (7627,),\n",
       " (16122,),\n",
       " (20005,),\n",
       " (17436,),\n",
       " (13390,),\n",
       " (13974,),\n",
       " (11870,),\n",
       " (16722,),\n",
       " (32518,),\n",
       " (16113,),\n",
       " (15794,),\n",
       " (29550,),\n",
       " (10195,),\n",
       " (13521,),\n",
       " (22899,),\n",
       " (29140,),\n",
       " (56102,),\n",
       " (20233,),\n",
       " (7534,),\n",
       " (32256,),\n",
       " (3545,),\n",
       " (38220,),\n",
       " (18223,),\n",
       " (15286,),\n",
       " (15610,),\n",
       " (11095,),\n",
       " (11911,),\n",
       " (14029,),\n",
       " (10397,),\n",
       " (11993,),\n",
       " (11133,),\n",
       " (9780,),\n",
       " (10219,),\n",
       " (8050,),\n",
       " (14690,),\n",
       " (13665,),\n",
       " (9686,),\n",
       " (9209,),\n",
       " (10969,),\n",
       " (7958,),\n",
       " (5480,),\n",
       " (7338,),\n",
       " (13626,),\n",
       " (28523,),\n",
       " (14173,),\n",
       " (16429,)]"
      ]
     },
     "execution_count": 6,
     "metadata": {},
     "output_type": "execute_result"
    }
   ],
   "source": [
    "# Target value\n",
    "y = []\n",
    "for i in range(len(trips)):\n",
    "    yd = trips[i]['SoC'].values\n",
    "    # drop della colonna poiche' ho gia' salvato i valori in y_train cosi' da rendere piu' semplice la costruzione di X_train\n",
    "    trips[i].drop(['SoC'], axis=1, inplace=True)\n",
    "    y.append(yd)\n",
    "\n",
    "y_shapes = []\n",
    "for i in range(len(y)):\n",
    "    y_shapes.append(y[i].shape)\n",
    "y_shapes"
   ]
  },
  {
   "cell_type": "code",
   "execution_count": 7,
   "id": "090ee3b6-fa13-4304-b826-a1c5d9d67ead",
   "metadata": {
    "scrolled": true
   },
   "outputs": [
    {
     "data": {
      "text/plain": [
       "[(10090, 19),\n",
       " (14130, 19),\n",
       " (6706, 19),\n",
       " (4124, 19),\n",
       " (13667, 19),\n",
       " (31645, 19),\n",
       " (20933, 19),\n",
       " (28059, 19),\n",
       " (18344, 19),\n",
       " (14176, 19),\n",
       " (14245, 19),\n",
       " (16384, 19),\n",
       " (7160, 19),\n",
       " (6946, 19),\n",
       " (22348, 19),\n",
       " (19066, 19),\n",
       " (6687, 19),\n",
       " (8808, 19),\n",
       " (15876, 19),\n",
       " (17196, 19),\n",
       " (19829, 19),\n",
       " (18388, 19),\n",
       " (10426, 19),\n",
       " (5322, 19),\n",
       " (7627, 19),\n",
       " (16122, 19),\n",
       " (20005, 19),\n",
       " (17436, 19),\n",
       " (13390, 19),\n",
       " (13974, 19),\n",
       " (11870, 19),\n",
       " (16722, 19),\n",
       " (32518, 19),\n",
       " (16113, 19),\n",
       " (15794, 19),\n",
       " (29550, 19),\n",
       " (10195, 19),\n",
       " (13521, 19),\n",
       " (22899, 19),\n",
       " (29140, 19),\n",
       " (56102, 19),\n",
       " (20233, 19),\n",
       " (7534, 19),\n",
       " (32256, 19),\n",
       " (3545, 19),\n",
       " (38220, 19),\n",
       " (18223, 19),\n",
       " (15286, 19),\n",
       " (15610, 19),\n",
       " (11095, 19),\n",
       " (11911, 19),\n",
       " (14029, 19),\n",
       " (10397, 19),\n",
       " (11993, 19),\n",
       " (11133, 19),\n",
       " (9780, 19),\n",
       " (10219, 19),\n",
       " (8050, 19),\n",
       " (14690, 19),\n",
       " (13665, 19),\n",
       " (9686, 19),\n",
       " (9209, 19),\n",
       " (10969, 19),\n",
       " (7958, 19),\n",
       " (5480, 19),\n",
       " (7338, 19),\n",
       " (13626, 19),\n",
       " (28523, 19),\n",
       " (14173, 19),\n",
       " (16429, 19)]"
      ]
     },
     "execution_count": 7,
     "metadata": {},
     "output_type": "execute_result"
    }
   ],
   "source": [
    "# Feature data\n",
    "X = []\n",
    "for i in range(len(trips)):\n",
    "    xd = trips[i].values\n",
    "    X.append(xd)\n",
    "\n",
    "X_shapes = []\n",
    "for i in range(len(X)):\n",
    "    X_shapes.append(X[i].shape)\n",
    "X_shapes"
   ]
  },
  {
   "cell_type": "code",
   "execution_count": 8,
   "id": "97c25e31-a2f1-4459-b0ed-b1c8fc80de66",
   "metadata": {
    "scrolled": true
   },
   "outputs": [
    {
     "data": {
      "text/plain": [
       "[(10090, 19),\n",
       " (14130, 19),\n",
       " (6706, 19),\n",
       " (4124, 19),\n",
       " (13667, 19),\n",
       " (31645, 19),\n",
       " (20933, 19),\n",
       " (28059, 19),\n",
       " (18344, 19),\n",
       " (14176, 19),\n",
       " (14245, 19),\n",
       " (16384, 19),\n",
       " (7160, 19),\n",
       " (6946, 19),\n",
       " (22348, 19),\n",
       " (19066, 19),\n",
       " (6687, 19),\n",
       " (8808, 19),\n",
       " (15876, 19),\n",
       " (17196, 19),\n",
       " (19829, 19),\n",
       " (18388, 19),\n",
       " (10426, 19),\n",
       " (5322, 19),\n",
       " (7627, 19),\n",
       " (16122, 19),\n",
       " (20005, 19),\n",
       " (17436, 19),\n",
       " (13390, 19),\n",
       " (13974, 19),\n",
       " (11870, 19),\n",
       " (16722, 19),\n",
       " (32518, 19),\n",
       " (16113, 19),\n",
       " (15794, 19),\n",
       " (29550, 19),\n",
       " (10195, 19),\n",
       " (13521, 19),\n",
       " (22899, 19),\n",
       " (29140, 19),\n",
       " (56102, 19),\n",
       " (20233, 19),\n",
       " (7534, 19),\n",
       " (32256, 19),\n",
       " (3545, 19),\n",
       " (38220, 19),\n",
       " (18223, 19),\n",
       " (15286, 19),\n",
       " (15610, 19),\n",
       " (11095, 19),\n",
       " (11911, 19),\n",
       " (14029, 19),\n",
       " (10397, 19),\n",
       " (11993, 19),\n",
       " (11133, 19),\n",
       " (9780, 19),\n",
       " (10219, 19),\n",
       " (8050, 19),\n",
       " (14690, 19),\n",
       " (13665, 19),\n",
       " (9686, 19),\n",
       " (9209, 19),\n",
       " (10969, 19),\n",
       " (7958, 19),\n",
       " (5480, 19),\n",
       " (7338, 19),\n",
       " (13626, 19),\n",
       " (28523, 19),\n",
       " (14173, 19),\n",
       " (16429, 19)]"
      ]
     },
     "execution_count": 8,
     "metadata": {},
     "output_type": "execute_result"
    }
   ],
   "source": [
    "# Normalizzazione delle feature\n",
    "from sklearn.preprocessing import StandardScaler\n",
    "\n",
    "scaler = StandardScaler()\n",
    "normalized_X = []\n",
    "for i in range(len(X)):\n",
    "    nx = scaler.fit_transform(X[i])\n",
    "    normalized_X.append(nx)\n",
    "\n",
    "normalized_X_shapes = []\n",
    "for i in range(len(normalized_X)):\n",
    "    normalized_X_shapes.append(normalized_X[i].shape)\n",
    "normalized_X_shapes"
   ]
  },
  {
   "cell_type": "code",
   "execution_count": 9,
   "id": "79e7dd79-b01a-4d75-9cb9-f0af1d5a9398",
   "metadata": {},
   "outputs": [
    {
     "name": "stdout",
     "output_type": "stream",
     "text": [
      "len(val_dataset_idx) = 14\n"
     ]
    },
    {
     "data": {
      "text/plain": [
       "array([15, 16, 16, 16, 17, 23, 36, 38, 40, 43, 49, 50, 54, 62])"
      ]
     },
     "execution_count": 9,
     "metadata": {},
     "output_type": "execute_result"
    }
   ],
   "source": [
    "# array di indici random per la scelta dei trip da utilizzare per la validation\n",
    "val_dataset_perc = .2\n",
    "val_dataset_dim = int(val_dataset_perc * len(normalized_X))\n",
    "val_dataset_idx = np.random.randint(low=0, high=len(normalized_X), size=val_dataset_dim)\n",
    "print(f'len(val_dataset_idx) = {len(val_dataset_idx)}')\n",
    "val_dataset_idx.sort()\n",
    "val_dataset_idx"
   ]
  },
  {
   "cell_type": "code",
   "execution_count": 10,
   "id": "14ffd7e8-9459-4740-b897-707202fd9e83",
   "metadata": {},
   "outputs": [],
   "source": [
    "# array di indici random per la scelta dei trip rimanenti\n",
    "all_dataset_idx = np.arange(start=0, stop=len(normalized_X), step=1)\n",
    "all_dataset_idx = np.array(list(set(all_dataset_idx) - set(val_dataset_idx)))"
   ]
  },
  {
   "cell_type": "code",
   "execution_count": 11,
   "id": "36077931-3aeb-4231-a21d-1b86a541a2f8",
   "metadata": {},
   "outputs": [
    {
     "name": "stdout",
     "output_type": "stream",
     "text": [
      "len(test_dataset_idx) = 2\n"
     ]
    },
    {
     "data": {
      "text/plain": [
       "array([ 1, 51])"
      ]
     },
     "execution_count": 11,
     "metadata": {},
     "output_type": "execute_result"
    }
   ],
   "source": [
    "# array di indici random per la scelta dei trip da utilizzare per il testing\n",
    "test_dataset_perc = .05\n",
    "test_dataset_dim = int(test_dataset_perc * len(all_dataset_idx))\n",
    "test_dataset_idx = np.random.randint(low=0, high=len(all_dataset_idx), size=test_dataset_dim)\n",
    "print(f'len(test_dataset_idx) = {len(test_dataset_idx)}')\n",
    "test_dataset_idx.sort()\n",
    "test_dataset_idx"
   ]
  },
  {
   "cell_type": "code",
   "execution_count": 12,
   "id": "25cf7d7f-c0e4-4f1c-8235-2b1b60e3619d",
   "metadata": {},
   "outputs": [
    {
     "name": "stdout",
     "output_type": "stream",
     "text": [
      "len(train_dataset_idx) = 56\n"
     ]
    },
    {
     "data": {
      "text/plain": [
       "array([ 0,  2,  3,  4,  5,  6,  7,  8,  9, 10, 11, 12, 13, 14, 18, 19, 20,\n",
       "       21, 22, 24, 25, 26, 27, 28, 29, 30, 31, 32, 33, 34, 35, 37, 39, 41,\n",
       "       42, 44, 45, 46, 47, 48, 52, 53, 55, 56, 57, 58, 59, 60, 61, 63, 64,\n",
       "       65, 66, 67, 68, 69])"
      ]
     },
     "execution_count": 12,
     "metadata": {},
     "output_type": "execute_result"
    }
   ],
   "source": [
    "# array di indici random per la scelta dei trip da utilizzare per il training\n",
    "train_dataset_idx = np.array(list(set(all_dataset_idx) - set(test_dataset_idx)))\n",
    "print(f'len(train_dataset_idx) = {len(train_dataset_idx)}')\n",
    "train_dataset_idx.sort()\n",
    "train_dataset_idx"
   ]
  },
  {
   "cell_type": "code",
   "execution_count": 13,
   "id": "27d451ad-67da-4616-978b-6f940ea74f44",
   "metadata": {},
   "outputs": [],
   "source": [
    "data_idx_path = './data_idx'\n",
    "\n",
    "# Salvataggio degli indici da utilizzare successivamente per il training\n",
    "train_dataset_idx_filename = 'train_dataset_idx.txt'\n",
    "with open(f'./{data_idx_path}/{train_dataset_idx_filename}', 'w') as file:\n",
    "    for i in range(len(train_dataset_idx)):\n",
    "        file.write(f\"{train_dataset_idx[i]}\\n\")\n",
    "\n",
    "# Salvataggio degli indici da utilizzare successivamente per la validation\n",
    "val_dataset_idx_filename = 'val_dataset_idx.txt'\n",
    "with open(f'./{data_idx_path}/{val_dataset_idx_filename}', 'w') as file:\n",
    "    for i in range(len(val_dataset_idx)):\n",
    "        file.write(f\"{val_dataset_idx[i]}\\n\")\n",
    "\n",
    "# Salvataggio degli indici da utilizzare successivamente per il testing\n",
    "test_dataset_idx_filename = 'test_dataset_idx.txt'\n",
    "with open(f'./{data_idx_path}/{test_dataset_idx_filename}', 'w') as file:\n",
    "    for i in range(len(test_dataset_idx)):\n",
    "        file.write(f\"{test_dataset_idx[i]}\\n\")"
   ]
  },
  {
   "cell_type": "code",
   "execution_count": 14,
   "id": "137bdec7-420b-4527-9dae-aed241ec7a12",
   "metadata": {},
   "outputs": [],
   "source": [
    "# FNN parameters\n",
    "no_features = normalized_X[0].shape[1]\n",
    "no_responses = 1\n",
    "no_hidden_units = 55\n",
    "\n",
    "epochs = 10\n",
    "no_training = 3\n",
    "batch_size = 64"
   ]
  },
  {
   "cell_type": "code",
   "execution_count": 15,
   "id": "2fee1bcf-9dd5-4dbc-8d46-393201310a71",
   "metadata": {},
   "outputs": [],
   "source": [
    "from tensorflow import keras\n",
    "from tensorflow.keras import layers\n",
    "from custom import CustomLeakyReLU, CustomClippedReLU"
   ]
  },
  {
   "cell_type": "code",
   "execution_count": 16,
   "id": "702cc4a4-46a9-4291-9d55-66a3e17fca89",
   "metadata": {},
   "outputs": [],
   "source": [
    "model = keras.Sequential([\n",
    "    layers.Input(shape=(no_features,)),\n",
    "    layers.Dense(\n",
    "        no_hidden_units,\n",
    "        activation=keras.activations.tanh\n",
    "    ),\n",
    "    layers.Dense(\n",
    "        no_hidden_units,\n",
    "        activation=CustomLeakyReLU(negative_slope=0.3)\n",
    "    ),\n",
    "    layers.Dense(\n",
    "        no_responses,\n",
    "        activation=CustomClippedReLU()\n",
    "    )\n",
    "])"
   ]
  },
  {
   "cell_type": "code",
   "execution_count": 17,
   "id": "36b2348c-fe7b-43be-837f-5c3641244d92",
   "metadata": {},
   "outputs": [],
   "source": [
    "lr_schedule = keras.optimizers.schedules.ExponentialDecay(\n",
    "    initial_learning_rate=0.01,\n",
    "    decay_steps=20000,\n",
    "    decay_rate=0.9,\n",
    "    staircase=False\n",
    ")\n",
    "\n",
    "optimizer = keras.optimizers.SGD(\n",
    "    learning_rate=lr_schedule\n",
    ")"
   ]
  },
  {
   "cell_type": "code",
   "execution_count": 18,
   "id": "4975c160-683a-4cda-baf6-c971e070d78e",
   "metadata": {},
   "outputs": [],
   "source": [
    "model.compile(\n",
    "    optimizer=optimizer,\n",
    "    loss='mse'\n",
    ")"
   ]
  },
  {
   "cell_type": "code",
   "execution_count": 19,
   "id": "7e54feca-95aa-4059-9c0b-db518d80c0d3",
   "metadata": {},
   "outputs": [
    {
     "data": {
      "text/html": [
       "<pre style=\"white-space:pre;overflow-x:auto;line-height:normal;font-family:Menlo,'DejaVu Sans Mono',consolas,'Courier New',monospace\"><span style=\"font-weight: bold\">Model: \"sequential\"</span>\n",
       "</pre>\n"
      ],
      "text/plain": [
       "\u001b[1mModel: \"sequential\"\u001b[0m\n"
      ]
     },
     "metadata": {},
     "output_type": "display_data"
    },
    {
     "data": {
      "text/html": [
       "<pre style=\"white-space:pre;overflow-x:auto;line-height:normal;font-family:Menlo,'DejaVu Sans Mono',consolas,'Courier New',monospace\">┏━━━━━━━━━━━━━━━━━━━━━━━━━━━━━━━━━━━━━━┳━━━━━━━━━━━━━━━━━━━━━━━━━━━━━┳━━━━━━━━━━━━━━━━━┓\n",
       "┃<span style=\"font-weight: bold\"> Layer (type)                         </span>┃<span style=\"font-weight: bold\"> Output Shape                </span>┃<span style=\"font-weight: bold\">         Param # </span>┃\n",
       "┡━━━━━━━━━━━━━━━━━━━━━━━━━━━━━━━━━━━━━━╇━━━━━━━━━━━━━━━━━━━━━━━━━━━━━╇━━━━━━━━━━━━━━━━━┩\n",
       "│ dense (<span style=\"color: #0087ff; text-decoration-color: #0087ff\">Dense</span>)                        │ (<span style=\"color: #00d7ff; text-decoration-color: #00d7ff\">None</span>, <span style=\"color: #00af00; text-decoration-color: #00af00\">55</span>)                  │           <span style=\"color: #00af00; text-decoration-color: #00af00\">1,100</span> │\n",
       "├──────────────────────────────────────┼─────────────────────────────┼─────────────────┤\n",
       "│ dense_1 (<span style=\"color: #0087ff; text-decoration-color: #0087ff\">Dense</span>)                      │ (<span style=\"color: #00d7ff; text-decoration-color: #00d7ff\">None</span>, <span style=\"color: #00af00; text-decoration-color: #00af00\">55</span>)                  │           <span style=\"color: #00af00; text-decoration-color: #00af00\">3,080</span> │\n",
       "├──────────────────────────────────────┼─────────────────────────────┼─────────────────┤\n",
       "│ dense_2 (<span style=\"color: #0087ff; text-decoration-color: #0087ff\">Dense</span>)                      │ (<span style=\"color: #00d7ff; text-decoration-color: #00d7ff\">None</span>, <span style=\"color: #00af00; text-decoration-color: #00af00\">1</span>)                   │              <span style=\"color: #00af00; text-decoration-color: #00af00\">56</span> │\n",
       "└──────────────────────────────────────┴─────────────────────────────┴─────────────────┘\n",
       "</pre>\n"
      ],
      "text/plain": [
       "┏━━━━━━━━━━━━━━━━━━━━━━━━━━━━━━━━━━━━━━┳━━━━━━━━━━━━━━━━━━━━━━━━━━━━━┳━━━━━━━━━━━━━━━━━┓\n",
       "┃\u001b[1m \u001b[0m\u001b[1mLayer (type)                        \u001b[0m\u001b[1m \u001b[0m┃\u001b[1m \u001b[0m\u001b[1mOutput Shape               \u001b[0m\u001b[1m \u001b[0m┃\u001b[1m \u001b[0m\u001b[1m        Param #\u001b[0m\u001b[1m \u001b[0m┃\n",
       "┡━━━━━━━━━━━━━━━━━━━━━━━━━━━━━━━━━━━━━━╇━━━━━━━━━━━━━━━━━━━━━━━━━━━━━╇━━━━━━━━━━━━━━━━━┩\n",
       "│ dense (\u001b[38;5;33mDense\u001b[0m)                        │ (\u001b[38;5;45mNone\u001b[0m, \u001b[38;5;34m55\u001b[0m)                  │           \u001b[38;5;34m1,100\u001b[0m │\n",
       "├──────────────────────────────────────┼─────────────────────────────┼─────────────────┤\n",
       "│ dense_1 (\u001b[38;5;33mDense\u001b[0m)                      │ (\u001b[38;5;45mNone\u001b[0m, \u001b[38;5;34m55\u001b[0m)                  │           \u001b[38;5;34m3,080\u001b[0m │\n",
       "├──────────────────────────────────────┼─────────────────────────────┼─────────────────┤\n",
       "│ dense_2 (\u001b[38;5;33mDense\u001b[0m)                      │ (\u001b[38;5;45mNone\u001b[0m, \u001b[38;5;34m1\u001b[0m)                   │              \u001b[38;5;34m56\u001b[0m │\n",
       "└──────────────────────────────────────┴─────────────────────────────┴─────────────────┘\n"
      ]
     },
     "metadata": {},
     "output_type": "display_data"
    },
    {
     "data": {
      "text/html": [
       "<pre style=\"white-space:pre;overflow-x:auto;line-height:normal;font-family:Menlo,'DejaVu Sans Mono',consolas,'Courier New',monospace\"><span style=\"font-weight: bold\"> Total params: </span><span style=\"color: #00af00; text-decoration-color: #00af00\">4,236</span> (16.55 KB)\n",
       "</pre>\n"
      ],
      "text/plain": [
       "\u001b[1m Total params: \u001b[0m\u001b[38;5;34m4,236\u001b[0m (16.55 KB)\n"
      ]
     },
     "metadata": {},
     "output_type": "display_data"
    },
    {
     "data": {
      "text/html": [
       "<pre style=\"white-space:pre;overflow-x:auto;line-height:normal;font-family:Menlo,'DejaVu Sans Mono',consolas,'Courier New',monospace\"><span style=\"font-weight: bold\"> Trainable params: </span><span style=\"color: #00af00; text-decoration-color: #00af00\">4,236</span> (16.55 KB)\n",
       "</pre>\n"
      ],
      "text/plain": [
       "\u001b[1m Trainable params: \u001b[0m\u001b[38;5;34m4,236\u001b[0m (16.55 KB)\n"
      ]
     },
     "metadata": {},
     "output_type": "display_data"
    },
    {
     "data": {
      "text/html": [
       "<pre style=\"white-space:pre;overflow-x:auto;line-height:normal;font-family:Menlo,'DejaVu Sans Mono',consolas,'Courier New',monospace\"><span style=\"font-weight: bold\"> Non-trainable params: </span><span style=\"color: #00af00; text-decoration-color: #00af00\">0</span> (0.00 B)\n",
       "</pre>\n"
      ],
      "text/plain": [
       "\u001b[1m Non-trainable params: \u001b[0m\u001b[38;5;34m0\u001b[0m (0.00 B)\n"
      ]
     },
     "metadata": {},
     "output_type": "display_data"
    }
   ],
   "source": [
    "model.summary()"
   ]
  },
  {
   "cell_type": "code",
   "execution_count": null,
   "id": "7b504d28-0341-4ca2-b616-f3380a27d4d8",
   "metadata": {},
   "outputs": [],
   "source": []
  }
 ],
 "metadata": {
  "kernelspec": {
   "display_name": "myenv",
   "language": "python",
   "name": "myenv"
  },
  "language_info": {
   "codemirror_mode": {
    "name": "ipython",
    "version": 3
   },
   "file_extension": ".py",
   "mimetype": "text/x-python",
   "name": "python",
   "nbconvert_exporter": "python",
   "pygments_lexer": "ipython3",
   "version": "3.11.1"
  }
 },
 "nbformat": 4,
 "nbformat_minor": 5
}
