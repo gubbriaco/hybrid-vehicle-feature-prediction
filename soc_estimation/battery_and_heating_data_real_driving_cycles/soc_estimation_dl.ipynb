{
 "cells": [
  {
   "cell_type": "code",
   "execution_count": 1,
   "id": "fc06d4e9-0bc9-4dca-9c81-22cca4113e8f",
   "metadata": {
    "scrolled": true
   },
   "outputs": [
    {
     "name": "stdout",
     "output_type": "stream",
     "text": [
      "2024-08-28 13:33:41,033 - INFO - Upgrading pip...\n",
      "2024-08-28 13:33:41,033 - INFO - Running pip command: install --upgrade pip\n",
      "Requirement already satisfied: pip in d:\\virtualenv\\myenv\\lib\\site-packages (24.2)\n",
      "2024-08-28 13:33:42,250 - INFO - Command 'install --upgrade pip' executed successfully.\n",
      "2024-08-28 13:33:42,506 - INFO - pip upgraded successfully.\n",
      "2024-08-28 13:33:42,506 - INFO - Installing library numpy...\n",
      "2024-08-28 13:33:42,506 - INFO - Running pip command: install numpy\n",
      "Requirement already satisfied: numpy in d:\\virtualenv\\myenv\\lib\\site-packages (1.26.3)\n",
      "2024-08-28 13:33:43,574 - INFO - Command 'install numpy' executed successfully.\n",
      "2024-08-28 13:33:43,574 - INFO - numpy installed successfully.\n",
      "2024-08-28 13:33:43,574 - INFO - Installing library pandas...\n",
      "2024-08-28 13:33:43,574 - INFO - Running pip command: install pandas\n",
      "Requirement already satisfied: pandas in d:\\virtualenv\\myenv\\lib\\site-packages (2.2.2)\n",
      "Requirement already satisfied: numpy>=1.23.2 in d:\\virtualenv\\myenv\\lib\\site-packages (from pandas) (1.26.3)\n",
      "Requirement already satisfied: python-dateutil>=2.8.2 in d:\\virtualenv\\myenv\\lib\\site-packages (from pandas) (2.9.0.post0)\n",
      "Requirement already satisfied: pytz>=2020.1 in d:\\virtualenv\\myenv\\lib\\site-packages (from pandas) (2024.1)\n",
      "Requirement already satisfied: tzdata>=2022.7 in d:\\virtualenv\\myenv\\lib\\site-packages (from pandas) (2024.1)\n",
      "Requirement already satisfied: six>=1.5 in d:\\virtualenv\\myenv\\lib\\site-packages (from python-dateutil>=2.8.2->pandas) (1.16.0)\n",
      "2024-08-28 13:33:44,666 - INFO - Command 'install pandas' executed successfully.\n",
      "2024-08-28 13:33:44,666 - INFO - pandas installed successfully.\n",
      "2024-08-28 13:33:44,666 - INFO - Installing library matplotlib...\n",
      "2024-08-28 13:33:44,666 - INFO - Running pip command: install matplotlib\n",
      "Requirement already satisfied: matplotlib in d:\\virtualenv\\myenv\\lib\\site-packages (3.9.0)\n",
      "Requirement already satisfied: contourpy>=1.0.1 in d:\\virtualenv\\myenv\\lib\\site-packages (from matplotlib) (1.2.1)\n",
      "Requirement already satisfied: cycler>=0.10 in d:\\virtualenv\\myenv\\lib\\site-packages (from matplotlib) (0.12.1)\n",
      "Requirement already satisfied: fonttools>=4.22.0 in d:\\virtualenv\\myenv\\lib\\site-packages (from matplotlib) (4.53.0)\n",
      "Requirement already satisfied: kiwisolver>=1.3.1 in d:\\virtualenv\\myenv\\lib\\site-packages (from matplotlib) (1.4.5)\n",
      "Requirement already satisfied: numpy>=1.23 in d:\\virtualenv\\myenv\\lib\\site-packages (from matplotlib) (1.26.3)\n",
      "Requirement already satisfied: packaging>=20.0 in d:\\virtualenv\\myenv\\lib\\site-packages (from matplotlib) (24.1)\n",
      "Requirement already satisfied: pillow>=8 in d:\\virtualenv\\myenv\\lib\\site-packages (from matplotlib) (10.2.0)\n",
      "Requirement already satisfied: pyparsing>=2.3.1 in d:\\virtualenv\\myenv\\lib\\site-packages (from matplotlib) (3.1.2)\n",
      "Requirement already satisfied: python-dateutil>=2.7 in d:\\virtualenv\\myenv\\lib\\site-packages (from matplotlib) (2.9.0.post0)\n",
      "Requirement already satisfied: six>=1.5 in d:\\virtualenv\\myenv\\lib\\site-packages (from python-dateutil>=2.7->matplotlib) (1.16.0)\n",
      "2024-08-28 13:33:45,740 - INFO - Command 'install matplotlib' executed successfully.\n",
      "2024-08-28 13:33:45,740 - INFO - matplotlib installed successfully.\n",
      "2024-08-28 13:33:45,740 - INFO - Installing library seaborn...\n",
      "2024-08-28 13:33:45,740 - INFO - Running pip command: install seaborn\n",
      "Requirement already satisfied: seaborn in d:\\virtualenv\\myenv\\lib\\site-packages (0.13.2)\n",
      "Requirement already satisfied: numpy!=1.24.0,>=1.20 in d:\\virtualenv\\myenv\\lib\\site-packages (from seaborn) (1.26.3)\n",
      "Requirement already satisfied: pandas>=1.2 in d:\\virtualenv\\myenv\\lib\\site-packages (from seaborn) (2.2.2)\n",
      "Requirement already satisfied: matplotlib!=3.6.1,>=3.4 in d:\\virtualenv\\myenv\\lib\\site-packages (from seaborn) (3.9.0)\n",
      "Requirement already satisfied: contourpy>=1.0.1 in d:\\virtualenv\\myenv\\lib\\site-packages (from matplotlib!=3.6.1,>=3.4->seaborn) (1.2.1)\n",
      "Requirement already satisfied: cycler>=0.10 in d:\\virtualenv\\myenv\\lib\\site-packages (from matplotlib!=3.6.1,>=3.4->seaborn) (0.12.1)\n",
      "Requirement already satisfied: fonttools>=4.22.0 in d:\\virtualenv\\myenv\\lib\\site-packages (from matplotlib!=3.6.1,>=3.4->seaborn) (4.53.0)\n",
      "Requirement already satisfied: kiwisolver>=1.3.1 in d:\\virtualenv\\myenv\\lib\\site-packages (from matplotlib!=3.6.1,>=3.4->seaborn) (1.4.5)\n",
      "Requirement already satisfied: packaging>=20.0 in d:\\virtualenv\\myenv\\lib\\site-packages (from matplotlib!=3.6.1,>=3.4->seaborn) (24.1)\n",
      "Requirement already satisfied: pillow>=8 in d:\\virtualenv\\myenv\\lib\\site-packages (from matplotlib!=3.6.1,>=3.4->seaborn) (10.2.0)\n",
      "Requirement already satisfied: pyparsing>=2.3.1 in d:\\virtualenv\\myenv\\lib\\site-packages (from matplotlib!=3.6.1,>=3.4->seaborn) (3.1.2)\n",
      "Requirement already satisfied: python-dateutil>=2.7 in d:\\virtualenv\\myenv\\lib\\site-packages (from matplotlib!=3.6.1,>=3.4->seaborn) (2.9.0.post0)\n",
      "Requirement already satisfied: pytz>=2020.1 in d:\\virtualenv\\myenv\\lib\\site-packages (from pandas>=1.2->seaborn) (2024.1)\n",
      "Requirement already satisfied: tzdata>=2022.7 in d:\\virtualenv\\myenv\\lib\\site-packages (from pandas>=1.2->seaborn) (2024.1)\n",
      "Requirement already satisfied: six>=1.5 in d:\\virtualenv\\myenv\\lib\\site-packages (from python-dateutil>=2.7->matplotlib!=3.6.1,>=3.4->seaborn) (1.16.0)\n",
      "2024-08-28 13:33:46,821 - INFO - Command 'install seaborn' executed successfully.\n",
      "2024-08-28 13:33:46,821 - INFO - seaborn installed successfully.\n",
      "2024-08-28 13:33:46,821 - INFO - Installing library tensorflow...\n",
      "2024-08-28 13:33:46,821 - INFO - Running pip command: install tensorflow\n",
      "Requirement already satisfied: tensorflow in d:\\virtualenv\\myenv\\lib\\site-packages (2.16.1)\n",
      "Requirement already satisfied: tensorflow-intel==2.16.1 in d:\\virtualenv\\myenv\\lib\\site-packages (from tensorflow) (2.16.1)\n",
      "Requirement already satisfied: absl-py>=1.0.0 in d:\\virtualenv\\myenv\\lib\\site-packages (from tensorflow-intel==2.16.1->tensorflow) (2.1.0)\n",
      "Requirement already satisfied: astunparse>=1.6.0 in d:\\virtualenv\\myenv\\lib\\site-packages (from tensorflow-intel==2.16.1->tensorflow) (1.6.3)\n",
      "Requirement already satisfied: flatbuffers>=23.5.26 in d:\\virtualenv\\myenv\\lib\\site-packages (from tensorflow-intel==2.16.1->tensorflow) (24.3.25)\n",
      "Requirement already satisfied: gast!=0.5.0,!=0.5.1,!=0.5.2,>=0.2.1 in d:\\virtualenv\\myenv\\lib\\site-packages (from tensorflow-intel==2.16.1->tensorflow) (0.5.4)\n",
      "Requirement already satisfied: google-pasta>=0.1.1 in d:\\virtualenv\\myenv\\lib\\site-packages (from tensorflow-intel==2.16.1->tensorflow) (0.2.0)\n",
      "Requirement already satisfied: h5py>=3.10.0 in d:\\virtualenv\\myenv\\lib\\site-packages (from tensorflow-intel==2.16.1->tensorflow) (3.11.0)\n",
      "Requirement already satisfied: libclang>=13.0.0 in d:\\virtualenv\\myenv\\lib\\site-packages (from tensorflow-intel==2.16.1->tensorflow) (18.1.1)\n",
      "Requirement already satisfied: ml-dtypes~=0.3.1 in d:\\virtualenv\\myenv\\lib\\site-packages (from tensorflow-intel==2.16.1->tensorflow) (0.3.2)\n",
      "Requirement already satisfied: opt-einsum>=2.3.2 in d:\\virtualenv\\myenv\\lib\\site-packages (from tensorflow-intel==2.16.1->tensorflow) (3.3.0)\n",
      "Requirement already satisfied: packaging in d:\\virtualenv\\myenv\\lib\\site-packages (from tensorflow-intel==2.16.1->tensorflow) (24.1)\n",
      "Requirement already satisfied: protobuf!=4.21.0,!=4.21.1,!=4.21.2,!=4.21.3,!=4.21.4,!=4.21.5,<5.0.0dev,>=3.20.3 in d:\\virtualenv\\myenv\\lib\\site-packages (from tensorflow-intel==2.16.1->tensorflow) (4.25.3)\n",
      "Requirement already satisfied: requests<3,>=2.21.0 in d:\\virtualenv\\myenv\\lib\\site-packages (from tensorflow-intel==2.16.1->tensorflow) (2.32.3)\n",
      "Requirement already satisfied: setuptools in d:\\virtualenv\\myenv\\lib\\site-packages (from tensorflow-intel==2.16.1->tensorflow) (70.1.0)\n",
      "Requirement already satisfied: six>=1.12.0 in d:\\virtualenv\\myenv\\lib\\site-packages (from tensorflow-intel==2.16.1->tensorflow) (1.16.0)\n",
      "Requirement already satisfied: termcolor>=1.1.0 in d:\\virtualenv\\myenv\\lib\\site-packages (from tensorflow-intel==2.16.1->tensorflow) (2.4.0)\n",
      "Requirement already satisfied: typing-extensions>=3.6.6 in d:\\virtualenv\\myenv\\lib\\site-packages (from tensorflow-intel==2.16.1->tensorflow) (4.12.2)\n",
      "Requirement already satisfied: wrapt>=1.11.0 in d:\\virtualenv\\myenv\\lib\\site-packages (from tensorflow-intel==2.16.1->tensorflow) (1.16.0)\n",
      "Requirement already satisfied: grpcio<2.0,>=1.24.3 in d:\\virtualenv\\myenv\\lib\\site-packages (from tensorflow-intel==2.16.1->tensorflow) (1.64.1)\n",
      "Requirement already satisfied: tensorboard<2.17,>=2.16 in d:\\virtualenv\\myenv\\lib\\site-packages (from tensorflow-intel==2.16.1->tensorflow) (2.16.2)\n",
      "Requirement already satisfied: keras>=3.0.0 in d:\\virtualenv\\myenv\\lib\\site-packages (from tensorflow-intel==2.16.1->tensorflow) (3.4.0)\n",
      "Requirement already satisfied: tensorflow-io-gcs-filesystem>=0.23.1 in d:\\virtualenv\\myenv\\lib\\site-packages (from tensorflow-intel==2.16.1->tensorflow) (0.31.0)\n",
      "Requirement already satisfied: numpy<2.0.0,>=1.23.5 in d:\\virtualenv\\myenv\\lib\\site-packages (from tensorflow-intel==2.16.1->tensorflow) (1.26.3)\n",
      "Requirement already satisfied: wheel<1.0,>=0.23.0 in d:\\virtualenv\\myenv\\lib\\site-packages (from astunparse>=1.6.0->tensorflow-intel==2.16.1->tensorflow) (0.43.0)\n",
      "Requirement already satisfied: rich in d:\\virtualenv\\myenv\\lib\\site-packages (from keras>=3.0.0->tensorflow-intel==2.16.1->tensorflow) (13.7.1)\n",
      "Requirement already satisfied: namex in d:\\virtualenv\\myenv\\lib\\site-packages (from keras>=3.0.0->tensorflow-intel==2.16.1->tensorflow) (0.0.8)\n",
      "Requirement already satisfied: optree in d:\\virtualenv\\myenv\\lib\\site-packages (from keras>=3.0.0->tensorflow-intel==2.16.1->tensorflow) (0.11.0)\n",
      "Requirement already satisfied: charset-normalizer<4,>=2 in d:\\virtualenv\\myenv\\lib\\site-packages (from requests<3,>=2.21.0->tensorflow-intel==2.16.1->tensorflow) (3.3.2)\n",
      "Requirement already satisfied: idna<4,>=2.5 in d:\\virtualenv\\myenv\\lib\\site-packages (from requests<3,>=2.21.0->tensorflow-intel==2.16.1->tensorflow) (3.7)\n",
      "Requirement already satisfied: urllib3<3,>=1.21.1 in d:\\virtualenv\\myenv\\lib\\site-packages (from requests<3,>=2.21.0->tensorflow-intel==2.16.1->tensorflow) (2.2.2)\n",
      "Requirement already satisfied: certifi>=2017.4.17 in d:\\virtualenv\\myenv\\lib\\site-packages (from requests<3,>=2.21.0->tensorflow-intel==2.16.1->tensorflow) (2024.6.2)\n",
      "Requirement already satisfied: markdown>=2.6.8 in d:\\virtualenv\\myenv\\lib\\site-packages (from tensorboard<2.17,>=2.16->tensorflow-intel==2.16.1->tensorflow) (3.6)\n",
      "Requirement already satisfied: tensorboard-data-server<0.8.0,>=0.7.0 in d:\\virtualenv\\myenv\\lib\\site-packages (from tensorboard<2.17,>=2.16->tensorflow-intel==2.16.1->tensorflow) (0.7.2)\n",
      "Requirement already satisfied: werkzeug>=1.0.1 in d:\\virtualenv\\myenv\\lib\\site-packages (from tensorboard<2.17,>=2.16->tensorflow-intel==2.16.1->tensorflow) (3.0.3)\n",
      "Requirement already satisfied: MarkupSafe>=2.1.1 in d:\\virtualenv\\myenv\\lib\\site-packages (from werkzeug>=1.0.1->tensorboard<2.17,>=2.16->tensorflow-intel==2.16.1->tensorflow) (2.1.5)\n",
      "Requirement already satisfied: markdown-it-py>=2.2.0 in d:\\virtualenv\\myenv\\lib\\site-packages (from rich->keras>=3.0.0->tensorflow-intel==2.16.1->tensorflow) (3.0.0)\n",
      "Requirement already satisfied: pygments<3.0.0,>=2.13.0 in d:\\virtualenv\\myenv\\lib\\site-packages (from rich->keras>=3.0.0->tensorflow-intel==2.16.1->tensorflow) (2.18.0)\n",
      "Requirement already satisfied: mdurl~=0.1 in d:\\virtualenv\\myenv\\lib\\site-packages (from markdown-it-py>=2.2.0->rich->keras>=3.0.0->tensorflow-intel==2.16.1->tensorflow) (0.1.2)\n",
      "2024-08-28 13:33:47,966 - INFO - Command 'install tensorflow' executed successfully.\n",
      "2024-08-28 13:33:47,966 - INFO - tensorflow installed successfully.\n",
      "2024-08-28 13:33:47,966 - INFO - Installing library scikit-learn...\n",
      "2024-08-28 13:33:47,966 - INFO - Running pip command: install scikit-learn\n",
      "Requirement already satisfied: scikit-learn in d:\\virtualenv\\myenv\\lib\\site-packages (1.5.0)\n",
      "Requirement already satisfied: numpy>=1.19.5 in d:\\virtualenv\\myenv\\lib\\site-packages (from scikit-learn) (1.26.3)\n",
      "Requirement already satisfied: scipy>=1.6.0 in d:\\virtualenv\\myenv\\lib\\site-packages (from scikit-learn) (1.14.0)\n",
      "Requirement already satisfied: joblib>=1.2.0 in d:\\virtualenv\\myenv\\lib\\site-packages (from scikit-learn) (1.4.2)\n",
      "Requirement already satisfied: threadpoolctl>=3.1.0 in d:\\virtualenv\\myenv\\lib\\site-packages (from scikit-learn) (3.5.0)\n",
      "2024-08-28 13:33:49,081 - INFO - Command 'install scikit-learn' executed successfully.\n",
      "2024-08-28 13:33:49,081 - INFO - scikit-learn installed successfully.\n",
      "2024-08-28 13:33:49,081 - INFO - Installing library openpyxl...\n",
      "2024-08-28 13:33:49,081 - INFO - Running pip command: install openpyxl\n",
      "Requirement already satisfied: openpyxl in d:\\virtualenv\\myenv\\lib\\site-packages (3.1.5)\n",
      "Requirement already satisfied: et-xmlfile in d:\\virtualenv\\myenv\\lib\\site-packages (from openpyxl) (1.1.0)\n",
      "2024-08-28 13:33:50,161 - INFO - Command 'install openpyxl' executed successfully.\n",
      "2024-08-28 13:33:50,161 - INFO - openpyxl installed successfully.\n",
      "2024-08-28 13:33:50,161 - INFO - Installation of all libraries completed!\n"
     ]
    }
   ],
   "source": [
    "!python libraries.py"
   ]
  },
  {
   "cell_type": "code",
   "execution_count": 2,
   "id": "e880fca5-1b37-4969-93bb-585cc6672878",
   "metadata": {},
   "outputs": [
    {
     "name": "stdout",
     "output_type": "stream",
     "text": [
      "WARNING:tensorflow:From C:\\Users\\giorg\\AppData\\Local\\Temp\\ipykernel_17256\\3326022288.py:2: is_gpu_available (from tensorflow.python.framework.test_util) is deprecated and will be removed in a future version.\n",
      "Instructions for updating:\n",
      "Use `tf.config.list_physical_devices('GPU')` instead.\n"
     ]
    },
    {
     "data": {
      "text/plain": [
       "False"
      ]
     },
     "execution_count": 2,
     "metadata": {},
     "output_type": "execute_result"
    }
   ],
   "source": [
    "import tensorflow as tf\n",
    "tf.test.is_gpu_available()"
   ]
  },
  {
   "cell_type": "code",
   "execution_count": 3,
   "id": "d1be1196-e388-45a1-a294-b65da9780bbe",
   "metadata": {},
   "outputs": [
    {
     "name": "stdout",
     "output_type": "stream",
     "text": [
      "[name: \"/device:CPU:0\"\n",
      "device_type: \"CPU\"\n",
      "memory_limit: 268435456\n",
      "locality {\n",
      "}\n",
      "incarnation: 16903437380112853314\n",
      "xla_global_id: -1\n",
      "]\n"
     ]
    }
   ],
   "source": [
    "from tensorflow.python.client import device_lib\n",
    "print(device_lib.list_local_devices())"
   ]
  },
  {
   "cell_type": "code",
   "execution_count": 4,
   "id": "dd9d84a2-0b55-49f0-a04e-6c4f3023b3df",
   "metadata": {},
   "outputs": [],
   "source": [
    "import os\n",
    "import pandas as pd\n",
    "import numpy as np\n",
    "import utils"
   ]
  },
  {
   "cell_type": "code",
   "execution_count": 5,
   "id": "5eacef2b-0926-4815-90da-74a39311109f",
   "metadata": {},
   "outputs": [],
   "source": [
    "data_dir = './data'\n",
    "measurement_data_dir = f'{data_dir}/measurement'\n",
    "os.listdir(measurement_data_dir)\n",
    "\n",
    "trips_dir = os.path.join(measurement_data_dir, 'trips')\n",
    "os.listdir(trips_dir)\n",
    "\n",
    "csvs_list = [f for f in os.listdir(trips_dir) if f.endswith('.csv')]\n",
    "trips = utils.csvs2dfs(\n",
    "    trips_dir=trips_dir, \n",
    "    csvs_list=csvs_list\n",
    ")\n",
    "\n",
    "for i in range(len(trips)):\n",
    "    trips[i].columns = [col.replace('_', '') for col in trips[i].columns]\n",
    "\n",
    "bounds_SOC = utils.data_cleaning(\n",
    "    dfs=trips,\n",
    "    steady_cols_to_drop=['minSoC', 'maxSoC']\n",
    ")\n",
    "\n",
    "min_SOC = bounds_SOC[0]\n",
    "max_SOC = bounds_SOC[1]"
   ]
  },
  {
   "cell_type": "code",
   "execution_count": 6,
   "id": "dd1bb579-f9ac-4454-afa6-1968069a9011",
   "metadata": {
    "scrolled": true
   },
   "outputs": [
    {
     "data": {
      "text/plain": [
       "[(10090,),\n",
       " (14130,),\n",
       " (6706,),\n",
       " (4124,),\n",
       " (13667,),\n",
       " (31645,),\n",
       " (20933,),\n",
       " (28059,),\n",
       " (18344,),\n",
       " (14176,),\n",
       " (14245,),\n",
       " (16384,),\n",
       " (7160,),\n",
       " (6946,),\n",
       " (22348,),\n",
       " (19066,),\n",
       " (6687,),\n",
       " (8808,),\n",
       " (15876,),\n",
       " (17196,),\n",
       " (19829,),\n",
       " (18388,),\n",
       " (10426,),\n",
       " (5322,),\n",
       " (7627,),\n",
       " (16122,),\n",
       " (20005,),\n",
       " (17436,),\n",
       " (13390,),\n",
       " (13974,),\n",
       " (11870,),\n",
       " (16722,),\n",
       " (32518,),\n",
       " (16113,),\n",
       " (15794,),\n",
       " (29550,),\n",
       " (10195,),\n",
       " (13521,),\n",
       " (22899,),\n",
       " (29140,),\n",
       " (56102,),\n",
       " (20233,),\n",
       " (7534,),\n",
       " (32256,),\n",
       " (3545,),\n",
       " (38220,),\n",
       " (18223,),\n",
       " (15286,),\n",
       " (15610,),\n",
       " (11095,),\n",
       " (11911,),\n",
       " (14029,),\n",
       " (10397,),\n",
       " (11993,),\n",
       " (11133,),\n",
       " (9780,),\n",
       " (10219,),\n",
       " (8050,),\n",
       " (14690,),\n",
       " (13665,),\n",
       " (9686,),\n",
       " (9209,),\n",
       " (10969,),\n",
       " (7958,),\n",
       " (5480,),\n",
       " (7338,),\n",
       " (13626,),\n",
       " (28523,),\n",
       " (14173,),\n",
       " (16429,)]"
      ]
     },
     "execution_count": 6,
     "metadata": {},
     "output_type": "execute_result"
    }
   ],
   "source": [
    "y_train = []\n",
    "for i in range(len(trips)):\n",
    "    yt = trips[i]['SoC'].values\n",
    "    # drop della colonna poiche' ho gia' salvato i valori in y_train cosi' da rendere piu' semplice la costruzione di X_train\n",
    "    trips[i].drop(['SoC'], axis=1, inplace=True)\n",
    "    y_train.append(yt)\n",
    "\n",
    "y_train_shapes = []\n",
    "for i in range(len(y_train)):\n",
    "    y_train_shapes.append(y_train[i].shape)\n",
    "y_train_shapes"
   ]
  },
  {
   "cell_type": "code",
   "execution_count": 7,
   "id": "41ab0e9a-0084-470a-acfe-7b40ec61714c",
   "metadata": {},
   "outputs": [
    {
     "data": {
      "text/plain": [
       "1094793"
      ]
     },
     "execution_count": 7,
     "metadata": {},
     "output_type": "execute_result"
    }
   ],
   "source": [
    "len_y_train_flatten = 0\n",
    "for i in range(len(y_train_shapes)):\n",
    "    len_y_train_flatten += y_train_shapes[i][0]\n",
    "len_y_train_flatten"
   ]
  },
  {
   "cell_type": "code",
   "execution_count": 8,
   "id": "30fa4fba-8683-4d80-864f-e076d0ab6bb7",
   "metadata": {},
   "outputs": [
    {
     "data": {
      "text/plain": [
       "array([86.9, 86.9, 86.9, ..., 48.8, 48.8, 48.8])"
      ]
     },
     "execution_count": 8,
     "metadata": {},
     "output_type": "execute_result"
    }
   ],
   "source": [
    "y_train_flatten = np.zeros(len_y_train_flatten)\n",
    "k = 0\n",
    "for i in range(len(y_train)):\n",
    "    yt = y_train[i]\n",
    "    for j in range(len(yt)):\n",
    "        y_train_flatten[k] = yt[j]\n",
    "        k = k+1\n",
    "y_train_flatten"
   ]
  },
  {
   "cell_type": "code",
   "execution_count": 9,
   "id": "090ee3b6-fa13-4304-b826-a1c5d9d67ead",
   "metadata": {
    "scrolled": true
   },
   "outputs": [
    {
     "data": {
      "text/plain": [
       "[(10090, 19),\n",
       " (14130, 19),\n",
       " (6706, 19),\n",
       " (4124, 19),\n",
       " (13667, 19),\n",
       " (31645, 19),\n",
       " (20933, 19),\n",
       " (28059, 19),\n",
       " (18344, 19),\n",
       " (14176, 19),\n",
       " (14245, 19),\n",
       " (16384, 19),\n",
       " (7160, 19),\n",
       " (6946, 19),\n",
       " (22348, 19),\n",
       " (19066, 19),\n",
       " (6687, 19),\n",
       " (8808, 19),\n",
       " (15876, 19),\n",
       " (17196, 19),\n",
       " (19829, 19),\n",
       " (18388, 19),\n",
       " (10426, 19),\n",
       " (5322, 19),\n",
       " (7627, 19),\n",
       " (16122, 19),\n",
       " (20005, 19),\n",
       " (17436, 19),\n",
       " (13390, 19),\n",
       " (13974, 19),\n",
       " (11870, 19),\n",
       " (16722, 19),\n",
       " (32518, 19),\n",
       " (16113, 19),\n",
       " (15794, 19),\n",
       " (29550, 19),\n",
       " (10195, 19),\n",
       " (13521, 19),\n",
       " (22899, 19),\n",
       " (29140, 19),\n",
       " (56102, 19),\n",
       " (20233, 19),\n",
       " (7534, 19),\n",
       " (32256, 19),\n",
       " (3545, 19),\n",
       " (38220, 19),\n",
       " (18223, 19),\n",
       " (15286, 19),\n",
       " (15610, 19),\n",
       " (11095, 19),\n",
       " (11911, 19),\n",
       " (14029, 19),\n",
       " (10397, 19),\n",
       " (11993, 19),\n",
       " (11133, 19),\n",
       " (9780, 19),\n",
       " (10219, 19),\n",
       " (8050, 19),\n",
       " (14690, 19),\n",
       " (13665, 19),\n",
       " (9686, 19),\n",
       " (9209, 19),\n",
       " (10969, 19),\n",
       " (7958, 19),\n",
       " (5480, 19),\n",
       " (7338, 19),\n",
       " (13626, 19),\n",
       " (28523, 19),\n",
       " (14173, 19),\n",
       " (16429, 19)]"
      ]
     },
     "execution_count": 9,
     "metadata": {},
     "output_type": "execute_result"
    }
   ],
   "source": [
    "X_train = []\n",
    "for i in range(len(trips)):\n",
    "    xt = trips[i].values\n",
    "    X_train.append(xt)\n",
    "\n",
    "X_train_shapes = []\n",
    "for i in range(len(X_train)):\n",
    "    X_train_shapes.append(X_train[i].shape)\n",
    "X_train_shapes"
   ]
  },
  {
   "cell_type": "code",
   "execution_count": 10,
   "id": "15598498-f456-4d48-b68a-3cd5c76c52b8",
   "metadata": {},
   "outputs": [
    {
     "data": {
      "text/plain": [
       "1094793"
      ]
     },
     "execution_count": 10,
     "metadata": {},
     "output_type": "execute_result"
    }
   ],
   "source": [
    "len_X_train_flatten = 0\n",
    "for i in range(len(X_train_shapes)):\n",
    "    len_X_train_flatten += X_train_shapes[i][0]\n",
    "len_X_train_flatten"
   ]
  },
  {
   "cell_type": "code",
   "execution_count": 11,
   "id": "4114dd03-c46c-404d-bf30-9557ca794e98",
   "metadata": {},
   "outputs": [
    {
     "data": {
      "text/plain": [
       "19"
      ]
     },
     "execution_count": 11,
     "metadata": {},
     "output_type": "execute_result"
    }
   ],
   "source": [
    "X_train_shapes[0][1]"
   ]
  },
  {
   "cell_type": "code",
   "execution_count": 13,
   "id": "e9b4b4ba-478b-4631-88d6-5650f07fee3a",
   "metadata": {},
   "outputs": [
    {
     "ename": "IndexError",
     "evalue": "index 19 is out of bounds for axis 0 with size 19",
     "output_type": "error",
     "traceback": [
      "\u001b[1;31m---------------------------------------------------------------------------\u001b[0m",
      "\u001b[1;31mIndexError\u001b[0m                                Traceback (most recent call last)",
      "Cell \u001b[1;32mIn[13], line 6\u001b[0m\n\u001b[0;32m      4\u001b[0m     xt \u001b[38;5;241m=\u001b[39m X_train[i]\u001b[38;5;241m.\u001b[39mflatten()\n\u001b[0;32m      5\u001b[0m     \u001b[38;5;28;01mfor\u001b[39;00m j \u001b[38;5;129;01min\u001b[39;00m \u001b[38;5;28mrange\u001b[39m(\u001b[38;5;28mlen\u001b[39m(xt)):\n\u001b[1;32m----> 6\u001b[0m         \u001b[43mX_train_flatten\u001b[49m\u001b[43m[\u001b[49m\u001b[43mk\u001b[49m\u001b[43m]\u001b[49m\u001b[43m[\u001b[49m\u001b[43mj\u001b[49m\u001b[43m]\u001b[49m \u001b[38;5;241m=\u001b[39m xt[j]\n\u001b[0;32m      7\u001b[0m         k \u001b[38;5;241m=\u001b[39m k\u001b[38;5;241m+\u001b[39m\u001b[38;5;241m1\u001b[39m\n\u001b[0;32m      8\u001b[0m X_train_flatten\n",
      "\u001b[1;31mIndexError\u001b[0m: index 19 is out of bounds for axis 0 with size 19"
     ]
    }
   ],
   "source": [
    "X_train_flatten = np.zeros((len_X_train_flatten, X_train_shapes[0][1]))\n",
    "k = 0\n",
    "for i in range(len(X_train)):\n",
    "    xt = X_train[i].flatten()\n",
    "    for j in range(len(xt)):\n",
    "        X_train_flatten[k] = xt[j]\n",
    "        k = k+1\n",
    "X_train_flatten"
   ]
  },
  {
   "cell_type": "code",
   "execution_count": null,
   "id": "9edc20db-f85a-4ca4-a357-744f7996f53f",
   "metadata": {},
   "outputs": [],
   "source": [
    "import sklearn"
   ]
  },
  {
   "cell_type": "code",
   "execution_count": null,
   "id": "97c25e31-a2f1-4459-b0ed-b1c8fc80de66",
   "metadata": {},
   "outputs": [],
   "source": []
  }
 ],
 "metadata": {
  "kernelspec": {
   "display_name": "myenv",
   "language": "python",
   "name": "myenv"
  },
  "language_info": {
   "codemirror_mode": {
    "name": "ipython",
    "version": 3
   },
   "file_extension": ".py",
   "mimetype": "text/x-python",
   "name": "python",
   "nbconvert_exporter": "python",
   "pygments_lexer": "ipython3",
   "version": "3.11.1"
  }
 },
 "nbformat": 4,
 "nbformat_minor": 5
}
