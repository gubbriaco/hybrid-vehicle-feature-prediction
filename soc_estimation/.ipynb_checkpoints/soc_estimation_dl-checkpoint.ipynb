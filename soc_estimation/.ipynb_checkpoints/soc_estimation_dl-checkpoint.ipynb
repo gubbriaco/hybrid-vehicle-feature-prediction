{
 "cells": [
  {
   "cell_type": "code",
   "execution_count": 1,
   "id": "bc0fb09c-5748-4bb0-a640-cde28de380c4",
   "metadata": {
    "scrolled": true
   },
   "outputs": [
    {
     "name": "stdout",
     "output_type": "stream",
     "text": [
      "Requirement already satisfied: tensorflow in d:\\virtualenv\\myenv\\lib\\site-packages (2.16.1)\n",
      "Requirement already satisfied: tensorflow-intel==2.16.1 in d:\\virtualenv\\myenv\\lib\\site-packages (from tensorflow) (2.16.1)\n",
      "Requirement already satisfied: absl-py>=1.0.0 in d:\\virtualenv\\myenv\\lib\\site-packages (from tensorflow-intel==2.16.1->tensorflow) (2.1.0)\n",
      "Requirement already satisfied: astunparse>=1.6.0 in d:\\virtualenv\\myenv\\lib\\site-packages (from tensorflow-intel==2.16.1->tensorflow) (1.6.3)\n",
      "Requirement already satisfied: flatbuffers>=23.5.26 in d:\\virtualenv\\myenv\\lib\\site-packages (from tensorflow-intel==2.16.1->tensorflow) (24.3.25)\n",
      "Requirement already satisfied: gast!=0.5.0,!=0.5.1,!=0.5.2,>=0.2.1 in d:\\virtualenv\\myenv\\lib\\site-packages (from tensorflow-intel==2.16.1->tensorflow) (0.5.4)\n",
      "Requirement already satisfied: google-pasta>=0.1.1 in d:\\virtualenv\\myenv\\lib\\site-packages (from tensorflow-intel==2.16.1->tensorflow) (0.2.0)\n",
      "Requirement already satisfied: h5py>=3.10.0 in d:\\virtualenv\\myenv\\lib\\site-packages (from tensorflow-intel==2.16.1->tensorflow) (3.11.0)\n",
      "Requirement already satisfied: libclang>=13.0.0 in d:\\virtualenv\\myenv\\lib\\site-packages (from tensorflow-intel==2.16.1->tensorflow) (18.1.1)\n",
      "Requirement already satisfied: ml-dtypes~=0.3.1 in d:\\virtualenv\\myenv\\lib\\site-packages (from tensorflow-intel==2.16.1->tensorflow) (0.3.2)\n",
      "Requirement already satisfied: opt-einsum>=2.3.2 in d:\\virtualenv\\myenv\\lib\\site-packages (from tensorflow-intel==2.16.1->tensorflow) (3.3.0)\n",
      "Requirement already satisfied: packaging in d:\\virtualenv\\myenv\\lib\\site-packages (from tensorflow-intel==2.16.1->tensorflow) (24.1)\n",
      "Requirement already satisfied: protobuf!=4.21.0,!=4.21.1,!=4.21.2,!=4.21.3,!=4.21.4,!=4.21.5,<5.0.0dev,>=3.20.3 in d:\\virtualenv\\myenv\\lib\\site-packages (from tensorflow-intel==2.16.1->tensorflow) (4.25.3)\n",
      "Requirement already satisfied: requests<3,>=2.21.0 in d:\\virtualenv\\myenv\\lib\\site-packages (from tensorflow-intel==2.16.1->tensorflow) (2.32.3)\n",
      "Requirement already satisfied: setuptools in d:\\virtualenv\\myenv\\lib\\site-packages (from tensorflow-intel==2.16.1->tensorflow) (70.1.0)\n",
      "Requirement already satisfied: six>=1.12.0 in d:\\virtualenv\\myenv\\lib\\site-packages (from tensorflow-intel==2.16.1->tensorflow) (1.16.0)\n",
      "Requirement already satisfied: termcolor>=1.1.0 in d:\\virtualenv\\myenv\\lib\\site-packages (from tensorflow-intel==2.16.1->tensorflow) (2.4.0)\n",
      "Requirement already satisfied: typing-extensions>=3.6.6 in d:\\virtualenv\\myenv\\lib\\site-packages (from tensorflow-intel==2.16.1->tensorflow) (4.12.2)\n",
      "Requirement already satisfied: wrapt>=1.11.0 in d:\\virtualenv\\myenv\\lib\\site-packages (from tensorflow-intel==2.16.1->tensorflow) (1.16.0)\n",
      "Requirement already satisfied: grpcio<2.0,>=1.24.3 in d:\\virtualenv\\myenv\\lib\\site-packages (from tensorflow-intel==2.16.1->tensorflow) (1.64.1)\n",
      "Requirement already satisfied: tensorboard<2.17,>=2.16 in d:\\virtualenv\\myenv\\lib\\site-packages (from tensorflow-intel==2.16.1->tensorflow) (2.16.2)\n",
      "Requirement already satisfied: keras>=3.0.0 in d:\\virtualenv\\myenv\\lib\\site-packages (from tensorflow-intel==2.16.1->tensorflow) (3.4.0)\n",
      "Requirement already satisfied: tensorflow-io-gcs-filesystem>=0.23.1 in d:\\virtualenv\\myenv\\lib\\site-packages (from tensorflow-intel==2.16.1->tensorflow) (0.31.0)\n",
      "Requirement already satisfied: numpy<2.0.0,>=1.23.5 in d:\\virtualenv\\myenv\\lib\\site-packages (from tensorflow-intel==2.16.1->tensorflow) (1.26.3)\n",
      "Requirement already satisfied: wheel<1.0,>=0.23.0 in d:\\virtualenv\\myenv\\lib\\site-packages (from astunparse>=1.6.0->tensorflow-intel==2.16.1->tensorflow) (0.43.0)\n",
      "Requirement already satisfied: rich in d:\\virtualenv\\myenv\\lib\\site-packages (from keras>=3.0.0->tensorflow-intel==2.16.1->tensorflow) (13.7.1)\n",
      "Requirement already satisfied: namex in d:\\virtualenv\\myenv\\lib\\site-packages (from keras>=3.0.0->tensorflow-intel==2.16.1->tensorflow) (0.0.8)\n",
      "Requirement already satisfied: optree in d:\\virtualenv\\myenv\\lib\\site-packages (from keras>=3.0.0->tensorflow-intel==2.16.1->tensorflow) (0.11.0)\n",
      "Requirement already satisfied: charset-normalizer<4,>=2 in d:\\virtualenv\\myenv\\lib\\site-packages (from requests<3,>=2.21.0->tensorflow-intel==2.16.1->tensorflow) (3.3.2)\n",
      "Requirement already satisfied: idna<4,>=2.5 in d:\\virtualenv\\myenv\\lib\\site-packages (from requests<3,>=2.21.0->tensorflow-intel==2.16.1->tensorflow) (3.7)\n",
      "Requirement already satisfied: urllib3<3,>=1.21.1 in d:\\virtualenv\\myenv\\lib\\site-packages (from requests<3,>=2.21.0->tensorflow-intel==2.16.1->tensorflow) (2.2.2)\n",
      "Requirement already satisfied: certifi>=2017.4.17 in d:\\virtualenv\\myenv\\lib\\site-packages (from requests<3,>=2.21.0->tensorflow-intel==2.16.1->tensorflow) (2024.6.2)\n",
      "Requirement already satisfied: markdown>=2.6.8 in d:\\virtualenv\\myenv\\lib\\site-packages (from tensorboard<2.17,>=2.16->tensorflow-intel==2.16.1->tensorflow) (3.6)\n",
      "Requirement already satisfied: tensorboard-data-server<0.8.0,>=0.7.0 in d:\\virtualenv\\myenv\\lib\\site-packages (from tensorboard<2.17,>=2.16->tensorflow-intel==2.16.1->tensorflow) (0.7.2)\n",
      "Requirement already satisfied: werkzeug>=1.0.1 in d:\\virtualenv\\myenv\\lib\\site-packages (from tensorboard<2.17,>=2.16->tensorflow-intel==2.16.1->tensorflow) (3.0.3)\n",
      "Requirement already satisfied: MarkupSafe>=2.1.1 in d:\\virtualenv\\myenv\\lib\\site-packages (from werkzeug>=1.0.1->tensorboard<2.17,>=2.16->tensorflow-intel==2.16.1->tensorflow) (2.1.5)\n",
      "Requirement already satisfied: markdown-it-py>=2.2.0 in d:\\virtualenv\\myenv\\lib\\site-packages (from rich->keras>=3.0.0->tensorflow-intel==2.16.1->tensorflow) (3.0.0)\n",
      "Requirement already satisfied: pygments<3.0.0,>=2.13.0 in d:\\virtualenv\\myenv\\lib\\site-packages (from rich->keras>=3.0.0->tensorflow-intel==2.16.1->tensorflow) (2.18.0)\n",
      "Requirement already satisfied: mdurl~=0.1 in d:\\virtualenv\\myenv\\lib\\site-packages (from markdown-it-py>=2.2.0->rich->keras>=3.0.0->tensorflow-intel==2.16.1->tensorflow) (0.1.2)\n",
      "Note: you may need to restart the kernel to use updated packages.\n"
     ]
    },
    {
     "name": "stderr",
     "output_type": "stream",
     "text": [
      "\n",
      "[notice] A new release of pip is available: 24.1 -> 24.2\n",
      "[notice] To update, run: python.exe -m pip install --upgrade pip\n"
     ]
    }
   ],
   "source": [
    "pip install tensorflow"
   ]
  },
  {
   "cell_type": "code",
   "execution_count": 2,
   "id": "e312a512-0373-4f02-acab-60115b88ad8c",
   "metadata": {},
   "outputs": [
    {
     "name": "stdout",
     "output_type": "stream",
     "text": [
      "WARNING:tensorflow:From C:\\Users\\giorg\\AppData\\Local\\Temp\\ipykernel_6268\\3326022288.py:2: is_gpu_available (from tensorflow.python.framework.test_util) is deprecated and will be removed in a future version.\n",
      "Instructions for updating:\n",
      "Use `tf.config.list_physical_devices('GPU')` instead.\n"
     ]
    },
    {
     "data": {
      "text/plain": [
       "False"
      ]
     },
     "execution_count": 2,
     "metadata": {},
     "output_type": "execute_result"
    }
   ],
   "source": [
    "import tensorflow as tf\n",
    "tf.test.is_gpu_available()"
   ]
  },
  {
   "cell_type": "code",
   "execution_count": 3,
   "id": "f46f174c-7918-458f-ac6d-079f5bdbe198",
   "metadata": {},
   "outputs": [
    {
     "name": "stdout",
     "output_type": "stream",
     "text": [
      "[name: \"/device:CPU:0\"\n",
      "device_type: \"CPU\"\n",
      "memory_limit: 268435456\n",
      "locality {\n",
      "}\n",
      "incarnation: 10002450037801798501\n",
      "xla_global_id: -1\n",
      "]\n"
     ]
    }
   ],
   "source": [
    "from tensorflow.python.client import device_lib\n",
    "print(device_lib.list_local_devices())"
   ]
  },
  {
   "cell_type": "code",
   "execution_count": 4,
   "id": "1e9eb670-162c-4028-9ff5-b7a962c4526d",
   "metadata": {},
   "outputs": [
    {
     "name": "stdout",
     "output_type": "stream",
     "text": [
      "Requirement already satisfied: pandas in d:\\virtualenv\\myenv\\lib\\site-packages (2.2.2)\n",
      "Requirement already satisfied: numpy>=1.23.2 in d:\\virtualenv\\myenv\\lib\\site-packages (from pandas) (1.26.3)\n",
      "Requirement already satisfied: python-dateutil>=2.8.2 in d:\\virtualenv\\myenv\\lib\\site-packages (from pandas) (2.9.0.post0)\n",
      "Requirement already satisfied: pytz>=2020.1 in d:\\virtualenv\\myenv\\lib\\site-packages (from pandas) (2024.1)\n",
      "Requirement already satisfied: tzdata>=2022.7 in d:\\virtualenv\\myenv\\lib\\site-packages (from pandas) (2024.1)\n",
      "Requirement already satisfied: six>=1.5 in d:\\virtualenv\\myenv\\lib\\site-packages (from python-dateutil>=2.8.2->pandas) (1.16.0)\n",
      "Note: you may need to restart the kernel to use updated packages.\n"
     ]
    },
    {
     "name": "stderr",
     "output_type": "stream",
     "text": [
      "\n",
      "[notice] A new release of pip is available: 24.1 -> 24.2\n",
      "[notice] To update, run: python.exe -m pip install --upgrade pip\n"
     ]
    }
   ],
   "source": [
    "pip install pandas"
   ]
  },
  {
   "cell_type": "code",
   "execution_count": 5,
   "id": "2f358af3-c925-4122-86a5-f7ea8bf6f1e3",
   "metadata": {},
   "outputs": [
    {
     "name": "stdout",
     "output_type": "stream",
     "text": [
      "Requirement already satisfied: matplotlib in d:\\virtualenv\\myenv\\lib\\site-packages (3.9.0)\n",
      "Requirement already satisfied: contourpy>=1.0.1 in d:\\virtualenv\\myenv\\lib\\site-packages (from matplotlib) (1.2.1)\n",
      "Requirement already satisfied: cycler>=0.10 in d:\\virtualenv\\myenv\\lib\\site-packages (from matplotlib) (0.12.1)\n",
      "Requirement already satisfied: fonttools>=4.22.0 in d:\\virtualenv\\myenv\\lib\\site-packages (from matplotlib) (4.53.0)\n",
      "Requirement already satisfied: kiwisolver>=1.3.1 in d:\\virtualenv\\myenv\\lib\\site-packages (from matplotlib) (1.4.5)\n",
      "Requirement already satisfied: numpy>=1.23 in d:\\virtualenv\\myenv\\lib\\site-packages (from matplotlib) (1.26.3)\n",
      "Requirement already satisfied: packaging>=20.0 in d:\\virtualenv\\myenv\\lib\\site-packages (from matplotlib) (24.1)\n",
      "Requirement already satisfied: pillow>=8 in d:\\virtualenv\\myenv\\lib\\site-packages (from matplotlib) (10.2.0)\n",
      "Requirement already satisfied: pyparsing>=2.3.1 in d:\\virtualenv\\myenv\\lib\\site-packages (from matplotlib) (3.1.2)\n",
      "Requirement already satisfied: python-dateutil>=2.7 in d:\\virtualenv\\myenv\\lib\\site-packages (from matplotlib) (2.9.0.post0)\n",
      "Requirement already satisfied: six>=1.5 in d:\\virtualenv\\myenv\\lib\\site-packages (from python-dateutil>=2.7->matplotlib) (1.16.0)\n",
      "Note: you may need to restart the kernel to use updated packages.\n"
     ]
    },
    {
     "name": "stderr",
     "output_type": "stream",
     "text": [
      "\n",
      "[notice] A new release of pip is available: 24.1 -> 24.2\n",
      "[notice] To update, run: python.exe -m pip install --upgrade pip\n"
     ]
    }
   ],
   "source": [
    "pip install matplotlib"
   ]
  },
  {
   "cell_type": "code",
   "execution_count": 45,
   "id": "a6701d76-4b48-474b-b828-85e1c396cf4e",
   "metadata": {},
   "outputs": [
    {
     "ename": "ImportError",
     "evalue": "cannot import name 'ErrorFunction' from 'metrics' (D:\\virtualenv\\gevtie\\hybrid-vehicle-feature-prediction\\soc_estimation\\metrics.py)",
     "output_type": "error",
     "traceback": [
      "\u001b[1;31m---------------------------------------------------------------------------\u001b[0m",
      "\u001b[1;31mImportError\u001b[0m                               Traceback (most recent call last)",
      "Cell \u001b[1;32mIn[45], line 6\u001b[0m\n\u001b[0;32m      4\u001b[0m \u001b[38;5;28;01mimport\u001b[39;00m \u001b[38;5;21;01mnumpy\u001b[39;00m \u001b[38;5;28;01mas\u001b[39;00m \u001b[38;5;21;01mnp\u001b[39;00m\n\u001b[0;32m      5\u001b[0m \u001b[38;5;28;01mfrom\u001b[39;00m \u001b[38;5;21;01mconfig\u001b[39;00m \u001b[38;5;28;01mimport\u001b[39;00m Config\n\u001b[1;32m----> 6\u001b[0m \u001b[38;5;28;01mfrom\u001b[39;00m \u001b[38;5;21;01mmetrics\u001b[39;00m \u001b[38;5;28;01mimport\u001b[39;00m ErrorFunction\n",
      "\u001b[1;31mImportError\u001b[0m: cannot import name 'ErrorFunction' from 'metrics' (D:\\virtualenv\\gevtie\\hybrid-vehicle-feature-prediction\\soc_estimation\\metrics.py)"
     ]
    }
   ],
   "source": [
    "import os\n",
    "import pandas as pd\n",
    "from matplotlib import pyplot as plt\n",
    "import numpy as np\n",
    "from config import Config\n",
    "from metrics import ErrorFunction"
   ]
  },
  {
   "cell_type": "markdown",
   "id": "fe268446-8845-454d-8d41-4ba18eaa94a4",
   "metadata": {},
   "source": [
    "# Definitions"
   ]
  },
  {
   "cell_type": "markdown",
   "id": "f181568a-b11c-4e52-9d3b-c1cb45956826",
   "metadata": {},
   "source": [
    "## Paths Declaration\n",
    "Qui, di seguito, vengono riportati i path relativi al dataset di training, validation e testing. In particolare, il dataset di validation coincide con il primo dataset di testing contenuto nella cartella './LGHG2@n10C_to_25degC/Test'. Infatti, all'interno della directory './LGHG2@n10C_to_25degC/Test' sono presenti 5 possibili insiemi di dati così da poter essere sfruttati durante il testing."
   ]
  },
  {
   "cell_type": "code",
   "execution_count": 7,
   "id": "2e9d8c39-735e-4b20-91e7-a05a4b424844",
   "metadata": {},
   "outputs": [
    {
     "name": "stdout",
     "output_type": "stream",
     "text": [
      "data_dir = ['test', 'train', 'val']\n",
      "train_data_dir = ['TRAIN_LGHG2@n10degC_to_25degC_Norm_5Inputs.csv']\n",
      "val_data_dir = ['01_TEST_LGHG2@n10degC_Norm_(05_Inputs).csv', '02_TEST_LGHG2@0degC_Norm_(05_Inputs).csv', '03_TEST_LGHG2@10degC_Norm_(05_Inputs).csv', '04_TEST_LGHG2@25degC_Norm_(05_Inputs).csv']\n",
      "test_data_dir = ['01_TEST_LGHG2@n10degC_Norm_(05_Inputs).csv', '02_TEST_LGHG2@0degC_Norm_(05_Inputs).csv', '03_TEST_LGHG2@10degC_Norm_(05_Inputs).csv', '04_TEST_LGHG2@25degC_Norm_(05_Inputs).csv']\n"
     ]
    }
   ],
   "source": [
    "config = Config(\n",
    "    data_dir='./data',\n",
    "    train_data_subdir='train/',\n",
    "    val_data_subdir='test/',\n",
    "    test_data_subdir='test/'\n",
    ")"
   ]
  },
  {
   "cell_type": "markdown",
   "id": "a8dee037-7f18-4047-85cc-908f2db39220",
   "metadata": {},
   "source": [
    "# Data Importing"
   ]
  },
  {
   "cell_type": "code",
   "execution_count": 8,
   "id": "78a282f4-2653-4037-ac2b-75216df36724",
   "metadata": {},
   "outputs": [
    {
     "data": {
      "text/html": [
       "<div>\n",
       "<style scoped>\n",
       "    .dataframe tbody tr th:only-of-type {\n",
       "        vertical-align: middle;\n",
       "    }\n",
       "\n",
       "    .dataframe tbody tr th {\n",
       "        vertical-align: top;\n",
       "    }\n",
       "\n",
       "    .dataframe thead th {\n",
       "        text-align: right;\n",
       "    }\n",
       "</style>\n",
       "<table border=\"1\" class=\"dataframe\">\n",
       "  <thead>\n",
       "    <tr style=\"text-align: right;\">\n",
       "      <th></th>\n",
       "      <th>V</th>\n",
       "      <th>I</th>\n",
       "      <th>Temp</th>\n",
       "      <th>V_avg</th>\n",
       "      <th>I_avg</th>\n",
       "      <th>SOC</th>\n",
       "    </tr>\n",
       "  </thead>\n",
       "  <tbody>\n",
       "    <tr>\n",
       "      <th>0</th>\n",
       "      <td>0.385148</td>\n",
       "      <td>0.75102</td>\n",
       "      <td>0.303101</td>\n",
       "      <td>0.385148</td>\n",
       "      <td>0.75102</td>\n",
       "      <td>0.206417</td>\n",
       "    </tr>\n",
       "    <tr>\n",
       "      <th>1</th>\n",
       "      <td>0.385152</td>\n",
       "      <td>0.75102</td>\n",
       "      <td>0.304591</td>\n",
       "      <td>0.385150</td>\n",
       "      <td>0.75102</td>\n",
       "      <td>0.206417</td>\n",
       "    </tr>\n",
       "    <tr>\n",
       "      <th>2</th>\n",
       "      <td>0.385156</td>\n",
       "      <td>0.75102</td>\n",
       "      <td>0.306081</td>\n",
       "      <td>0.385152</td>\n",
       "      <td>0.75102</td>\n",
       "      <td>0.206417</td>\n",
       "    </tr>\n",
       "    <tr>\n",
       "      <th>3</th>\n",
       "      <td>0.385160</td>\n",
       "      <td>0.75102</td>\n",
       "      <td>0.307572</td>\n",
       "      <td>0.385154</td>\n",
       "      <td>0.75102</td>\n",
       "      <td>0.206417</td>\n",
       "    </tr>\n",
       "    <tr>\n",
       "      <th>4</th>\n",
       "      <td>0.385164</td>\n",
       "      <td>0.75102</td>\n",
       "      <td>0.309062</td>\n",
       "      <td>0.385156</td>\n",
       "      <td>0.75102</td>\n",
       "      <td>0.206417</td>\n",
       "    </tr>\n",
       "    <tr>\n",
       "      <th>...</th>\n",
       "      <td>...</td>\n",
       "      <td>...</td>\n",
       "      <td>...</td>\n",
       "      <td>...</td>\n",
       "      <td>...</td>\n",
       "      <td>...</td>\n",
       "    </tr>\n",
       "    <tr>\n",
       "      <th>669951</th>\n",
       "      <td>0.478843</td>\n",
       "      <td>0.75102</td>\n",
       "      <td>0.008477</td>\n",
       "      <td>0.459558</td>\n",
       "      <td>0.75102</td>\n",
       "      <td>0.283243</td>\n",
       "    </tr>\n",
       "    <tr>\n",
       "      <th>669952</th>\n",
       "      <td>0.478843</td>\n",
       "      <td>0.75102</td>\n",
       "      <td>0.008477</td>\n",
       "      <td>0.459699</td>\n",
       "      <td>0.75102</td>\n",
       "      <td>0.283243</td>\n",
       "    </tr>\n",
       "    <tr>\n",
       "      <th>669953</th>\n",
       "      <td>0.478843</td>\n",
       "      <td>0.75102</td>\n",
       "      <td>0.008477</td>\n",
       "      <td>0.459839</td>\n",
       "      <td>0.75102</td>\n",
       "      <td>0.283243</td>\n",
       "    </tr>\n",
       "    <tr>\n",
       "      <th>669954</th>\n",
       "      <td>0.478961</td>\n",
       "      <td>0.75102</td>\n",
       "      <td>0.008477</td>\n",
       "      <td>0.459979</td>\n",
       "      <td>0.75102</td>\n",
       "      <td>0.283243</td>\n",
       "    </tr>\n",
       "    <tr>\n",
       "      <th>669955</th>\n",
       "      <td>0.478961</td>\n",
       "      <td>0.75102</td>\n",
       "      <td>0.008477</td>\n",
       "      <td>0.460117</td>\n",
       "      <td>0.75102</td>\n",
       "      <td>0.283243</td>\n",
       "    </tr>\n",
       "  </tbody>\n",
       "</table>\n",
       "<p>669956 rows × 6 columns</p>\n",
       "</div>"
      ],
      "text/plain": [
       "               V        I      Temp     V_avg    I_avg       SOC\n",
       "0       0.385148  0.75102  0.303101  0.385148  0.75102  0.206417\n",
       "1       0.385152  0.75102  0.304591  0.385150  0.75102  0.206417\n",
       "2       0.385156  0.75102  0.306081  0.385152  0.75102  0.206417\n",
       "3       0.385160  0.75102  0.307572  0.385154  0.75102  0.206417\n",
       "4       0.385164  0.75102  0.309062  0.385156  0.75102  0.206417\n",
       "...          ...      ...       ...       ...      ...       ...\n",
       "669951  0.478843  0.75102  0.008477  0.459558  0.75102  0.283243\n",
       "669952  0.478843  0.75102  0.008477  0.459699  0.75102  0.283243\n",
       "669953  0.478843  0.75102  0.008477  0.459839  0.75102  0.283243\n",
       "669954  0.478961  0.75102  0.008477  0.459979  0.75102  0.283243\n",
       "669955  0.478961  0.75102  0.008477  0.460117  0.75102  0.283243\n",
       "\n",
       "[669956 rows x 6 columns]"
      ]
     },
     "execution_count": 8,
     "metadata": {},
     "output_type": "execute_result"
    }
   ],
   "source": [
    "train_data_filename = os.listdir(config.get_train_data_dir())[0]\n",
    "train_data_path = os.path.join(config.get_train_data_dir(), train_data_filename)\n",
    "\n",
    "train_data = pd.read_csv(train_data_path)\n",
    "train_data"
   ]
  },
  {
   "cell_type": "code",
   "execution_count": 9,
   "id": "8da13fa7-413c-411c-b816-064757dc8140",
   "metadata": {},
   "outputs": [
    {
     "data": {
      "text/plain": [
       "Index(['V', 'I', 'Temp', 'V_avg', 'I_avg', 'SOC'], dtype='object')"
      ]
     },
     "execution_count": 9,
     "metadata": {},
     "output_type": "execute_result"
    }
   ],
   "source": [
    "train_data.columns"
   ]
  },
  {
   "cell_type": "code",
   "execution_count": 10,
   "id": "ceb8e614-11b7-4453-a338-c71839d81f20",
   "metadata": {},
   "outputs": [
    {
     "data": {
      "text/plain": [
       "(669956, 5)"
      ]
     },
     "execution_count": 10,
     "metadata": {},
     "output_type": "execute_result"
    }
   ],
   "source": [
    "X_train = train_data[['V', 'I', 'Temp', 'V_avg', 'I_avg']].values\n",
    "X_train.shape"
   ]
  },
  {
   "cell_type": "code",
   "execution_count": 11,
   "id": "90a89c18-d17c-41e2-8361-caaa9921976f",
   "metadata": {},
   "outputs": [
    {
     "data": {
      "text/plain": [
       "array([[0.38514793, 0.75102009, 0.30310108, 0.38514793, 0.75102009],\n",
       "       [0.38515183, 0.75102009, 0.30459129, 0.38514988, 0.75102009],\n",
       "       [0.38515573, 0.75102009, 0.3060815 , 0.38515183, 0.75102009],\n",
       "       ...,\n",
       "       [0.47884278, 0.75102009, 0.00847709, 0.45983939, 0.75102009],\n",
       "       [0.4789612 , 0.75102009, 0.00847709, 0.45997861, 0.75102009],\n",
       "       [0.4789612 , 0.75102009, 0.00847709, 0.46011672, 0.75102009]])"
      ]
     },
     "execution_count": 11,
     "metadata": {},
     "output_type": "execute_result"
    }
   ],
   "source": [
    "X_train"
   ]
  },
  {
   "cell_type": "code",
   "execution_count": 12,
   "id": "e396bbb2-14c7-4637-8ad2-1d5170af5b0e",
   "metadata": {},
   "outputs": [
    {
     "data": {
      "text/plain": [
       "(669956,)"
      ]
     },
     "execution_count": 12,
     "metadata": {},
     "output_type": "execute_result"
    }
   ],
   "source": [
    "y_train = train_data['SOC'].values\n",
    "y_train.shape"
   ]
  },
  {
   "cell_type": "code",
   "execution_count": 13,
   "id": "6fb36c47-8b7f-4ed9-b58b-c90413322b05",
   "metadata": {},
   "outputs": [
    {
     "data": {
      "text/plain": [
       "array([0.20641667, 0.20641667, 0.20641667, ..., 0.28324333, 0.28324333,\n",
       "       0.28324333])"
      ]
     },
     "execution_count": 13,
     "metadata": {},
     "output_type": "execute_result"
    }
   ],
   "source": [
    "y_train"
   ]
  },
  {
   "cell_type": "code",
   "execution_count": 14,
   "id": "3e343c7c-ffb1-40ae-a091-592fcc1f6fcd",
   "metadata": {},
   "outputs": [
    {
     "data": {
      "text/html": [
       "<div>\n",
       "<style scoped>\n",
       "    .dataframe tbody tr th:only-of-type {\n",
       "        vertical-align: middle;\n",
       "    }\n",
       "\n",
       "    .dataframe tbody tr th {\n",
       "        vertical-align: top;\n",
       "    }\n",
       "\n",
       "    .dataframe thead th {\n",
       "        text-align: right;\n",
       "    }\n",
       "</style>\n",
       "<table border=\"1\" class=\"dataframe\">\n",
       "  <thead>\n",
       "    <tr style=\"text-align: right;\">\n",
       "      <th></th>\n",
       "      <th>V</th>\n",
       "      <th>I</th>\n",
       "      <th>Temp</th>\n",
       "      <th>V_avg</th>\n",
       "      <th>I_avg</th>\n",
       "      <th>SOC</th>\n",
       "    </tr>\n",
       "  </thead>\n",
       "  <tbody>\n",
       "    <tr>\n",
       "      <th>0</th>\n",
       "      <td>0.966960</td>\n",
       "      <td>0.748900</td>\n",
       "      <td>0.920678</td>\n",
       "      <td>0.966960</td>\n",
       "      <td>0.748900</td>\n",
       "      <td>1.000000</td>\n",
       "    </tr>\n",
       "    <tr>\n",
       "      <th>1</th>\n",
       "      <td>0.966020</td>\n",
       "      <td>0.746992</td>\n",
       "      <td>0.920677</td>\n",
       "      <td>0.966490</td>\n",
       "      <td>0.747946</td>\n",
       "      <td>0.999990</td>\n",
       "    </tr>\n",
       "    <tr>\n",
       "      <th>2</th>\n",
       "      <td>0.965901</td>\n",
       "      <td>0.746992</td>\n",
       "      <td>0.917845</td>\n",
       "      <td>0.966294</td>\n",
       "      <td>0.747628</td>\n",
       "      <td>0.999983</td>\n",
       "    </tr>\n",
       "    <tr>\n",
       "      <th>3</th>\n",
       "      <td>0.965783</td>\n",
       "      <td>0.747098</td>\n",
       "      <td>0.917845</td>\n",
       "      <td>0.966166</td>\n",
       "      <td>0.747496</td>\n",
       "      <td>0.999973</td>\n",
       "    </tr>\n",
       "    <tr>\n",
       "      <th>4</th>\n",
       "      <td>0.965665</td>\n",
       "      <td>0.746992</td>\n",
       "      <td>0.917845</td>\n",
       "      <td>0.966066</td>\n",
       "      <td>0.747395</td>\n",
       "      <td>0.999963</td>\n",
       "    </tr>\n",
       "    <tr>\n",
       "      <th>...</th>\n",
       "      <td>...</td>\n",
       "      <td>...</td>\n",
       "      <td>...</td>\n",
       "      <td>...</td>\n",
       "      <td>...</td>\n",
       "      <td>...</td>\n",
       "    </tr>\n",
       "    <tr>\n",
       "      <th>47512</th>\n",
       "      <td>0.298614</td>\n",
       "      <td>0.751020</td>\n",
       "      <td>0.926344</td>\n",
       "      <td>0.292723</td>\n",
       "      <td>0.751020</td>\n",
       "      <td>0.136623</td>\n",
       "    </tr>\n",
       "    <tr>\n",
       "      <th>47513</th>\n",
       "      <td>0.298614</td>\n",
       "      <td>0.751020</td>\n",
       "      <td>0.926344</td>\n",
       "      <td>0.292761</td>\n",
       "      <td>0.751020</td>\n",
       "      <td>0.136623</td>\n",
       "    </tr>\n",
       "    <tr>\n",
       "      <th>47514</th>\n",
       "      <td>0.298614</td>\n",
       "      <td>0.751020</td>\n",
       "      <td>0.926344</td>\n",
       "      <td>0.292798</td>\n",
       "      <td>0.751020</td>\n",
       "      <td>0.136623</td>\n",
       "    </tr>\n",
       "    <tr>\n",
       "      <th>47515</th>\n",
       "      <td>0.298614</td>\n",
       "      <td>0.751020</td>\n",
       "      <td>0.929177</td>\n",
       "      <td>0.292834</td>\n",
       "      <td>0.751020</td>\n",
       "      <td>0.136623</td>\n",
       "    </tr>\n",
       "    <tr>\n",
       "      <th>47516</th>\n",
       "      <td>0.298614</td>\n",
       "      <td>0.751020</td>\n",
       "      <td>0.929177</td>\n",
       "      <td>0.292871</td>\n",
       "      <td>0.751020</td>\n",
       "      <td>0.136623</td>\n",
       "    </tr>\n",
       "  </tbody>\n",
       "</table>\n",
       "<p>47517 rows × 6 columns</p>\n",
       "</div>"
      ],
      "text/plain": [
       "              V         I      Temp     V_avg     I_avg       SOC\n",
       "0      0.966960  0.748900  0.920678  0.966960  0.748900  1.000000\n",
       "1      0.966020  0.746992  0.920677  0.966490  0.747946  0.999990\n",
       "2      0.965901  0.746992  0.917845  0.966294  0.747628  0.999983\n",
       "3      0.965783  0.747098  0.917845  0.966166  0.747496  0.999973\n",
       "4      0.965665  0.746992  0.917845  0.966066  0.747395  0.999963\n",
       "...         ...       ...       ...       ...       ...       ...\n",
       "47512  0.298614  0.751020  0.926344  0.292723  0.751020  0.136623\n",
       "47513  0.298614  0.751020  0.926344  0.292761  0.751020  0.136623\n",
       "47514  0.298614  0.751020  0.926344  0.292798  0.751020  0.136623\n",
       "47515  0.298614  0.751020  0.929177  0.292834  0.751020  0.136623\n",
       "47516  0.298614  0.751020  0.929177  0.292871  0.751020  0.136623\n",
       "\n",
       "[47517 rows x 6 columns]"
      ]
     },
     "execution_count": 14,
     "metadata": {},
     "output_type": "execute_result"
    }
   ],
   "source": [
    "val_data_filename = os.listdir(config.get_val_data_dir())[3]\n",
    "val_data_path = os.path.join(config.get_val_data_dir(), val_data_filename)\n",
    "\n",
    "val_data = pd.read_csv(val_data_path)\n",
    "val_data"
   ]
  },
  {
   "cell_type": "code",
   "execution_count": 15,
   "id": "d9a91c26-3722-4049-b44b-40791e282e06",
   "metadata": {},
   "outputs": [],
   "source": [
    "X_val = val_data[['V', 'I', 'Temp', 'V_avg', 'I_avg']].values\n",
    "y_val = val_data['SOC'].values"
   ]
  },
  {
   "cell_type": "markdown",
   "id": "7fc9eb9e-1cd3-4898-89de-f4784ea975fa",
   "metadata": {},
   "source": [
    "## Data Normalization"
   ]
  },
  {
   "cell_type": "code",
   "execution_count": 17,
   "id": "dbc8298e-24bb-4e8d-8b15-b2156b6d6274",
   "metadata": {},
   "outputs": [],
   "source": [
    "def normalize(X):\n",
    "    normalized_X = np.zeros((X.shape[0], X.shape[1]))\n",
    "    for i in range(X.shape[0]):\n",
    "        max_value = max(X[i])\n",
    "        min_value = min(X[i])\n",
    "        for j in range(X.shape[1]):\n",
    "            normalized_X[i][j] = ((2*(X[i][j]-min_value))/(max_value-min_value))-1\n",
    "    return normalized_X"
   ]
  },
  {
   "cell_type": "code",
   "execution_count": 18,
   "id": "efd863c2-d65a-4f68-bb78-cd7d4469c68b",
   "metadata": {},
   "outputs": [
    {
     "data": {
      "text/plain": [
       "array([[-0.63365322,  1.        , -1.        , -0.63365322,  1.        ],\n",
       "       [-0.63908898,  1.        , -1.        , -0.63909772,  1.        ],\n",
       "       [-0.64456116,  1.        , -1.        , -0.64457869,  1.        ],\n",
       "       ...,\n",
       "       [ 0.26690492,  1.        , -1.        ,  0.21572031,  1.        ],\n",
       "       [ 0.26722387,  1.        , -1.        ,  0.21609528,  1.        ],\n",
       "       [ 0.26722387,  1.        , -1.        ,  0.21646728,  1.        ]])"
      ]
     },
     "execution_count": 18,
     "metadata": {},
     "output_type": "execute_result"
    }
   ],
   "source": [
    "normalized_X_train = normalize(X_train)\n",
    "normalized_X_train"
   ]
  },
  {
   "cell_type": "code",
   "execution_count": 26,
   "id": "a9927a46-8ab9-4a18-aff5-a584f7af4d47",
   "metadata": {},
   "outputs": [
    {
     "data": {
      "text/plain": [
       "array([[ 1.        , -1.        ,  0.57551079,  1.        , -1.        ],\n",
       "       [ 0.99571585, -1.        ,  0.58256774,  1.        , -0.99130679],\n",
       "       [ 0.99642139, -1.        ,  0.55815534,  1.        , -0.99419975],\n",
       "       ...,\n",
       "       [-0.98163938,  0.44653221,  1.        , -1.        ,  0.44653221],\n",
       "       [-0.98183573,  0.44006032,  1.        , -1.        ,  0.44006032],\n",
       "       [-0.98194943,  0.44002819,  1.        , -1.        ,  0.44002819]])"
      ]
     },
     "execution_count": 26,
     "metadata": {},
     "output_type": "execute_result"
    }
   ],
   "source": [
    "normalized_X_val = normalize(X_val)\n",
    "normalized_X_val"
   ]
  },
  {
   "cell_type": "markdown",
   "id": "24edad19-e5ed-4041-9be3-858ee2269ffe",
   "metadata": {},
   "source": [
    "# FNN"
   ]
  },
  {
   "cell_type": "markdown",
   "id": "155955d9-48e4-4d9b-a472-952587ee5cfb",
   "metadata": {},
   "source": [
    "## Training Parameters Declaration"
   ]
  },
  {
   "cell_type": "code",
   "execution_count": 20,
   "id": "d0f4f886-17d5-4564-b435-93a3fd59d796",
   "metadata": {},
   "outputs": [],
   "source": [
    "no_features = 5  # Number of inputs features (variables: V, I, Temp, V_avg, I_avg)\n",
    "no_responses = 1  # Number of outputs (SOC)\n",
    "no_hidden_units = 55  # Number of optimal hidden units 'N', where each hidden unit for FNN represents a Neuron.\n",
    "\n",
    "epochs = 50 # Number of epochs\n",
    "no_training = 3 # Number of training execution\n",
    "learn_rate_drop_period = 1000\n",
    "initial_learn_rate = 0.01\n",
    "learn_rate_drop_factor = 0.1\n",
    "validation_frequency = 10\n",
    "mini_batch_size = 32\n",
    "l2_regularization = 1"
   ]
  },
  {
   "cell_type": "markdown",
   "id": "f7e14f30-a647-4edf-8793-e000ca9d2c8c",
   "metadata": {},
   "source": [
    "## FNN Structure"
   ]
  },
  {
   "cell_type": "code",
   "execution_count": 21,
   "id": "c60e609f-9a77-4a52-8e5b-1b36481370f2",
   "metadata": {},
   "outputs": [],
   "source": [
    "from tensorflow import keras\n",
    "from tensorflow.keras import layers"
   ]
  },
  {
   "cell_type": "code",
   "execution_count": 22,
   "id": "cacd8998-0144-4842-b32a-3ecc1a823893",
   "metadata": {},
   "outputs": [],
   "source": [
    "class TrainableNormalization(layers.Layer):\n",
    "    def __init__(self, **kwargs):\n",
    "        super(TrainableNormalization, self).__init__(**kwargs)\n",
    "\n",
    "    def build(self, input_shape):\n",
    "        self.mean = self.add_weight(\n",
    "            name='mean', \n",
    "            shape=(input_shape[-1],),\n",
    "            initializer='zeros', \n",
    "            trainable=True\n",
    "        )\n",
    "        self.std = self.add_weight(\n",
    "            name='std', \n",
    "            shape=(input_shape[-1],),\n",
    "            initializer='ones', \n",
    "            trainable=True\n",
    "        )\n",
    "\n",
    "    def call(self, inputs):\n",
    "        return (inputs - self.mean) / (self.std + keras.backend.epsilon())\n",
    "\n",
    "\n",
    "model = keras.Sequential([\n",
    "    layers.Input(shape=(no_features,)),\n",
    "    layers.Dense(no_hidden_units, activation='tanh'),\n",
    "    layers.Dense(no_hidden_units, activation=layers.LeakyReLU(negative_slope=0.3)),\n",
    "    layers.Dense(no_responses, activation=lambda x: keras.backend.clip(x, 0, 1))\n",
    "])"
   ]
  },
  {
   "cell_type": "code",
   "execution_count": 23,
   "id": "f2be3f69-137e-4e04-a984-f5db9ad4a583",
   "metadata": {},
   "outputs": [],
   "source": [
    "lr_schedule = keras.optimizers.schedules.ExponentialDecay(\n",
    "    initial_learning_rate=1e-2,\n",
    "    decay_steps=10000,\n",
    "    decay_rate=0.9\n",
    ")\n",
    "optimizer = keras.optimizers.SGD(learning_rate=lr_schedule)"
   ]
  },
  {
   "cell_type": "code",
   "execution_count": 24,
   "id": "ef69a595-2286-4246-95f8-50f6dcfaee43",
   "metadata": {},
   "outputs": [],
   "source": [
    "model.compile(\n",
    "    optimizer=optimizer,\n",
    "    loss='mse'\n",
    ")"
   ]
  },
  {
   "cell_type": "code",
   "execution_count": 25,
   "id": "36ec8fd6-717f-4a28-9852-ebc8414ba835",
   "metadata": {},
   "outputs": [
    {
     "data": {
      "text/html": [
       "<pre style=\"white-space:pre;overflow-x:auto;line-height:normal;font-family:Menlo,'DejaVu Sans Mono',consolas,'Courier New',monospace\"><span style=\"font-weight: bold\">Model: \"sequential\"</span>\n",
       "</pre>\n"
      ],
      "text/plain": [
       "\u001b[1mModel: \"sequential\"\u001b[0m\n"
      ]
     },
     "metadata": {},
     "output_type": "display_data"
    },
    {
     "data": {
      "text/html": [
       "<pre style=\"white-space:pre;overflow-x:auto;line-height:normal;font-family:Menlo,'DejaVu Sans Mono',consolas,'Courier New',monospace\">┏━━━━━━━━━━━━━━━━━━━━━━━━━━━━━━━━━━━━━━┳━━━━━━━━━━━━━━━━━━━━━━━━━━━━━┳━━━━━━━━━━━━━━━━━┓\n",
       "┃<span style=\"font-weight: bold\"> Layer (type)                         </span>┃<span style=\"font-weight: bold\"> Output Shape                </span>┃<span style=\"font-weight: bold\">         Param # </span>┃\n",
       "┡━━━━━━━━━━━━━━━━━━━━━━━━━━━━━━━━━━━━━━╇━━━━━━━━━━━━━━━━━━━━━━━━━━━━━╇━━━━━━━━━━━━━━━━━┩\n",
       "│ dense (<span style=\"color: #0087ff; text-decoration-color: #0087ff\">Dense</span>)                        │ (<span style=\"color: #00d7ff; text-decoration-color: #00d7ff\">None</span>, <span style=\"color: #00af00; text-decoration-color: #00af00\">55</span>)                  │             <span style=\"color: #00af00; text-decoration-color: #00af00\">330</span> │\n",
       "├──────────────────────────────────────┼─────────────────────────────┼─────────────────┤\n",
       "│ dense_1 (<span style=\"color: #0087ff; text-decoration-color: #0087ff\">Dense</span>)                      │ (<span style=\"color: #00d7ff; text-decoration-color: #00d7ff\">None</span>, <span style=\"color: #00af00; text-decoration-color: #00af00\">55</span>)                  │           <span style=\"color: #00af00; text-decoration-color: #00af00\">3,080</span> │\n",
       "├──────────────────────────────────────┼─────────────────────────────┼─────────────────┤\n",
       "│ dense_2 (<span style=\"color: #0087ff; text-decoration-color: #0087ff\">Dense</span>)                      │ (<span style=\"color: #00d7ff; text-decoration-color: #00d7ff\">None</span>, <span style=\"color: #00af00; text-decoration-color: #00af00\">1</span>)                   │              <span style=\"color: #00af00; text-decoration-color: #00af00\">56</span> │\n",
       "└──────────────────────────────────────┴─────────────────────────────┴─────────────────┘\n",
       "</pre>\n"
      ],
      "text/plain": [
       "┏━━━━━━━━━━━━━━━━━━━━━━━━━━━━━━━━━━━━━━┳━━━━━━━━━━━━━━━━━━━━━━━━━━━━━┳━━━━━━━━━━━━━━━━━┓\n",
       "┃\u001b[1m \u001b[0m\u001b[1mLayer (type)                        \u001b[0m\u001b[1m \u001b[0m┃\u001b[1m \u001b[0m\u001b[1mOutput Shape               \u001b[0m\u001b[1m \u001b[0m┃\u001b[1m \u001b[0m\u001b[1m        Param #\u001b[0m\u001b[1m \u001b[0m┃\n",
       "┡━━━━━━━━━━━━━━━━━━━━━━━━━━━━━━━━━━━━━━╇━━━━━━━━━━━━━━━━━━━━━━━━━━━━━╇━━━━━━━━━━━━━━━━━┩\n",
       "│ dense (\u001b[38;5;33mDense\u001b[0m)                        │ (\u001b[38;5;45mNone\u001b[0m, \u001b[38;5;34m55\u001b[0m)                  │             \u001b[38;5;34m330\u001b[0m │\n",
       "├──────────────────────────────────────┼─────────────────────────────┼─────────────────┤\n",
       "│ dense_1 (\u001b[38;5;33mDense\u001b[0m)                      │ (\u001b[38;5;45mNone\u001b[0m, \u001b[38;5;34m55\u001b[0m)                  │           \u001b[38;5;34m3,080\u001b[0m │\n",
       "├──────────────────────────────────────┼─────────────────────────────┼─────────────────┤\n",
       "│ dense_2 (\u001b[38;5;33mDense\u001b[0m)                      │ (\u001b[38;5;45mNone\u001b[0m, \u001b[38;5;34m1\u001b[0m)                   │              \u001b[38;5;34m56\u001b[0m │\n",
       "└──────────────────────────────────────┴─────────────────────────────┴─────────────────┘\n"
      ]
     },
     "metadata": {},
     "output_type": "display_data"
    },
    {
     "data": {
      "text/html": [
       "<pre style=\"white-space:pre;overflow-x:auto;line-height:normal;font-family:Menlo,'DejaVu Sans Mono',consolas,'Courier New',monospace\"><span style=\"font-weight: bold\"> Total params: </span><span style=\"color: #00af00; text-decoration-color: #00af00\">3,466</span> (13.54 KB)\n",
       "</pre>\n"
      ],
      "text/plain": [
       "\u001b[1m Total params: \u001b[0m\u001b[38;5;34m3,466\u001b[0m (13.54 KB)\n"
      ]
     },
     "metadata": {},
     "output_type": "display_data"
    },
    {
     "data": {
      "text/html": [
       "<pre style=\"white-space:pre;overflow-x:auto;line-height:normal;font-family:Menlo,'DejaVu Sans Mono',consolas,'Courier New',monospace\"><span style=\"font-weight: bold\"> Trainable params: </span><span style=\"color: #00af00; text-decoration-color: #00af00\">3,466</span> (13.54 KB)\n",
       "</pre>\n"
      ],
      "text/plain": [
       "\u001b[1m Trainable params: \u001b[0m\u001b[38;5;34m3,466\u001b[0m (13.54 KB)\n"
      ]
     },
     "metadata": {},
     "output_type": "display_data"
    },
    {
     "data": {
      "text/html": [
       "<pre style=\"white-space:pre;overflow-x:auto;line-height:normal;font-family:Menlo,'DejaVu Sans Mono',consolas,'Courier New',monospace\"><span style=\"font-weight: bold\"> Non-trainable params: </span><span style=\"color: #00af00; text-decoration-color: #00af00\">0</span> (0.00 B)\n",
       "</pre>\n"
      ],
      "text/plain": [
       "\u001b[1m Non-trainable params: \u001b[0m\u001b[38;5;34m0\u001b[0m (0.00 B)\n"
      ]
     },
     "metadata": {},
     "output_type": "display_data"
    }
   ],
   "source": [
    "model.summary()"
   ]
  },
  {
   "cell_type": "code",
   "execution_count": 28,
   "id": "2b466f21-4394-4ea8-90bc-7e5802eef631",
   "metadata": {
    "scrolled": true
   },
   "outputs": [
    {
     "name": "stdout",
     "output_type": "stream",
     "text": [
      "Epoch 1/50\n",
      "\u001b[1m20937/20937\u001b[0m \u001b[32m━━━━━━━━━━━━━━━━━━━━\u001b[0m\u001b[37m\u001b[0m \u001b[1m25s\u001b[0m 1ms/step - loss: 0.0182 - val_loss: 0.0024\n",
      "Epoch 2/50\n",
      "\u001b[1m20937/20937\u001b[0m \u001b[32m━━━━━━━━━━━━━━━━━━━━\u001b[0m\u001b[37m\u001b[0m \u001b[1m27s\u001b[0m 1ms/step - loss: 0.0031 - val_loss: 0.0020\n",
      "Epoch 3/50\n",
      "\u001b[1m20937/20937\u001b[0m \u001b[32m━━━━━━━━━━━━━━━━━━━━\u001b[0m\u001b[37m\u001b[0m \u001b[1m44s\u001b[0m 2ms/step - loss: 0.0028 - val_loss: 0.0018\n",
      "Epoch 4/50\n",
      "\u001b[1m20937/20937\u001b[0m \u001b[32m━━━━━━━━━━━━━━━━━━━━\u001b[0m\u001b[37m\u001b[0m \u001b[1m43s\u001b[0m 2ms/step - loss: 0.0026 - val_loss: 0.0017\n",
      "Epoch 5/50\n",
      "\u001b[1m20937/20937\u001b[0m \u001b[32m━━━━━━━━━━━━━━━━━━━━\u001b[0m\u001b[37m\u001b[0m \u001b[1m27s\u001b[0m 1ms/step - loss: 0.0025 - val_loss: 0.0016\n",
      "Epoch 6/50\n",
      "\u001b[1m20937/20937\u001b[0m \u001b[32m━━━━━━━━━━━━━━━━━━━━\u001b[0m\u001b[37m\u001b[0m \u001b[1m30s\u001b[0m 1ms/step - loss: 0.0025 - val_loss: 0.0016\n",
      "Epoch 7/50\n",
      "\u001b[1m20937/20937\u001b[0m \u001b[32m━━━━━━━━━━━━━━━━━━━━\u001b[0m\u001b[37m\u001b[0m \u001b[1m27s\u001b[0m 1ms/step - loss: 0.0024 - val_loss: 0.0016\n",
      "Epoch 8/50\n",
      "\u001b[1m20937/20937\u001b[0m \u001b[32m━━━━━━━━━━━━━━━━━━━━\u001b[0m\u001b[37m\u001b[0m \u001b[1m25s\u001b[0m 1ms/step - loss: 0.0024 - val_loss: 0.0016\n",
      "Epoch 9/50\n",
      "\u001b[1m20937/20937\u001b[0m \u001b[32m━━━━━━━━━━━━━━━━━━━━\u001b[0m\u001b[37m\u001b[0m \u001b[1m23s\u001b[0m 1ms/step - loss: 0.0024 - val_loss: 0.0015\n",
      "Epoch 10/50\n",
      "\u001b[1m20937/20937\u001b[0m \u001b[32m━━━━━━━━━━━━━━━━━━━━\u001b[0m\u001b[37m\u001b[0m \u001b[1m25s\u001b[0m 1ms/step - loss: 0.0023 - val_loss: 0.0015\n",
      "Epoch 11/50\n",
      "\u001b[1m20937/20937\u001b[0m \u001b[32m━━━━━━━━━━━━━━━━━━━━\u001b[0m\u001b[37m\u001b[0m \u001b[1m22s\u001b[0m 1ms/step - loss: 0.0023 - val_loss: 0.0015\n",
      "Epoch 12/50\n",
      "\u001b[1m20937/20937\u001b[0m \u001b[32m━━━━━━━━━━━━━━━━━━━━\u001b[0m\u001b[37m\u001b[0m \u001b[1m22s\u001b[0m 1ms/step - loss: 0.0023 - val_loss: 0.0015\n",
      "Epoch 13/50\n",
      "\u001b[1m20937/20937\u001b[0m \u001b[32m━━━━━━━━━━━━━━━━━━━━\u001b[0m\u001b[37m\u001b[0m \u001b[1m29s\u001b[0m 1ms/step - loss: 0.0023 - val_loss: 0.0015\n",
      "Epoch 14/50\n",
      "\u001b[1m20937/20937\u001b[0m \u001b[32m━━━━━━━━━━━━━━━━━━━━\u001b[0m\u001b[37m\u001b[0m \u001b[1m24s\u001b[0m 1ms/step - loss: 0.0023 - val_loss: 0.0015\n",
      "Epoch 15/50\n",
      "\u001b[1m20937/20937\u001b[0m \u001b[32m━━━━━━━━━━━━━━━━━━━━\u001b[0m\u001b[37m\u001b[0m \u001b[1m22s\u001b[0m 1ms/step - loss: 0.0023 - val_loss: 0.0015\n",
      "Epoch 16/50\n",
      "\u001b[1m20937/20937\u001b[0m \u001b[32m━━━━━━━━━━━━━━━━━━━━\u001b[0m\u001b[37m\u001b[0m \u001b[1m24s\u001b[0m 1ms/step - loss: 0.0023 - val_loss: 0.0015\n",
      "Epoch 17/50\n",
      "\u001b[1m20937/20937\u001b[0m \u001b[32m━━━━━━━━━━━━━━━━━━━━\u001b[0m\u001b[37m\u001b[0m \u001b[1m32s\u001b[0m 2ms/step - loss: 0.0023 - val_loss: 0.0015\n",
      "Epoch 18/50\n",
      "\u001b[1m20937/20937\u001b[0m \u001b[32m━━━━━━━━━━━━━━━━━━━━\u001b[0m\u001b[37m\u001b[0m \u001b[1m39s\u001b[0m 2ms/step - loss: 0.0023 - val_loss: 0.0015\n",
      "Epoch 19/50\n",
      "\u001b[1m20937/20937\u001b[0m \u001b[32m━━━━━━━━━━━━━━━━━━━━\u001b[0m\u001b[37m\u001b[0m \u001b[1m59s\u001b[0m 3ms/step - loss: 0.0023 - val_loss: 0.0015\n",
      "Epoch 20/50\n",
      "\u001b[1m20937/20937\u001b[0m \u001b[32m━━━━━━━━━━━━━━━━━━━━\u001b[0m\u001b[37m\u001b[0m \u001b[1m28s\u001b[0m 1ms/step - loss: 0.0023 - val_loss: 0.0015\n",
      "Epoch 21/50\n",
      "\u001b[1m20937/20937\u001b[0m \u001b[32m━━━━━━━━━━━━━━━━━━━━\u001b[0m\u001b[37m\u001b[0m \u001b[1m25s\u001b[0m 1ms/step - loss: 0.0023 - val_loss: 0.0015\n",
      "Epoch 22/50\n",
      "\u001b[1m20937/20937\u001b[0m \u001b[32m━━━━━━━━━━━━━━━━━━━━\u001b[0m\u001b[37m\u001b[0m \u001b[1m27s\u001b[0m 1ms/step - loss: 0.0023 - val_loss: 0.0015\n",
      "Epoch 23/50\n",
      "\u001b[1m20937/20937\u001b[0m \u001b[32m━━━━━━━━━━━━━━━━━━━━\u001b[0m\u001b[37m\u001b[0m \u001b[1m28s\u001b[0m 1ms/step - loss: 0.0023 - val_loss: 0.0015\n",
      "Epoch 24/50\n",
      "\u001b[1m20937/20937\u001b[0m \u001b[32m━━━━━━━━━━━━━━━━━━━━\u001b[0m\u001b[37m\u001b[0m \u001b[1m27s\u001b[0m 1ms/step - loss: 0.0023 - val_loss: 0.0015\n",
      "Epoch 25/50\n",
      "\u001b[1m20937/20937\u001b[0m \u001b[32m━━━━━━━━━━━━━━━━━━━━\u001b[0m\u001b[37m\u001b[0m \u001b[1m28s\u001b[0m 1ms/step - loss: 0.0023 - val_loss: 0.0015\n",
      "Epoch 26/50\n",
      "\u001b[1m20937/20937\u001b[0m \u001b[32m━━━━━━━━━━━━━━━━━━━━\u001b[0m\u001b[37m\u001b[0m \u001b[1m32s\u001b[0m 2ms/step - loss: 0.0023 - val_loss: 0.0015\n",
      "Epoch 27/50\n",
      "\u001b[1m20937/20937\u001b[0m \u001b[32m━━━━━━━━━━━━━━━━━━━━\u001b[0m\u001b[37m\u001b[0m \u001b[1m38s\u001b[0m 2ms/step - loss: 0.0023 - val_loss: 0.0015\n",
      "Epoch 28/50\n",
      "\u001b[1m20937/20937\u001b[0m \u001b[32m━━━━━━━━━━━━━━━━━━━━\u001b[0m\u001b[37m\u001b[0m \u001b[1m39s\u001b[0m 2ms/step - loss: 0.0023 - val_loss: 0.0015\n",
      "Epoch 29/50\n",
      "\u001b[1m20937/20937\u001b[0m \u001b[32m━━━━━━━━━━━━━━━━━━━━\u001b[0m\u001b[37m\u001b[0m \u001b[1m51s\u001b[0m 2ms/step - loss: 0.0023 - val_loss: 0.0015\n",
      "Epoch 30/50\n",
      "\u001b[1m20937/20937\u001b[0m \u001b[32m━━━━━━━━━━━━━━━━━━━━\u001b[0m\u001b[37m\u001b[0m \u001b[1m53s\u001b[0m 3ms/step - loss: 0.0023 - val_loss: 0.0015\n",
      "Epoch 31/50\n",
      "\u001b[1m20937/20937\u001b[0m \u001b[32m━━━━━━━━━━━━━━━━━━━━\u001b[0m\u001b[37m\u001b[0m \u001b[1m46s\u001b[0m 2ms/step - loss: 0.0023 - val_loss: 0.0015\n",
      "Epoch 32/50\n",
      "\u001b[1m20937/20937\u001b[0m \u001b[32m━━━━━━━━━━━━━━━━━━━━\u001b[0m\u001b[37m\u001b[0m \u001b[1m34s\u001b[0m 2ms/step - loss: 0.0023 - val_loss: 0.0015\n",
      "Epoch 33/50\n",
      "\u001b[1m20937/20937\u001b[0m \u001b[32m━━━━━━━━━━━━━━━━━━━━\u001b[0m\u001b[37m\u001b[0m \u001b[1m28s\u001b[0m 1ms/step - loss: 0.0023 - val_loss: 0.0015\n",
      "Epoch 34/50\n",
      "\u001b[1m20937/20937\u001b[0m \u001b[32m━━━━━━━━━━━━━━━━━━━━\u001b[0m\u001b[37m\u001b[0m \u001b[1m28s\u001b[0m 1ms/step - loss: 0.0023 - val_loss: 0.0015\n",
      "Epoch 35/50\n",
      "\u001b[1m20937/20937\u001b[0m \u001b[32m━━━━━━━━━━━━━━━━━━━━\u001b[0m\u001b[37m\u001b[0m \u001b[1m40s\u001b[0m 2ms/step - loss: 0.0023 - val_loss: 0.0015\n",
      "Epoch 36/50\n",
      "\u001b[1m20937/20937\u001b[0m \u001b[32m━━━━━━━━━━━━━━━━━━━━\u001b[0m\u001b[37m\u001b[0m \u001b[1m27s\u001b[0m 1ms/step - loss: 0.0023 - val_loss: 0.0015\n",
      "Epoch 37/50\n",
      "\u001b[1m20937/20937\u001b[0m \u001b[32m━━━━━━━━━━━━━━━━━━━━\u001b[0m\u001b[37m\u001b[0m \u001b[1m26s\u001b[0m 1ms/step - loss: 0.0023 - val_loss: 0.0015\n",
      "Epoch 38/50\n",
      "\u001b[1m20937/20937\u001b[0m \u001b[32m━━━━━━━━━━━━━━━━━━━━\u001b[0m\u001b[37m\u001b[0m \u001b[1m24s\u001b[0m 1ms/step - loss: 0.0023 - val_loss: 0.0015\n",
      "Epoch 39/50\n",
      "\u001b[1m20937/20937\u001b[0m \u001b[32m━━━━━━━━━━━━━━━━━━━━\u001b[0m\u001b[37m\u001b[0m \u001b[1m38s\u001b[0m 999us/step - loss: 0.0023 - val_loss: 0.0015\n",
      "Epoch 40/50\n",
      "\u001b[1m20937/20937\u001b[0m \u001b[32m━━━━━━━━━━━━━━━━━━━━\u001b[0m\u001b[37m\u001b[0m \u001b[1m25s\u001b[0m 1ms/step - loss: 0.0023 - val_loss: 0.0015\n",
      "Epoch 41/50\n",
      "\u001b[1m20937/20937\u001b[0m \u001b[32m━━━━━━━━━━━━━━━━━━━━\u001b[0m\u001b[37m\u001b[0m \u001b[1m26s\u001b[0m 1ms/step - loss: 0.0023 - val_loss: 0.0015\n",
      "Epoch 42/50\n",
      "\u001b[1m20937/20937\u001b[0m \u001b[32m━━━━━━━━━━━━━━━━━━━━\u001b[0m\u001b[37m\u001b[0m \u001b[1m24s\u001b[0m 1ms/step - loss: 0.0023 - val_loss: 0.0015\n",
      "Epoch 43/50\n",
      "\u001b[1m20937/20937\u001b[0m \u001b[32m━━━━━━━━━━━━━━━━━━━━\u001b[0m\u001b[37m\u001b[0m \u001b[1m26s\u001b[0m 1ms/step - loss: 0.0023 - val_loss: 0.0015\n",
      "Epoch 44/50\n",
      "\u001b[1m20937/20937\u001b[0m \u001b[32m━━━━━━━━━━━━━━━━━━━━\u001b[0m\u001b[37m\u001b[0m \u001b[1m27s\u001b[0m 1ms/step - loss: 0.0023 - val_loss: 0.0015\n",
      "Epoch 45/50\n",
      "\u001b[1m20937/20937\u001b[0m \u001b[32m━━━━━━━━━━━━━━━━━━━━\u001b[0m\u001b[37m\u001b[0m \u001b[1m24s\u001b[0m 1ms/step - loss: 0.0023 - val_loss: 0.0015\n",
      "Epoch 46/50\n",
      "\u001b[1m20937/20937\u001b[0m \u001b[32m━━━━━━━━━━━━━━━━━━━━\u001b[0m\u001b[37m\u001b[0m \u001b[1m23s\u001b[0m 1ms/step - loss: 0.0023 - val_loss: 0.0015\n",
      "Epoch 47/50\n",
      "\u001b[1m20937/20937\u001b[0m \u001b[32m━━━━━━━━━━━━━━━━━━━━\u001b[0m\u001b[37m\u001b[0m \u001b[1m24s\u001b[0m 1ms/step - loss: 0.0023 - val_loss: 0.0015\n",
      "Epoch 48/50\n",
      "\u001b[1m20937/20937\u001b[0m \u001b[32m━━━━━━━━━━━━━━━━━━━━\u001b[0m\u001b[37m\u001b[0m \u001b[1m25s\u001b[0m 1ms/step - loss: 0.0023 - val_loss: 0.0015\n",
      "Epoch 49/50\n",
      "\u001b[1m20937/20937\u001b[0m \u001b[32m━━━━━━━━━━━━━━━━━━━━\u001b[0m\u001b[37m\u001b[0m \u001b[1m25s\u001b[0m 1ms/step - loss: 0.0023 - val_loss: 0.0015\n",
      "Epoch 50/50\n",
      "\u001b[1m20937/20937\u001b[0m \u001b[32m━━━━━━━━━━━━━━━━━━━━\u001b[0m\u001b[37m\u001b[0m \u001b[1m24s\u001b[0m 1ms/step - loss: 0.0023 - val_loss: 0.0015\n",
      "Epoch 1/50\n",
      "\u001b[1m20937/20937\u001b[0m \u001b[32m━━━━━━━━━━━━━━━━━━━━\u001b[0m\u001b[37m\u001b[0m \u001b[1m27s\u001b[0m 1ms/step - loss: 0.0023 - val_loss: 0.0015\n",
      "Epoch 2/50\n",
      "\u001b[1m20937/20937\u001b[0m \u001b[32m━━━━━━━━━━━━━━━━━━━━\u001b[0m\u001b[37m\u001b[0m \u001b[1m25s\u001b[0m 1ms/step - loss: 0.0023 - val_loss: 0.0015\n",
      "Epoch 3/50\n",
      "\u001b[1m20937/20937\u001b[0m \u001b[32m━━━━━━━━━━━━━━━━━━━━\u001b[0m\u001b[37m\u001b[0m \u001b[1m24s\u001b[0m 1ms/step - loss: 0.0023 - val_loss: 0.0015\n",
      "Epoch 4/50\n",
      "\u001b[1m20937/20937\u001b[0m \u001b[32m━━━━━━━━━━━━━━━━━━━━\u001b[0m\u001b[37m\u001b[0m \u001b[1m26s\u001b[0m 1ms/step - loss: 0.0023 - val_loss: 0.0015\n",
      "Epoch 5/50\n",
      "\u001b[1m20937/20937\u001b[0m \u001b[32m━━━━━━━━━━━━━━━━━━━━\u001b[0m\u001b[37m\u001b[0m \u001b[1m24s\u001b[0m 1ms/step - loss: 0.0023 - val_loss: 0.0015\n",
      "Epoch 6/50\n",
      "\u001b[1m20937/20937\u001b[0m \u001b[32m━━━━━━━━━━━━━━━━━━━━\u001b[0m\u001b[37m\u001b[0m \u001b[1m24s\u001b[0m 1ms/step - loss: 0.0023 - val_loss: 0.0015\n",
      "Epoch 7/50\n",
      "\u001b[1m20937/20937\u001b[0m \u001b[32m━━━━━━━━━━━━━━━━━━━━\u001b[0m\u001b[37m\u001b[0m \u001b[1m25s\u001b[0m 1ms/step - loss: 0.0023 - val_loss: 0.0015\n",
      "Epoch 8/50\n",
      "\u001b[1m20937/20937\u001b[0m \u001b[32m━━━━━━━━━━━━━━━━━━━━\u001b[0m\u001b[37m\u001b[0m \u001b[1m24s\u001b[0m 1ms/step - loss: 0.0023 - val_loss: 0.0015\n",
      "Epoch 9/50\n",
      "\u001b[1m20937/20937\u001b[0m \u001b[32m━━━━━━━━━━━━━━━━━━━━\u001b[0m\u001b[37m\u001b[0m \u001b[1m25s\u001b[0m 1ms/step - loss: 0.0023 - val_loss: 0.0015\n",
      "Epoch 10/50\n",
      "\u001b[1m20937/20937\u001b[0m \u001b[32m━━━━━━━━━━━━━━━━━━━━\u001b[0m\u001b[37m\u001b[0m \u001b[1m24s\u001b[0m 1ms/step - loss: 0.0023 - val_loss: 0.0015\n",
      "Epoch 11/50\n",
      "\u001b[1m20937/20937\u001b[0m \u001b[32m━━━━━━━━━━━━━━━━━━━━\u001b[0m\u001b[37m\u001b[0m \u001b[1m25s\u001b[0m 1ms/step - loss: 0.0023 - val_loss: 0.0015\n",
      "Epoch 12/50\n",
      "\u001b[1m20937/20937\u001b[0m \u001b[32m━━━━━━━━━━━━━━━━━━━━\u001b[0m\u001b[37m\u001b[0m \u001b[1m39s\u001b[0m 1ms/step - loss: 0.0023 - val_loss: 0.0015\n",
      "Epoch 13/50\n",
      "\u001b[1m20937/20937\u001b[0m \u001b[32m━━━━━━━━━━━━━━━━━━━━\u001b[0m\u001b[37m\u001b[0m \u001b[1m24s\u001b[0m 1ms/step - loss: 0.0023 - val_loss: 0.0015\n",
      "Epoch 14/50\n",
      "\u001b[1m20937/20937\u001b[0m \u001b[32m━━━━━━━━━━━━━━━━━━━━\u001b[0m\u001b[37m\u001b[0m \u001b[1m25s\u001b[0m 1ms/step - loss: 0.0023 - val_loss: 0.0015\n",
      "Epoch 15/50\n",
      "\u001b[1m20937/20937\u001b[0m \u001b[32m━━━━━━━━━━━━━━━━━━━━\u001b[0m\u001b[37m\u001b[0m \u001b[1m23s\u001b[0m 1ms/step - loss: 0.0023 - val_loss: 0.0015\n",
      "Epoch 16/50\n",
      "\u001b[1m20937/20937\u001b[0m \u001b[32m━━━━━━━━━━━━━━━━━━━━\u001b[0m\u001b[37m\u001b[0m \u001b[1m24s\u001b[0m 1ms/step - loss: 0.0023 - val_loss: 0.0015\n",
      "Epoch 17/50\n",
      "\u001b[1m20937/20937\u001b[0m \u001b[32m━━━━━━━━━━━━━━━━━━━━\u001b[0m\u001b[37m\u001b[0m \u001b[1m25s\u001b[0m 1ms/step - loss: 0.0023 - val_loss: 0.0015\n",
      "Epoch 18/50\n",
      "\u001b[1m20937/20937\u001b[0m \u001b[32m━━━━━━━━━━━━━━━━━━━━\u001b[0m\u001b[37m\u001b[0m \u001b[1m25s\u001b[0m 1ms/step - loss: 0.0023 - val_loss: 0.0015\n",
      "Epoch 19/50\n",
      "\u001b[1m20937/20937\u001b[0m \u001b[32m━━━━━━━━━━━━━━━━━━━━\u001b[0m\u001b[37m\u001b[0m \u001b[1m25s\u001b[0m 1ms/step - loss: 0.0023 - val_loss: 0.0015\n",
      "Epoch 20/50\n",
      "\u001b[1m20937/20937\u001b[0m \u001b[32m━━━━━━━━━━━━━━━━━━━━\u001b[0m\u001b[37m\u001b[0m \u001b[1m25s\u001b[0m 1ms/step - loss: 0.0023 - val_loss: 0.0015\n",
      "Epoch 21/50\n",
      "\u001b[1m20937/20937\u001b[0m \u001b[32m━━━━━━━━━━━━━━━━━━━━\u001b[0m\u001b[37m\u001b[0m \u001b[1m25s\u001b[0m 1ms/step - loss: 0.0023 - val_loss: 0.0015\n",
      "Epoch 22/50\n",
      "\u001b[1m20937/20937\u001b[0m \u001b[32m━━━━━━━━━━━━━━━━━━━━\u001b[0m\u001b[37m\u001b[0m \u001b[1m24s\u001b[0m 1ms/step - loss: 0.0023 - val_loss: 0.0015\n",
      "Epoch 23/50\n",
      "\u001b[1m20937/20937\u001b[0m \u001b[32m━━━━━━━━━━━━━━━━━━━━\u001b[0m\u001b[37m\u001b[0m \u001b[1m24s\u001b[0m 1ms/step - loss: 0.0023 - val_loss: 0.0015\n",
      "Epoch 24/50\n",
      "\u001b[1m20937/20937\u001b[0m \u001b[32m━━━━━━━━━━━━━━━━━━━━\u001b[0m\u001b[37m\u001b[0m \u001b[1m25s\u001b[0m 1ms/step - loss: 0.0023 - val_loss: 0.0015\n",
      "Epoch 25/50\n",
      "\u001b[1m20937/20937\u001b[0m \u001b[32m━━━━━━━━━━━━━━━━━━━━\u001b[0m\u001b[37m\u001b[0m \u001b[1m24s\u001b[0m 1ms/step - loss: 0.0023 - val_loss: 0.0015\n",
      "Epoch 26/50\n",
      "\u001b[1m20937/20937\u001b[0m \u001b[32m━━━━━━━━━━━━━━━━━━━━\u001b[0m\u001b[37m\u001b[0m \u001b[1m24s\u001b[0m 1ms/step - loss: 0.0023 - val_loss: 0.0015\n",
      "Epoch 27/50\n",
      "\u001b[1m20937/20937\u001b[0m \u001b[32m━━━━━━━━━━━━━━━━━━━━\u001b[0m\u001b[37m\u001b[0m \u001b[1m25s\u001b[0m 1ms/step - loss: 0.0023 - val_loss: 0.0015\n",
      "Epoch 28/50\n",
      "\u001b[1m20937/20937\u001b[0m \u001b[32m━━━━━━━━━━━━━━━━━━━━\u001b[0m\u001b[37m\u001b[0m \u001b[1m25s\u001b[0m 1ms/step - loss: 0.0023 - val_loss: 0.0015\n",
      "Epoch 29/50\n",
      "\u001b[1m20937/20937\u001b[0m \u001b[32m━━━━━━━━━━━━━━━━━━━━\u001b[0m\u001b[37m\u001b[0m \u001b[1m24s\u001b[0m 1ms/step - loss: 0.0023 - val_loss: 0.0015\n",
      "Epoch 30/50\n",
      "\u001b[1m20937/20937\u001b[0m \u001b[32m━━━━━━━━━━━━━━━━━━━━\u001b[0m\u001b[37m\u001b[0m \u001b[1m24s\u001b[0m 1ms/step - loss: 0.0023 - val_loss: 0.0015\n",
      "Epoch 31/50\n",
      "\u001b[1m20937/20937\u001b[0m \u001b[32m━━━━━━━━━━━━━━━━━━━━\u001b[0m\u001b[37m\u001b[0m \u001b[1m26s\u001b[0m 1ms/step - loss: 0.0023 - val_loss: 0.0015\n",
      "Epoch 32/50\n",
      "\u001b[1m20937/20937\u001b[0m \u001b[32m━━━━━━━━━━━━━━━━━━━━\u001b[0m\u001b[37m\u001b[0m \u001b[1m25s\u001b[0m 1ms/step - loss: 0.0023 - val_loss: 0.0015\n",
      "Epoch 33/50\n",
      "\u001b[1m20937/20937\u001b[0m \u001b[32m━━━━━━━━━━━━━━━━━━━━\u001b[0m\u001b[37m\u001b[0m \u001b[1m24s\u001b[0m 1ms/step - loss: 0.0023 - val_loss: 0.0015\n",
      "Epoch 34/50\n",
      "\u001b[1m20937/20937\u001b[0m \u001b[32m━━━━━━━━━━━━━━━━━━━━\u001b[0m\u001b[37m\u001b[0m \u001b[1m25s\u001b[0m 1ms/step - loss: 0.0023 - val_loss: 0.0015\n",
      "Epoch 35/50\n",
      "\u001b[1m20937/20937\u001b[0m \u001b[32m━━━━━━━━━━━━━━━━━━━━\u001b[0m\u001b[37m\u001b[0m \u001b[1m25s\u001b[0m 1ms/step - loss: 0.0023 - val_loss: 0.0015\n",
      "Epoch 36/50\n",
      "\u001b[1m20937/20937\u001b[0m \u001b[32m━━━━━━━━━━━━━━━━━━━━\u001b[0m\u001b[37m\u001b[0m \u001b[1m25s\u001b[0m 1ms/step - loss: 0.0023 - val_loss: 0.0015\n",
      "Epoch 37/50\n",
      "\u001b[1m20937/20937\u001b[0m \u001b[32m━━━━━━━━━━━━━━━━━━━━\u001b[0m\u001b[37m\u001b[0m \u001b[1m25s\u001b[0m 1ms/step - loss: 0.0023 - val_loss: 0.0015\n",
      "Epoch 38/50\n",
      "\u001b[1m20937/20937\u001b[0m \u001b[32m━━━━━━━━━━━━━━━━━━━━\u001b[0m\u001b[37m\u001b[0m \u001b[1m25s\u001b[0m 1ms/step - loss: 0.0023 - val_loss: 0.0015\n",
      "Epoch 39/50\n",
      "\u001b[1m20937/20937\u001b[0m \u001b[32m━━━━━━━━━━━━━━━━━━━━\u001b[0m\u001b[37m\u001b[0m \u001b[1m25s\u001b[0m 1ms/step - loss: 0.0023 - val_loss: 0.0015\n",
      "Epoch 40/50\n",
      "\u001b[1m20937/20937\u001b[0m \u001b[32m━━━━━━━━━━━━━━━━━━━━\u001b[0m\u001b[37m\u001b[0m \u001b[1m25s\u001b[0m 1ms/step - loss: 0.0023 - val_loss: 0.0015\n",
      "Epoch 41/50\n",
      "\u001b[1m20937/20937\u001b[0m \u001b[32m━━━━━━━━━━━━━━━━━━━━\u001b[0m\u001b[37m\u001b[0m \u001b[1m25s\u001b[0m 1ms/step - loss: 0.0023 - val_loss: 0.0015\n",
      "Epoch 42/50\n",
      "\u001b[1m20937/20937\u001b[0m \u001b[32m━━━━━━━━━━━━━━━━━━━━\u001b[0m\u001b[37m\u001b[0m \u001b[1m24s\u001b[0m 1ms/step - loss: 0.0023 - val_loss: 0.0015\n",
      "Epoch 43/50\n",
      "\u001b[1m20937/20937\u001b[0m \u001b[32m━━━━━━━━━━━━━━━━━━━━\u001b[0m\u001b[37m\u001b[0m \u001b[1m25s\u001b[0m 1ms/step - loss: 0.0023 - val_loss: 0.0015\n",
      "Epoch 44/50\n",
      "\u001b[1m20937/20937\u001b[0m \u001b[32m━━━━━━━━━━━━━━━━━━━━\u001b[0m\u001b[37m\u001b[0m \u001b[1m25s\u001b[0m 1ms/step - loss: 0.0023 - val_loss: 0.0015\n",
      "Epoch 45/50\n",
      "\u001b[1m20937/20937\u001b[0m \u001b[32m━━━━━━━━━━━━━━━━━━━━\u001b[0m\u001b[37m\u001b[0m \u001b[1m25s\u001b[0m 1ms/step - loss: 0.0023 - val_loss: 0.0015\n",
      "Epoch 46/50\n",
      "\u001b[1m20937/20937\u001b[0m \u001b[32m━━━━━━━━━━━━━━━━━━━━\u001b[0m\u001b[37m\u001b[0m \u001b[1m26s\u001b[0m 1ms/step - loss: 0.0023 - val_loss: 0.0015\n",
      "Epoch 47/50\n",
      "\u001b[1m20937/20937\u001b[0m \u001b[32m━━━━━━━━━━━━━━━━━━━━\u001b[0m\u001b[37m\u001b[0m \u001b[1m25s\u001b[0m 1ms/step - loss: 0.0023 - val_loss: 0.0015\n",
      "Epoch 48/50\n",
      "\u001b[1m20937/20937\u001b[0m \u001b[32m━━━━━━━━━━━━━━━━━━━━\u001b[0m\u001b[37m\u001b[0m \u001b[1m25s\u001b[0m 1ms/step - loss: 0.0023 - val_loss: 0.0015\n",
      "Epoch 49/50\n",
      "\u001b[1m20937/20937\u001b[0m \u001b[32m━━━━━━━━━━━━━━━━━━━━\u001b[0m\u001b[37m\u001b[0m \u001b[1m25s\u001b[0m 1ms/step - loss: 0.0023 - val_loss: 0.0015\n",
      "Epoch 50/50\n",
      "\u001b[1m20937/20937\u001b[0m \u001b[32m━━━━━━━━━━━━━━━━━━━━\u001b[0m\u001b[37m\u001b[0m \u001b[1m25s\u001b[0m 1ms/step - loss: 0.0023 - val_loss: 0.0015\n",
      "Epoch 1/50\n",
      "\u001b[1m20937/20937\u001b[0m \u001b[32m━━━━━━━━━━━━━━━━━━━━\u001b[0m\u001b[37m\u001b[0m \u001b[1m26s\u001b[0m 1ms/step - loss: 0.0023 - val_loss: 0.0015\n",
      "Epoch 2/50\n",
      "\u001b[1m20937/20937\u001b[0m \u001b[32m━━━━━━━━━━━━━━━━━━━━\u001b[0m\u001b[37m\u001b[0m \u001b[1m25s\u001b[0m 1ms/step - loss: 0.0023 - val_loss: 0.0015\n",
      "Epoch 3/50\n",
      "\u001b[1m20937/20937\u001b[0m \u001b[32m━━━━━━━━━━━━━━━━━━━━\u001b[0m\u001b[37m\u001b[0m \u001b[1m25s\u001b[0m 1ms/step - loss: 0.0023 - val_loss: 0.0015\n",
      "Epoch 4/50\n",
      "\u001b[1m20937/20937\u001b[0m \u001b[32m━━━━━━━━━━━━━━━━━━━━\u001b[0m\u001b[37m\u001b[0m \u001b[1m25s\u001b[0m 1ms/step - loss: 0.0023 - val_loss: 0.0015\n",
      "Epoch 5/50\n",
      "\u001b[1m20937/20937\u001b[0m \u001b[32m━━━━━━━━━━━━━━━━━━━━\u001b[0m\u001b[37m\u001b[0m \u001b[1m26s\u001b[0m 1ms/step - loss: 0.0023 - val_loss: 0.0015\n",
      "Epoch 6/50\n",
      "\u001b[1m20937/20937\u001b[0m \u001b[32m━━━━━━━━━━━━━━━━━━━━\u001b[0m\u001b[37m\u001b[0m \u001b[1m26s\u001b[0m 1ms/step - loss: 0.0023 - val_loss: 0.0015\n",
      "Epoch 7/50\n",
      "\u001b[1m20937/20937\u001b[0m \u001b[32m━━━━━━━━━━━━━━━━━━━━\u001b[0m\u001b[37m\u001b[0m \u001b[1m26s\u001b[0m 1ms/step - loss: 0.0023 - val_loss: 0.0015\n",
      "Epoch 8/50\n",
      "\u001b[1m20937/20937\u001b[0m \u001b[32m━━━━━━━━━━━━━━━━━━━━\u001b[0m\u001b[37m\u001b[0m \u001b[1m26s\u001b[0m 1ms/step - loss: 0.0023 - val_loss: 0.0015\n",
      "Epoch 9/50\n",
      "\u001b[1m20937/20937\u001b[0m \u001b[32m━━━━━━━━━━━━━━━━━━━━\u001b[0m\u001b[37m\u001b[0m \u001b[1m25s\u001b[0m 1ms/step - loss: 0.0023 - val_loss: 0.0015\n",
      "Epoch 10/50\n",
      "\u001b[1m20937/20937\u001b[0m \u001b[32m━━━━━━━━━━━━━━━━━━━━\u001b[0m\u001b[37m\u001b[0m \u001b[1m28s\u001b[0m 1ms/step - loss: 0.0023 - val_loss: 0.0015\n",
      "Epoch 11/50\n",
      "\u001b[1m20937/20937\u001b[0m \u001b[32m━━━━━━━━━━━━━━━━━━━━\u001b[0m\u001b[37m\u001b[0m \u001b[1m25s\u001b[0m 1ms/step - loss: 0.0023 - val_loss: 0.0015\n",
      "Epoch 12/50\n",
      "\u001b[1m20937/20937\u001b[0m \u001b[32m━━━━━━━━━━━━━━━━━━━━\u001b[0m\u001b[37m\u001b[0m \u001b[1m25s\u001b[0m 1ms/step - loss: 0.0023 - val_loss: 0.0015\n",
      "Epoch 13/50\n",
      "\u001b[1m20937/20937\u001b[0m \u001b[32m━━━━━━━━━━━━━━━━━━━━\u001b[0m\u001b[37m\u001b[0m \u001b[1m27s\u001b[0m 1ms/step - loss: 0.0023 - val_loss: 0.0015\n",
      "Epoch 14/50\n",
      "\u001b[1m20937/20937\u001b[0m \u001b[32m━━━━━━━━━━━━━━━━━━━━\u001b[0m\u001b[37m\u001b[0m \u001b[1m26s\u001b[0m 1ms/step - loss: 0.0023 - val_loss: 0.0015\n",
      "Epoch 15/50\n",
      "\u001b[1m20937/20937\u001b[0m \u001b[32m━━━━━━━━━━━━━━━━━━━━\u001b[0m\u001b[37m\u001b[0m \u001b[1m27s\u001b[0m 1ms/step - loss: 0.0023 - val_loss: 0.0015\n",
      "Epoch 16/50\n",
      "\u001b[1m20937/20937\u001b[0m \u001b[32m━━━━━━━━━━━━━━━━━━━━\u001b[0m\u001b[37m\u001b[0m \u001b[1m27s\u001b[0m 1ms/step - loss: 0.0023 - val_loss: 0.0015\n",
      "Epoch 17/50\n",
      "\u001b[1m20937/20937\u001b[0m \u001b[32m━━━━━━━━━━━━━━━━━━━━\u001b[0m\u001b[37m\u001b[0m \u001b[1m25s\u001b[0m 1ms/step - loss: 0.0023 - val_loss: 0.0015\n",
      "Epoch 18/50\n",
      "\u001b[1m20937/20937\u001b[0m \u001b[32m━━━━━━━━━━━━━━━━━━━━\u001b[0m\u001b[37m\u001b[0m \u001b[1m27s\u001b[0m 1ms/step - loss: 0.0023 - val_loss: 0.0015\n",
      "Epoch 19/50\n",
      "\u001b[1m20937/20937\u001b[0m \u001b[32m━━━━━━━━━━━━━━━━━━━━\u001b[0m\u001b[37m\u001b[0m \u001b[1m26s\u001b[0m 1ms/step - loss: 0.0023 - val_loss: 0.0015\n",
      "Epoch 20/50\n",
      "\u001b[1m20937/20937\u001b[0m \u001b[32m━━━━━━━━━━━━━━━━━━━━\u001b[0m\u001b[37m\u001b[0m \u001b[1m25s\u001b[0m 1ms/step - loss: 0.0023 - val_loss: 0.0015\n",
      "Epoch 21/50\n",
      "\u001b[1m20937/20937\u001b[0m \u001b[32m━━━━━━━━━━━━━━━━━━━━\u001b[0m\u001b[37m\u001b[0m \u001b[1m26s\u001b[0m 1ms/step - loss: 0.0023 - val_loss: 0.0015\n",
      "Epoch 22/50\n",
      "\u001b[1m20937/20937\u001b[0m \u001b[32m━━━━━━━━━━━━━━━━━━━━\u001b[0m\u001b[37m\u001b[0m \u001b[1m27s\u001b[0m 1ms/step - loss: 0.0023 - val_loss: 0.0015\n",
      "Epoch 23/50\n",
      "\u001b[1m20937/20937\u001b[0m \u001b[32m━━━━━━━━━━━━━━━━━━━━\u001b[0m\u001b[37m\u001b[0m \u001b[1m25s\u001b[0m 1ms/step - loss: 0.0023 - val_loss: 0.0015\n",
      "Epoch 24/50\n",
      "\u001b[1m20937/20937\u001b[0m \u001b[32m━━━━━━━━━━━━━━━━━━━━\u001b[0m\u001b[37m\u001b[0m \u001b[1m27s\u001b[0m 1ms/step - loss: 0.0023 - val_loss: 0.0015\n",
      "Epoch 25/50\n",
      "\u001b[1m20937/20937\u001b[0m \u001b[32m━━━━━━━━━━━━━━━━━━━━\u001b[0m\u001b[37m\u001b[0m \u001b[1m26s\u001b[0m 1ms/step - loss: 0.0023 - val_loss: 0.0015\n",
      "Epoch 26/50\n",
      "\u001b[1m20937/20937\u001b[0m \u001b[32m━━━━━━━━━━━━━━━━━━━━\u001b[0m\u001b[37m\u001b[0m \u001b[1m28s\u001b[0m 1ms/step - loss: 0.0023 - val_loss: 0.0015\n",
      "Epoch 27/50\n",
      "\u001b[1m20937/20937\u001b[0m \u001b[32m━━━━━━━━━━━━━━━━━━━━\u001b[0m\u001b[37m\u001b[0m \u001b[1m25s\u001b[0m 1ms/step - loss: 0.0023 - val_loss: 0.0015\n",
      "Epoch 28/50\n",
      "\u001b[1m20937/20937\u001b[0m \u001b[32m━━━━━━━━━━━━━━━━━━━━\u001b[0m\u001b[37m\u001b[0m \u001b[1m27s\u001b[0m 1ms/step - loss: 0.0023 - val_loss: 0.0015\n",
      "Epoch 29/50\n",
      "\u001b[1m20937/20937\u001b[0m \u001b[32m━━━━━━━━━━━━━━━━━━━━\u001b[0m\u001b[37m\u001b[0m \u001b[1m26s\u001b[0m 1ms/step - loss: 0.0023 - val_loss: 0.0015\n",
      "Epoch 30/50\n",
      "\u001b[1m20937/20937\u001b[0m \u001b[32m━━━━━━━━━━━━━━━━━━━━\u001b[0m\u001b[37m\u001b[0m \u001b[1m26s\u001b[0m 1ms/step - loss: 0.0023 - val_loss: 0.0015\n",
      "Epoch 31/50\n",
      "\u001b[1m20937/20937\u001b[0m \u001b[32m━━━━━━━━━━━━━━━━━━━━\u001b[0m\u001b[37m\u001b[0m \u001b[1m26s\u001b[0m 1ms/step - loss: 0.0023 - val_loss: 0.0015\n",
      "Epoch 32/50\n",
      "\u001b[1m20937/20937\u001b[0m \u001b[32m━━━━━━━━━━━━━━━━━━━━\u001b[0m\u001b[37m\u001b[0m \u001b[1m26s\u001b[0m 1ms/step - loss: 0.0023 - val_loss: 0.0015\n",
      "Epoch 33/50\n",
      "\u001b[1m20937/20937\u001b[0m \u001b[32m━━━━━━━━━━━━━━━━━━━━\u001b[0m\u001b[37m\u001b[0m \u001b[1m26s\u001b[0m 1ms/step - loss: 0.0023 - val_loss: 0.0015\n",
      "Epoch 34/50\n",
      "\u001b[1m20937/20937\u001b[0m \u001b[32m━━━━━━━━━━━━━━━━━━━━\u001b[0m\u001b[37m\u001b[0m \u001b[1m27s\u001b[0m 1ms/step - loss: 0.0023 - val_loss: 0.0015\n",
      "Epoch 35/50\n",
      "\u001b[1m20937/20937\u001b[0m \u001b[32m━━━━━━━━━━━━━━━━━━━━\u001b[0m\u001b[37m\u001b[0m \u001b[1m26s\u001b[0m 1ms/step - loss: 0.0023 - val_loss: 0.0015\n",
      "Epoch 36/50\n",
      "\u001b[1m20937/20937\u001b[0m \u001b[32m━━━━━━━━━━━━━━━━━━━━\u001b[0m\u001b[37m\u001b[0m \u001b[1m25s\u001b[0m 1ms/step - loss: 0.0023 - val_loss: 0.0015\n",
      "Epoch 37/50\n",
      "\u001b[1m20937/20937\u001b[0m \u001b[32m━━━━━━━━━━━━━━━━━━━━\u001b[0m\u001b[37m\u001b[0m \u001b[1m28s\u001b[0m 1ms/step - loss: 0.0023 - val_loss: 0.0015\n",
      "Epoch 38/50\n",
      "\u001b[1m20937/20937\u001b[0m \u001b[32m━━━━━━━━━━━━━━━━━━━━\u001b[0m\u001b[37m\u001b[0m \u001b[1m26s\u001b[0m 1ms/step - loss: 0.0023 - val_loss: 0.0015\n",
      "Epoch 39/50\n",
      "\u001b[1m20937/20937\u001b[0m \u001b[32m━━━━━━━━━━━━━━━━━━━━\u001b[0m\u001b[37m\u001b[0m \u001b[1m27s\u001b[0m 1ms/step - loss: 0.0023 - val_loss: 0.0015\n",
      "Epoch 40/50\n",
      "\u001b[1m20937/20937\u001b[0m \u001b[32m━━━━━━━━━━━━━━━━━━━━\u001b[0m\u001b[37m\u001b[0m \u001b[1m25s\u001b[0m 1ms/step - loss: 0.0023 - val_loss: 0.0015\n",
      "Epoch 41/50\n",
      "\u001b[1m20937/20937\u001b[0m \u001b[32m━━━━━━━━━━━━━━━━━━━━\u001b[0m\u001b[37m\u001b[0m \u001b[1m26s\u001b[0m 1ms/step - loss: 0.0023 - val_loss: 0.0015\n",
      "Epoch 42/50\n",
      "\u001b[1m20937/20937\u001b[0m \u001b[32m━━━━━━━━━━━━━━━━━━━━\u001b[0m\u001b[37m\u001b[0m \u001b[1m26s\u001b[0m 1ms/step - loss: 0.0023 - val_loss: 0.0015\n",
      "Epoch 43/50\n",
      "\u001b[1m20937/20937\u001b[0m \u001b[32m━━━━━━━━━━━━━━━━━━━━\u001b[0m\u001b[37m\u001b[0m \u001b[1m25s\u001b[0m 1ms/step - loss: 0.0023 - val_loss: 0.0015\n",
      "Epoch 44/50\n",
      "\u001b[1m20937/20937\u001b[0m \u001b[32m━━━━━━━━━━━━━━━━━━━━\u001b[0m\u001b[37m\u001b[0m \u001b[1m27s\u001b[0m 1ms/step - loss: 0.0023 - val_loss: 0.0015\n",
      "Epoch 45/50\n",
      "\u001b[1m20937/20937\u001b[0m \u001b[32m━━━━━━━━━━━━━━━━━━━━\u001b[0m\u001b[37m\u001b[0m \u001b[1m25s\u001b[0m 1ms/step - loss: 0.0023 - val_loss: 0.0015\n",
      "Epoch 46/50\n",
      "\u001b[1m20937/20937\u001b[0m \u001b[32m━━━━━━━━━━━━━━━━━━━━\u001b[0m\u001b[37m\u001b[0m \u001b[1m26s\u001b[0m 1ms/step - loss: 0.0023 - val_loss: 0.0015\n",
      "Epoch 47/50\n",
      "\u001b[1m20937/20937\u001b[0m \u001b[32m━━━━━━━━━━━━━━━━━━━━\u001b[0m\u001b[37m\u001b[0m \u001b[1m27s\u001b[0m 1ms/step - loss: 0.0023 - val_loss: 0.0015\n",
      "Epoch 48/50\n",
      "\u001b[1m20937/20937\u001b[0m \u001b[32m━━━━━━━━━━━━━━━━━━━━\u001b[0m\u001b[37m\u001b[0m \u001b[1m26s\u001b[0m 1ms/step - loss: 0.0023 - val_loss: 0.0015\n",
      "Epoch 49/50\n",
      "\u001b[1m20937/20937\u001b[0m \u001b[32m━━━━━━━━━━━━━━━━━━━━\u001b[0m\u001b[37m\u001b[0m \u001b[1m25s\u001b[0m 1ms/step - loss: 0.0023 - val_loss: 0.0015\n",
      "Epoch 50/50\n",
      "\u001b[1m20937/20937\u001b[0m \u001b[32m━━━━━━━━━━━━━━━━━━━━\u001b[0m\u001b[37m\u001b[0m \u001b[1m26s\u001b[0m 1ms/step - loss: 0.0023 - val_loss: 0.0015\n"
     ]
    }
   ],
   "source": [
    "for t in range(no_training):\n",
    "    history = model.fit(\n",
    "        normalized_X_train,\n",
    "        y_train,\n",
    "        epochs=epochs,\n",
    "        batch_size=mini_batch_size,\n",
    "        validation_data=(\n",
    "            normalized_X_val, \n",
    "            y_val\n",
    "        ),\n",
    "        verbose=1\n",
    "    )"
   ]
  },
  {
   "cell_type": "markdown",
   "id": "9549cbbc-041f-48ee-9843-635120c26ba4",
   "metadata": {},
   "source": [
    "# Model Saving"
   ]
  },
  {
   "cell_type": "code",
   "execution_count": 30,
   "id": "4b1b908c-4ce6-4ee9-bd91-1fb1a2ef41f3",
   "metadata": {},
   "outputs": [
    {
     "name": "stderr",
     "output_type": "stream",
     "text": [
      "D:\\virtualenv\\myenv\\Lib\\site-packages\\keras\\src\\activations\\__init__.py:54: UserWarning: The object being serialized includes a `lambda`. This is unsafe. In order to reload the object, you will have to pass `safe_mode=False` to the loading function. Please avoid using `lambda` in the future, and use named Python functions instead. This is the `lambda` being serialized:     layers.Dense(no_responses, activation=lambda x: keras.backend.clip(x, 0, 1))\n",
      "\n",
      "  fn_config = serialization_lib.serialize_keras_object(activation)\n"
     ]
    }
   ],
   "source": [
    "model_path = f'./models/soc_estimation_dl.keras'\n",
    "model.save(model_path)"
   ]
  },
  {
   "cell_type": "markdown",
   "id": "d72886eb-3e53-4630-a691-d20f65ac6bfe",
   "metadata": {},
   "source": [
    "# Model History"
   ]
  },
  {
   "cell_type": "code",
   "execution_count": 31,
   "id": "1fb22322-e2d1-461f-b700-32ce0cd96676",
   "metadata": {},
   "outputs": [
    {
     "data": {
      "image/png": "[encoded data removed]",
      "text/plain": [
       "<Figure size 800x500 with 1 Axes>"
      ]
     },
     "metadata": {},
     "output_type": "display_data"
    }
   ],
   "source": [
    "pd.DataFrame(history.history).plot(figsize=(8,5))\n",
    "plt.show() "
   ]
  },
  {
   "cell_type": "markdown",
   "id": "d95bdf91-f553-48b6-a1fa-82f74ce9915a",
   "metadata": {},
   "source": [
    "# Model Error Analysis"
   ]
  },
  {
   "cell_type": "code",
   "execution_count": 34,
   "id": "74377811-806d-4ba9-b7e6-c07e2d734ce6",
   "metadata": {},
   "outputs": [
    {
     "data": {
      "text/html": [
       "<div>\n",
       "<style scoped>\n",
       "    .dataframe tbody tr th:only-of-type {\n",
       "        vertical-align: middle;\n",
       "    }\n",
       "\n",
       "    .dataframe tbody tr th {\n",
       "        vertical-align: top;\n",
       "    }\n",
       "\n",
       "    .dataframe thead th {\n",
       "        text-align: right;\n",
       "    }\n",
       "</style>\n",
       "<table border=\"1\" class=\"dataframe\">\n",
       "  <thead>\n",
       "    <tr style=\"text-align: right;\">\n",
       "      <th></th>\n",
       "      <th>V</th>\n",
       "      <th>I</th>\n",
       "      <th>Temp</th>\n",
       "      <th>V_avg</th>\n",
       "      <th>I_avg</th>\n",
       "      <th>SOC</th>\n",
       "    </tr>\n",
       "  </thead>\n",
       "  <tbody>\n",
       "    <tr>\n",
       "      <th>0</th>\n",
       "      <td>0.968019</td>\n",
       "      <td>0.749112</td>\n",
       "      <td>0.521236</td>\n",
       "      <td>0.968019</td>\n",
       "      <td>0.749112</td>\n",
       "      <td>1.000000</td>\n",
       "    </tr>\n",
       "    <tr>\n",
       "      <th>1</th>\n",
       "      <td>0.965316</td>\n",
       "      <td>0.747098</td>\n",
       "      <td>0.521236</td>\n",
       "      <td>0.966668</td>\n",
       "      <td>0.748105</td>\n",
       "      <td>0.999990</td>\n",
       "    </tr>\n",
       "    <tr>\n",
       "      <th>2</th>\n",
       "      <td>0.965198</td>\n",
       "      <td>0.746992</td>\n",
       "      <td>0.521236</td>\n",
       "      <td>0.966178</td>\n",
       "      <td>0.747734</td>\n",
       "      <td>0.999983</td>\n",
       "    </tr>\n",
       "    <tr>\n",
       "      <th>3</th>\n",
       "      <td>0.964961</td>\n",
       "      <td>0.747098</td>\n",
       "      <td>0.518403</td>\n",
       "      <td>0.965874</td>\n",
       "      <td>0.747575</td>\n",
       "      <td>0.999973</td>\n",
       "    </tr>\n",
       "    <tr>\n",
       "      <th>4</th>\n",
       "      <td>0.964961</td>\n",
       "      <td>0.747098</td>\n",
       "      <td>0.518403</td>\n",
       "      <td>0.965691</td>\n",
       "      <td>0.747480</td>\n",
       "      <td>0.999963</td>\n",
       "    </tr>\n",
       "    <tr>\n",
       "      <th>...</th>\n",
       "      <td>...</td>\n",
       "      <td>...</td>\n",
       "      <td>...</td>\n",
       "      <td>...</td>\n",
       "      <td>...</td>\n",
       "      <td>...</td>\n",
       "    </tr>\n",
       "    <tr>\n",
       "      <th>44279</th>\n",
       "      <td>0.335128</td>\n",
       "      <td>0.751020</td>\n",
       "      <td>0.532568</td>\n",
       "      <td>0.329741</td>\n",
       "      <td>0.751020</td>\n",
       "      <td>0.194990</td>\n",
       "    </tr>\n",
       "    <tr>\n",
       "      <th>44280</th>\n",
       "      <td>0.335128</td>\n",
       "      <td>0.751020</td>\n",
       "      <td>0.532568</td>\n",
       "      <td>0.329778</td>\n",
       "      <td>0.751020</td>\n",
       "      <td>0.194990</td>\n",
       "    </tr>\n",
       "    <tr>\n",
       "      <th>44281</th>\n",
       "      <td>0.335128</td>\n",
       "      <td>0.751020</td>\n",
       "      <td>0.532568</td>\n",
       "      <td>0.329815</td>\n",
       "      <td>0.751020</td>\n",
       "      <td>0.194990</td>\n",
       "    </tr>\n",
       "    <tr>\n",
       "      <th>44282</th>\n",
       "      <td>0.335128</td>\n",
       "      <td>0.751020</td>\n",
       "      <td>0.532568</td>\n",
       "      <td>0.329851</td>\n",
       "      <td>0.751020</td>\n",
       "      <td>0.194990</td>\n",
       "    </tr>\n",
       "    <tr>\n",
       "      <th>44283</th>\n",
       "      <td>0.335128</td>\n",
       "      <td>0.751020</td>\n",
       "      <td>0.532568</td>\n",
       "      <td>0.329888</td>\n",
       "      <td>0.751020</td>\n",
       "      <td>0.194990</td>\n",
       "    </tr>\n",
       "  </tbody>\n",
       "</table>\n",
       "<p>44284 rows × 6 columns</p>\n",
       "</div>"
      ],
      "text/plain": [
       "              V         I      Temp     V_avg     I_avg       SOC\n",
       "0      0.968019  0.749112  0.521236  0.968019  0.749112  1.000000\n",
       "1      0.965316  0.747098  0.521236  0.966668  0.748105  0.999990\n",
       "2      0.965198  0.746992  0.521236  0.966178  0.747734  0.999983\n",
       "3      0.964961  0.747098  0.518403  0.965874  0.747575  0.999973\n",
       "4      0.964961  0.747098  0.518403  0.965691  0.747480  0.999963\n",
       "...         ...       ...       ...       ...       ...       ...\n",
       "44279  0.335128  0.751020  0.532568  0.329741  0.751020  0.194990\n",
       "44280  0.335128  0.751020  0.532568  0.329778  0.751020  0.194990\n",
       "44281  0.335128  0.751020  0.532568  0.329815  0.751020  0.194990\n",
       "44282  0.335128  0.751020  0.532568  0.329851  0.751020  0.194990\n",
       "44283  0.335128  0.751020  0.532568  0.329888  0.751020  0.194990\n",
       "\n",
       "[44284 rows x 6 columns]"
      ]
     },
     "execution_count": 34,
     "metadata": {},
     "output_type": "execute_result"
    }
   ],
   "source": [
    "test_data_filename = os.listdir(config.get_test_data_dir())[2]\n",
    "test_data_path = os.path.join(config.get_test_data_dir(), test_data_filename)\n",
    "test_data = pd.read_csv(test_data_path)\n",
    "test_data"
   ]
  },
  {
   "cell_type": "code",
   "execution_count": 35,
   "id": "2c47bc33-1037-440c-a084-ca3f80061850",
   "metadata": {},
   "outputs": [
    {
     "data": {
      "text/plain": [
       "(44284, 5)"
      ]
     },
     "execution_count": 35,
     "metadata": {},
     "output_type": "execute_result"
    }
   ],
   "source": [
    "X_test = test_data[['V', 'I', 'Temp', 'V_avg', 'I_avg']].values\n",
    "X_test.shape"
   ]
  },
  {
   "cell_type": "code",
   "execution_count": 36,
   "id": "70244338-dde5-4447-9400-3cdd97881891",
   "metadata": {},
   "outputs": [
    {
     "data": {
      "text/plain": [
       "array([[0.96801895, 0.74911237, 0.52123591, 0.96801895, 0.74911237],\n",
       "       [0.96531628, 0.7470984 , 0.52123591, 0.96666762, 0.74810539],\n",
       "       [0.96519787, 0.74699221, 0.52123591, 0.9661777 , 0.74773433],\n",
       "       ...,\n",
       "       [0.33512765, 0.75102009, 0.53256776, 0.32981484, 0.75102009],\n",
       "       [0.33512765, 0.75102009, 0.53256776, 0.32985141, 0.75102009],\n",
       "       [0.33512765, 0.75102009, 0.53256776, 0.3298875 , 0.75102009]])"
      ]
     },
     "execution_count": 36,
     "metadata": {},
     "output_type": "execute_result"
    }
   ],
   "source": [
    "X_test"
   ]
  },
  {
   "cell_type": "code",
   "execution_count": 37,
   "id": "1ba50678-6125-4d3a-8b27-7c893c3c752a",
   "metadata": {},
   "outputs": [
    {
     "data": {
      "text/plain": [
       "array([[ 1.        ,  0.02007657, -1.        ,  1.        ,  0.02007657],\n",
       "       [ 0.99393247,  0.01412849, -1.        ,  1.        ,  0.01864986],\n",
       "       [ 0.99559568,  0.01476778, -1.        ,  1.        ,  0.01810358],\n",
       "       ...,\n",
       "       [-0.97477332,  1.        , -0.0372726 , -1.        ,  1.        ],\n",
       "       [-0.97494477,  1.        , -0.03736266, -1.        ,  1.        ],\n",
       "       [-0.97511403,  1.        , -0.03745156, -1.        ,  1.        ]])"
      ]
     },
     "execution_count": 37,
     "metadata": {},
     "output_type": "execute_result"
    }
   ],
   "source": [
    "normalized_X_test = normalize(X_test)\n",
    "normalized_X_test"
   ]
  },
  {
   "cell_type": "code",
   "execution_count": 38,
   "id": "7eac9ac5-f4fb-4b31-9af3-bafa96fd30e8",
   "metadata": {},
   "outputs": [
    {
     "data": {
      "text/plain": [
       "(44284,)"
      ]
     },
     "execution_count": 38,
     "metadata": {},
     "output_type": "execute_result"
    }
   ],
   "source": [
    "y_test = test_data['SOC'].values\n",
    "y_test.shape"
   ]
  },
  {
   "cell_type": "code",
   "execution_count": 39,
   "id": "5497db57-2a9b-44c5-b5a1-be5938419a58",
   "metadata": {},
   "outputs": [
    {
     "data": {
      "text/plain": [
       "array([1.        , 0.99999   , 0.99998333, ..., 0.19499   , 0.19499   ,\n",
       "       0.19499   ])"
      ]
     },
     "execution_count": 39,
     "metadata": {},
     "output_type": "execute_result"
    }
   ],
   "source": [
    "y_test"
   ]
  },
  {
   "cell_type": "code",
   "execution_count": 40,
   "id": "05d6d5e2-4c17-40a4-9e46-8e46ae4bce5d",
   "metadata": {},
   "outputs": [
    {
     "name": "stdout",
     "output_type": "stream",
     "text": [
      "\u001b[1m1384/1384\u001b[0m \u001b[32m━━━━━━━━━━━━━━━━━━━━\u001b[0m\u001b[37m\u001b[0m \u001b[1m1s\u001b[0m 801us/step\n"
     ]
    },
    {
     "data": {
      "text/plain": [
       "array([[0.9931177 ],\n",
       "       [0.9918005 ],\n",
       "       [0.99208546],\n",
       "       ...,\n",
       "       [0.21578294],\n",
       "       [0.21578136],\n",
       "       [0.21577968]], dtype=float32)"
      ]
     },
     "execution_count": 40,
     "metadata": {},
     "output_type": "execute_result"
    }
   ],
   "source": [
    "soc_observed = y_test\n",
    "\n",
    "soc_predicted = model.predict(normalized_X_test)\n",
    "soc_predicted"
   ]
  },
  {
   "cell_type": "code",
   "execution_count": 33,
   "id": "b8b6425f-962d-41fe-9cf0-db2937126e19",
   "metadata": {},
   "outputs": [
    {
     "name": "stdout",
     "output_type": "stream",
     "text": [
      "rmse(observed, predicted) = 15.91%\n",
      "max(observed, predicted) = 36.37%\n",
      "mae(observed, predicted) = 13.57%\n"
     ]
    }
   ],
   "source": [
    "rmseValue = ErrorFunctions.rmse(socObserved, socPredicted)\n",
    "print(f'rmse(observed, predicted) = {round(rmseValue*100,2)}%')\n",
    "maxValue = ErrorFunctions.max(socObserved, socPredicted)\n",
    "print(f'max(observed, predicted) = {round(maxValue*100,2)}%')\n",
    "maeValue = ErrorFunctions.mae(socObserved, socPredicted)\n",
    "print(f'mae(observed, predicted) = {round(maeValue*100,2)}%')"
   ]
  },
  {
   "cell_type": "code",
   "execution_count": 46,
   "id": "47cd8633-8b89-4473-bb4f-a03764e3fb28",
   "metadata": {},
   "outputs": [
    {
     "data": {
      "text/plain": [
       "<matplotlib.legend.Legend at 0x1efd852ff50>"
      ]
     },
     "execution_count": 46,
     "metadata": {},
     "output_type": "execute_result"
    },
    {
     "data": {
      "image/png": "[encoded data removed]",
      "text/plain": [
       "<Figure size 640x480 with 1 Axes>"
      ]
     },
     "metadata": {},
     "output_type": "display_data"
    }
   ],
   "source": [
    "plt.plot(soc_observed, label='observed')\n",
    "plt.plot(soc_predicted, label='predicted')\n",
    "plt.ylabel('SOC')\n",
    "plt.xlabel('Time (s)')\n",
    "plt.legend()"
   ]
  },
  {
   "cell_type": "code",
   "execution_count": null,
   "id": "d36e3bd7-8b1b-48ad-a8d9-db78d65c58e2",
   "metadata": {},
   "outputs": [],
   "source": []
  }
 ],
 "metadata": {
  "kernelspec": {
   "display_name": "myenv",
   "language": "python",
   "name": "myenv"
  },
  "language_info": {
   "codemirror_mode": {
    "name": "ipython",
    "version": 3
   },
   "file_extension": ".py",
   "mimetype": "text/x-python",
   "name": "python",
   "nbconvert_exporter": "python",
   "pygments_lexer": "ipython3",
   "version": "3.11.1"
  }
 },
 "nbformat": 4,
 "nbformat_minor": 5
}
