{
 "cells": [
  {
   "cell_type": "code",
   "execution_count": 1,
   "id": "926b0225-1dfd-45d3-b7d4-20fb6d292a2a",
   "metadata": {},
   "outputs": [
    {
     "name": "stdout",
     "output_type": "stream",
     "text": [
      "Requirement already satisfied: tensorflow in d:\\virtualenv\\myenv\\lib\\site-packages (2.16.1)\n",
      "Requirement already satisfied: tensorflow-intel==2.16.1 in d:\\virtualenv\\myenv\\lib\\site-packages (from tensorflow) (2.16.1)\n",
      "Requirement already satisfied: absl-py>=1.0.0 in d:\\virtualenv\\myenv\\lib\\site-packages (from tensorflow-intel==2.16.1->tensorflow) (2.1.0)\n",
      "Requirement already satisfied: astunparse>=1.6.0 in d:\\virtualenv\\myenv\\lib\\site-packages (from tensorflow-intel==2.16.1->tensorflow) (1.6.3)\n",
      "Requirement already satisfied: flatbuffers>=23.5.26 in d:\\virtualenv\\myenv\\lib\\site-packages (from tensorflow-intel==2.16.1->tensorflow) (24.3.25)\n",
      "Requirement already satisfied: gast!=0.5.0,!=0.5.1,!=0.5.2,>=0.2.1 in d:\\virtualenv\\myenv\\lib\\site-packages (from tensorflow-intel==2.16.1->tensorflow) (0.5.4)\n",
      "Requirement already satisfied: google-pasta>=0.1.1 in d:\\virtualenv\\myenv\\lib\\site-packages (from tensorflow-intel==2.16.1->tensorflow) (0.2.0)\n",
      "Requirement already satisfied: h5py>=3.10.0 in d:\\virtualenv\\myenv\\lib\\site-packages (from tensorflow-intel==2.16.1->tensorflow) (3.11.0)\n",
      "Requirement already satisfied: libclang>=13.0.0 in d:\\virtualenv\\myenv\\lib\\site-packages (from tensorflow-intel==2.16.1->tensorflow) (18.1.1)\n",
      "Requirement already satisfied: ml-dtypes~=0.3.1 in d:\\virtualenv\\myenv\\lib\\site-packages (from tensorflow-intel==2.16.1->tensorflow) (0.3.2)\n",
      "Requirement already satisfied: opt-einsum>=2.3.2 in d:\\virtualenv\\myenv\\lib\\site-packages (from tensorflow-intel==2.16.1->tensorflow) (3.3.0)\n",
      "Requirement already satisfied: packaging in d:\\virtualenv\\myenv\\lib\\site-packages (from tensorflow-intel==2.16.1->tensorflow) (24.1)\n",
      "Requirement already satisfied: protobuf!=4.21.0,!=4.21.1,!=4.21.2,!=4.21.3,!=4.21.4,!=4.21.5,<5.0.0dev,>=3.20.3 in d:\\virtualenv\\myenv\\lib\\site-packages (from tensorflow-intel==2.16.1->tensorflow) (4.25.3)\n",
      "Requirement already satisfied: requests<3,>=2.21.0 in d:\\virtualenv\\myenv\\lib\\site-packages (from tensorflow-intel==2.16.1->tensorflow) (2.32.3)\n",
      "Requirement already satisfied: setuptools in d:\\virtualenv\\myenv\\lib\\site-packages (from tensorflow-intel==2.16.1->tensorflow) (70.1.0)\n",
      "Requirement already satisfied: six>=1.12.0 in d:\\virtualenv\\myenv\\lib\\site-packages (from tensorflow-intel==2.16.1->tensorflow) (1.16.0)\n",
      "Requirement already satisfied: termcolor>=1.1.0 in d:\\virtualenv\\myenv\\lib\\site-packages (from tensorflow-intel==2.16.1->tensorflow) (2.4.0)\n",
      "Requirement already satisfied: typing-extensions>=3.6.6 in d:\\virtualenv\\myenv\\lib\\site-packages (from tensorflow-intel==2.16.1->tensorflow) (4.12.2)\n",
      "Requirement already satisfied: wrapt>=1.11.0 in d:\\virtualenv\\myenv\\lib\\site-packages (from tensorflow-intel==2.16.1->tensorflow) (1.16.0)\n",
      "Requirement already satisfied: grpcio<2.0,>=1.24.3 in d:\\virtualenv\\myenv\\lib\\site-packages (from tensorflow-intel==2.16.1->tensorflow) (1.64.1)\n",
      "Requirement already satisfied: tensorboard<2.17,>=2.16 in d:\\virtualenv\\myenv\\lib\\site-packages (from tensorflow-intel==2.16.1->tensorflow) (2.16.2)\n",
      "Requirement already satisfied: keras>=3.0.0 in d:\\virtualenv\\myenv\\lib\\site-packages (from tensorflow-intel==2.16.1->tensorflow) (3.4.0)\n",
      "Requirement already satisfied: tensorflow-io-gcs-filesystem>=0.23.1 in d:\\virtualenv\\myenv\\lib\\site-packages (from tensorflow-intel==2.16.1->tensorflow) (0.31.0)\n",
      "Requirement already satisfied: numpy<2.0.0,>=1.23.5 in d:\\virtualenv\\myenv\\lib\\site-packages (from tensorflow-intel==2.16.1->tensorflow) (1.26.3)\n",
      "Requirement already satisfied: wheel<1.0,>=0.23.0 in d:\\virtualenv\\myenv\\lib\\site-packages (from astunparse>=1.6.0->tensorflow-intel==2.16.1->tensorflow) (0.43.0)\n",
      "Requirement already satisfied: rich in d:\\virtualenv\\myenv\\lib\\site-packages (from keras>=3.0.0->tensorflow-intel==2.16.1->tensorflow) (13.7.1)\n",
      "Requirement already satisfied: namex in d:\\virtualenv\\myenv\\lib\\site-packages (from keras>=3.0.0->tensorflow-intel==2.16.1->tensorflow) (0.0.8)\n",
      "Requirement already satisfied: optree in d:\\virtualenv\\myenv\\lib\\site-packages (from keras>=3.0.0->tensorflow-intel==2.16.1->tensorflow) (0.11.0)\n",
      "Requirement already satisfied: charset-normalizer<4,>=2 in d:\\virtualenv\\myenv\\lib\\site-packages (from requests<3,>=2.21.0->tensorflow-intel==2.16.1->tensorflow) (3.3.2)\n",
      "Requirement already satisfied: idna<4,>=2.5 in d:\\virtualenv\\myenv\\lib\\site-packages (from requests<3,>=2.21.0->tensorflow-intel==2.16.1->tensorflow) (3.7)\n",
      "Requirement already satisfied: urllib3<3,>=1.21.1 in d:\\virtualenv\\myenv\\lib\\site-packages (from requests<3,>=2.21.0->tensorflow-intel==2.16.1->tensorflow) (2.2.2)\n",
      "Requirement already satisfied: certifi>=2017.4.17 in d:\\virtualenv\\myenv\\lib\\site-packages (from requests<3,>=2.21.0->tensorflow-intel==2.16.1->tensorflow) (2024.6.2)\n",
      "Requirement already satisfied: markdown>=2.6.8 in d:\\virtualenv\\myenv\\lib\\site-packages (from tensorboard<2.17,>=2.16->tensorflow-intel==2.16.1->tensorflow) (3.6)\n",
      "Requirement already satisfied: tensorboard-data-server<0.8.0,>=0.7.0 in d:\\virtualenv\\myenv\\lib\\site-packages (from tensorboard<2.17,>=2.16->tensorflow-intel==2.16.1->tensorflow) (0.7.2)\n",
      "Requirement already satisfied: werkzeug>=1.0.1 in d:\\virtualenv\\myenv\\lib\\site-packages (from tensorboard<2.17,>=2.16->tensorflow-intel==2.16.1->tensorflow) (3.0.3)\n",
      "Requirement already satisfied: MarkupSafe>=2.1.1 in d:\\virtualenv\\myenv\\lib\\site-packages (from werkzeug>=1.0.1->tensorboard<2.17,>=2.16->tensorflow-intel==2.16.1->tensorflow) (2.1.5)\n",
      "Requirement already satisfied: markdown-it-py>=2.2.0 in d:\\virtualenv\\myenv\\lib\\site-packages (from rich->keras>=3.0.0->tensorflow-intel==2.16.1->tensorflow) (3.0.0)\n",
      "Requirement already satisfied: pygments<3.0.0,>=2.13.0 in d:\\virtualenv\\myenv\\lib\\site-packages (from rich->keras>=3.0.0->tensorflow-intel==2.16.1->tensorflow) (2.18.0)\n",
      "Requirement already satisfied: mdurl~=0.1 in d:\\virtualenv\\myenv\\lib\\site-packages (from markdown-it-py>=2.2.0->rich->keras>=3.0.0->tensorflow-intel==2.16.1->tensorflow) (0.1.2)\n",
      "Note: you may need to restart the kernel to use updated packages.\n"
     ]
    },
    {
     "name": "stderr",
     "output_type": "stream",
     "text": [
      "\n",
      "[notice] A new release of pip is available: 24.1 -> 24.2\n",
      "[notice] To update, run: python.exe -m pip install --upgrade pip\n"
     ]
    }
   ],
   "source": [
    "pip install tensorflow"
   ]
  },
  {
   "cell_type": "code",
   "execution_count": 2,
   "id": "520d1b22-58a5-4b61-9967-bb667e7d2c60",
   "metadata": {},
   "outputs": [
    {
     "name": "stdout",
     "output_type": "stream",
     "text": [
      "Requirement already satisfied: pandas in d:\\virtualenv\\myenv\\lib\\site-packages (2.2.2)\n",
      "Requirement already satisfied: numpy>=1.23.2 in d:\\virtualenv\\myenv\\lib\\site-packages (from pandas) (1.26.3)\n",
      "Requirement already satisfied: python-dateutil>=2.8.2 in d:\\virtualenv\\myenv\\lib\\site-packages (from pandas) (2.9.0.post0)\n",
      "Requirement already satisfied: pytz>=2020.1 in d:\\virtualenv\\myenv\\lib\\site-packages (from pandas) (2024.1)\n",
      "Requirement already satisfied: tzdata>=2022.7 in d:\\virtualenv\\myenv\\lib\\site-packages (from pandas) (2024.1)\n",
      "Requirement already satisfied: six>=1.5 in d:\\virtualenv\\myenv\\lib\\site-packages (from python-dateutil>=2.8.2->pandas) (1.16.0)\n",
      "Note: you may need to restart the kernel to use updated packages.\n"
     ]
    },
    {
     "name": "stderr",
     "output_type": "stream",
     "text": [
      "\n",
      "[notice] A new release of pip is available: 24.1 -> 24.2\n",
      "[notice] To update, run: python.exe -m pip install --upgrade pip\n"
     ]
    }
   ],
   "source": [
    "pip install pandas"
   ]
  },
  {
   "cell_type": "code",
   "execution_count": 3,
   "id": "07f12769-92e7-4dd7-bb27-05b9724e0f9f",
   "metadata": {},
   "outputs": [
    {
     "name": "stdout",
     "output_type": "stream",
     "text": [
      "Requirement already satisfied: matplotlib in d:\\virtualenv\\myenv\\lib\\site-packages (3.9.0)\n",
      "Requirement already satisfied: contourpy>=1.0.1 in d:\\virtualenv\\myenv\\lib\\site-packages (from matplotlib) (1.2.1)\n",
      "Requirement already satisfied: cycler>=0.10 in d:\\virtualenv\\myenv\\lib\\site-packages (from matplotlib) (0.12.1)\n",
      "Requirement already satisfied: fonttools>=4.22.0 in d:\\virtualenv\\myenv\\lib\\site-packages (from matplotlib) (4.53.0)\n",
      "Requirement already satisfied: kiwisolver>=1.3.1 in d:\\virtualenv\\myenv\\lib\\site-packages (from matplotlib) (1.4.5)\n",
      "Requirement already satisfied: numpy>=1.23 in d:\\virtualenv\\myenv\\lib\\site-packages (from matplotlib) (1.26.3)\n",
      "Requirement already satisfied: packaging>=20.0 in d:\\virtualenv\\myenv\\lib\\site-packages (from matplotlib) (24.1)\n",
      "Requirement already satisfied: pillow>=8 in d:\\virtualenv\\myenv\\lib\\site-packages (from matplotlib) (10.2.0)\n",
      "Requirement already satisfied: pyparsing>=2.3.1 in d:\\virtualenv\\myenv\\lib\\site-packages (from matplotlib) (3.1.2)\n",
      "Requirement already satisfied: python-dateutil>=2.7 in d:\\virtualenv\\myenv\\lib\\site-packages (from matplotlib) (2.9.0.post0)\n",
      "Requirement already satisfied: six>=1.5 in d:\\virtualenv\\myenv\\lib\\site-packages (from python-dateutil>=2.7->matplotlib) (1.16.0)\n",
      "Note: you may need to restart the kernel to use updated packages.\n"
     ]
    },
    {
     "name": "stderr",
     "output_type": "stream",
     "text": [
      "\n",
      "[notice] A new release of pip is available: 24.1 -> 24.2\n",
      "[notice] To update, run: python.exe -m pip install --upgrade pip\n"
     ]
    }
   ],
   "source": [
    "pip install matplotlib"
   ]
  },
  {
   "cell_type": "code",
   "execution_count": 4,
   "id": "677403ea-ebf3-443e-807f-0fd1a8776517",
   "metadata": {},
   "outputs": [],
   "source": [
    "from tensorflow.keras.models import load_model\n",
    "import pandas as pd\n",
    "from matplotlib import pyplot as plt\n",
    "from config import Config\n",
    "import os\n",
    "from utils import normalize"
   ]
  },
  {
   "cell_type": "code",
   "execution_count": 5,
   "id": "c46aca38-2cb3-4e13-88cf-edbbb7a982dc",
   "metadata": {},
   "outputs": [
    {
     "ename": "TypeError",
     "evalue": "<class 'keras.src.models.sequential.Sequential'> could not be deserialized properly. Please ensure that components that are Python object instances (layers, models, etc.) returned by `get_config()` are explicitly deserialized in the model's `from_config()` method.\n\nconfig={'module': 'keras', 'class_name': 'Sequential', 'config': {'name': 'sequential', 'trainable': True, 'dtype': {'module': 'keras', 'class_name': 'FloatDTypePolicy', 'config': {'name': 'float32'}, 'registered_name': None, 'shared_object_id': 2190573079504}, 'layers': [{'module': 'keras.layers', 'class_name': 'InputLayer', 'config': {'batch_shape': [None, 5], 'dtype': 'float32', 'sparse': False, 'name': 'input_layer'}, 'registered_name': None}, {'module': 'keras.layers', 'class_name': 'Dense', 'config': {'name': 'dense', 'trainable': True, 'dtype': {'module': 'keras', 'class_name': 'FloatDTypePolicy', 'config': {'name': 'float32'}, 'registered_name': None}, 'units': 55, 'activation': 'tanh', 'use_bias': True, 'kernel_initializer': {'module': 'keras.initializers', 'class_name': 'GlorotUniform', 'config': {'seed': None}, 'registered_name': None}, 'bias_initializer': {'module': 'keras.initializers', 'class_name': 'Zeros', 'config': {}, 'registered_name': None}, 'kernel_regularizer': None, 'bias_regularizer': None, 'kernel_constraint': None, 'bias_constraint': None}, 'registered_name': None, 'build_config': {'input_shape': [None, 5]}}, {'module': 'keras.layers', 'class_name': 'Dense', 'config': {'name': 'dense_1', 'trainable': True, 'dtype': {'module': 'keras', 'class_name': 'FloatDTypePolicy', 'config': {'name': 'float32'}, 'registered_name': None, 'shared_object_id': 2190573079504}, 'units': 55, 'activation': 'relu', 'use_bias': True, 'kernel_initializer': {'module': 'keras.initializers', 'class_name': 'GlorotUniform', 'config': {'seed': None}, 'registered_name': None}, 'bias_initializer': {'module': 'keras.initializers', 'class_name': 'Zeros', 'config': {}, 'registered_name': None}, 'kernel_regularizer': None, 'bias_regularizer': None, 'kernel_constraint': None, 'bias_constraint': None}, 'registered_name': None, 'build_config': {'input_shape': [None, 55]}}, {'module': 'keras.layers', 'class_name': 'Dense', 'config': {'name': 'dense_2', 'trainable': True, 'dtype': {'module': 'keras', 'class_name': 'FloatDTypePolicy', 'config': {'name': 'float32'}, 'registered_name': None, 'shared_object_id': 2190573079504}, 'units': 1, 'activation': {'value': ['4wEAAAAAAAAAAAAAAAUAAAADAAAA80QAAACXAHQAAAAAAAAAAAAAAGoBAAAAAAAAAACgAgAAAAAA\\nAAAAAAAAAAAAAAAAAAAAfABkAWQCpgMAAKsDAAAAAAAAAABTACkDTukAAAAA6QEAAAApA9oFa2Vy\\nYXPaB2JhY2tlbmTaBGNsaXApAdoBeHMBAAAAIPo+QzovVXNlcnMvZ2lvcmcvQXBwRGF0YS9Mb2Nh\\nbC9UZW1wL2lweWtlcm5lbF8xOTIxNi81OTUyNTAwNTUucHn6CDxsYW1iZGE+cgkAAAAbAAAAcxoA\\nAACAALVFtE3XNEbSNEbAccghyFHRNE/UNE+AAPMAAAAA\\n', None, None]}, 'use_bias': True, 'kernel_initializer': {'module': 'keras.initializers', 'class_name': 'GlorotUniform', 'config': {'seed': None}, 'registered_name': None}, 'bias_initializer': {'module': 'keras.initializers', 'class_name': 'Zeros', 'config': {}, 'registered_name': None}, 'kernel_regularizer': None, 'bias_regularizer': None, 'kernel_constraint': None, 'bias_constraint': None}, 'registered_name': None, 'build_config': {'input_shape': [None, 55]}}], 'build_input_shape': [None, 5]}, 'registered_name': None, 'build_config': {'input_shape': [None, 5]}, 'compile_config': {'optimizer': {'module': 'keras.optimizers', 'class_name': 'SGD', 'config': {'name': 'SGD', 'learning_rate': {'module': 'keras.optimizers.schedules', 'class_name': 'ExponentialDecay', 'config': {'initial_learning_rate': 0.01, 'decay_steps': 10000, 'decay_rate': 0.9, 'staircase': False, 'name': 'ExponentialDecay'}, 'registered_name': None}, 'weight_decay': None, 'clipnorm': None, 'global_clipnorm': None, 'clipvalue': None, 'use_ema': False, 'ema_momentum': 0.99, 'ema_overwrite_frequency': None, 'loss_scale_factor': None, 'gradient_accumulation_steps': None, 'momentum': 0.0, 'nesterov': False}, 'registered_name': None}, 'loss': 'mse', 'loss_weights': None, 'metrics': None, 'weighted_metrics': None, 'run_eagerly': False, 'steps_per_execution': 1, 'jit_compile': False}}.\n\nException encountered: <class 'keras.src.layers.core.dense.Dense'> could not be deserialized properly. Please ensure that components that are Python object instances (layers, models, etc.) returned by `get_config()` are explicitly deserialized in the model's `from_config()` method.\n\nconfig={'module': 'keras.layers', 'class_name': 'Dense', 'config': {'name': 'dense_2', 'trainable': True, 'dtype': {'module': 'keras', 'class_name': 'FloatDTypePolicy', 'config': {'name': 'float32'}, 'registered_name': None, 'shared_object_id': 2190573079504}, 'units': 1, 'activation': {'value': ['4wEAAAAAAAAAAAAAAAUAAAADAAAA80QAAACXAHQAAAAAAAAAAAAAAGoBAAAAAAAAAACgAgAAAAAA\\nAAAAAAAAAAAAAAAAAAAAfABkAWQCpgMAAKsDAAAAAAAAAABTACkDTukAAAAA6QEAAAApA9oFa2Vy\\nYXPaB2JhY2tlbmTaBGNsaXApAdoBeHMBAAAAIPo+QzovVXNlcnMvZ2lvcmcvQXBwRGF0YS9Mb2Nh\\nbC9UZW1wL2lweWtlcm5lbF8xOTIxNi81OTUyNTAwNTUucHn6CDxsYW1iZGE+cgkAAAAbAAAAcxoA\\nAACAALVFtE3XNEbSNEbAccghyFHRNE/UNE+AAPMAAAAA\\n', None, None]}, 'use_bias': True, 'kernel_initializer': {'module': 'keras.initializers', 'class_name': 'GlorotUniform', 'config': {'seed': None}, 'registered_name': None}, 'bias_initializer': {'module': 'keras.initializers', 'class_name': 'Zeros', 'config': {}, 'registered_name': None}, 'kernel_regularizer': None, 'bias_regularizer': None, 'kernel_constraint': None, 'bias_constraint': None}, 'registered_name': None, 'build_config': {'input_shape': [None, 55]}}.\n\nException encountered: Error when deserializing class 'Dense' using config={'name': 'dense_2', 'trainable': True, 'dtype': 'float32', 'units': 1, 'activation': {'value': ['4wEAAAAAAAAAAAAAAAUAAAADAAAA80QAAACXAHQAAAAAAAAAAAAAAGoBAAAAAAAAAACgAgAAAAAA\\nAAAAAAAAAAAAAAAAAAAAfABkAWQCpgMAAKsDAAAAAAAAAABTACkDTukAAAAA6QEAAAApA9oFa2Vy\\nYXPaB2JhY2tlbmTaBGNsaXApAdoBeHMBAAAAIPo+QzovVXNlcnMvZ2lvcmcvQXBwRGF0YS9Mb2Nh\\nbC9UZW1wL2lweWtlcm5lbF8xOTIxNi81OTUyNTAwNTUucHn6CDxsYW1iZGE+cgkAAAAbAAAAcxoA\\nAACAALVFtE3XNEbSNEbAccghyFHRNE/UNE+AAPMAAAAA\\n', None, None]}, 'use_bias': True, 'kernel_initializer': {'module': 'keras.initializers', 'class_name': 'GlorotUniform', 'config': {'seed': None}, 'registered_name': None}, 'bias_initializer': {'module': 'keras.initializers', 'class_name': 'Zeros', 'config': {}, 'registered_name': None}, 'kernel_regularizer': None, 'bias_regularizer': None, 'kernel_constraint': None, 'bias_constraint': None}.\n\nException encountered: Unknown `config` as a `dict`, config={'value': ['4wEAAAAAAAAAAAAAAAUAAAADAAAA80QAAACXAHQAAAAAAAAAAAAAAGoBAAAAAAAAAACgAgAAAAAA\\nAAAAAAAAAAAAAAAAAAAAfABkAWQCpgMAAKsDAAAAAAAAAABTACkDTukAAAAA6QEAAAApA9oFa2Vy\\nYXPaB2JhY2tlbmTaBGNsaXApAdoBeHMBAAAAIPo+QzovVXNlcnMvZ2lvcmcvQXBwRGF0YS9Mb2Nh\\nbC9UZW1wL2lweWtlcm5lbF8xOTIxNi81OTUyNTAwNTUucHn6CDxsYW1iZGE+cgkAAAAbAAAAcxoA\\nAACAALVFtE3XNEbSNEbAccghyFHRNE/UNE+AAPMAAAAA\\n', None, None]}",
     "output_type": "error",
     "traceback": [
      "\u001b[1;31m---------------------------------------------------------------------------\u001b[0m",
      "\u001b[1;31mValueError\u001b[0m                                Traceback (most recent call last)",
      "File \u001b[1;32mD:\\virtualenv\\myenv\\Lib\\site-packages\\keras\\src\\ops\\operation.py:234\u001b[0m, in \u001b[0;36mOperation.from_config\u001b[1;34m(cls, config)\u001b[0m\n\u001b[0;32m    233\u001b[0m \u001b[38;5;28;01mtry\u001b[39;00m:\n\u001b[1;32m--> 234\u001b[0m     \u001b[38;5;28;01mreturn\u001b[39;00m \u001b[38;5;28;43mcls\u001b[39;49m\u001b[43m(\u001b[49m\u001b[38;5;241;43m*\u001b[39;49m\u001b[38;5;241;43m*\u001b[39;49m\u001b[43mconfig\u001b[49m\u001b[43m)\u001b[49m\n\u001b[0;32m    235\u001b[0m \u001b[38;5;28;01mexcept\u001b[39;00m \u001b[38;5;167;01mException\u001b[39;00m \u001b[38;5;28;01mas\u001b[39;00m e:\n",
      "File \u001b[1;32mD:\\virtualenv\\myenv\\Lib\\site-packages\\keras\\src\\layers\\core\\dense.py:89\u001b[0m, in \u001b[0;36mDense.__init__\u001b[1;34m(self, units, activation, use_bias, kernel_initializer, bias_initializer, kernel_regularizer, bias_regularizer, activity_regularizer, kernel_constraint, bias_constraint, lora_rank, **kwargs)\u001b[0m\n\u001b[0;32m     88\u001b[0m \u001b[38;5;28mself\u001b[39m\u001b[38;5;241m.\u001b[39munits \u001b[38;5;241m=\u001b[39m units\n\u001b[1;32m---> 89\u001b[0m \u001b[38;5;28mself\u001b[39m\u001b[38;5;241m.\u001b[39mactivation \u001b[38;5;241m=\u001b[39m \u001b[43mactivations\u001b[49m\u001b[38;5;241;43m.\u001b[39;49m\u001b[43mget\u001b[49m\u001b[43m(\u001b[49m\u001b[43mactivation\u001b[49m\u001b[43m)\u001b[49m\n\u001b[0;32m     90\u001b[0m \u001b[38;5;28mself\u001b[39m\u001b[38;5;241m.\u001b[39muse_bias \u001b[38;5;241m=\u001b[39m use_bias\n",
      "File \u001b[1;32mD:\\virtualenv\\myenv\\Lib\\site-packages\\keras\\src\\activations\\__init__.py:97\u001b[0m, in \u001b[0;36mget\u001b[1;34m(identifier)\u001b[0m\n\u001b[0;32m     96\u001b[0m \u001b[38;5;28;01mif\u001b[39;00m \u001b[38;5;28misinstance\u001b[39m(identifier, \u001b[38;5;28mdict\u001b[39m):\n\u001b[1;32m---> 97\u001b[0m     obj \u001b[38;5;241m=\u001b[39m \u001b[43mdeserialize\u001b[49m\u001b[43m(\u001b[49m\u001b[43midentifier\u001b[49m\u001b[43m)\u001b[49m\n\u001b[0;32m     98\u001b[0m \u001b[38;5;28;01melif\u001b[39;00m \u001b[38;5;28misinstance\u001b[39m(identifier, \u001b[38;5;28mstr\u001b[39m):\n",
      "File \u001b[1;32mD:\\virtualenv\\myenv\\Lib\\site-packages\\keras\\src\\activations\\__init__.py:84\u001b[0m, in \u001b[0;36mdeserialize\u001b[1;34m(config, custom_objects)\u001b[0m\n\u001b[0;32m     83\u001b[0m \u001b[38;5;250m\u001b[39m\u001b[38;5;124;03m\"\"\"Return a Keras activation function via its config.\"\"\"\u001b[39;00m\n\u001b[1;32m---> 84\u001b[0m \u001b[38;5;28;01mreturn\u001b[39;00m \u001b[43mserialization_lib\u001b[49m\u001b[38;5;241;43m.\u001b[39;49m\u001b[43mdeserialize_keras_object\u001b[49m\u001b[43m(\u001b[49m\n\u001b[0;32m     85\u001b[0m \u001b[43m    \u001b[49m\u001b[43mconfig\u001b[49m\u001b[43m,\u001b[49m\n\u001b[0;32m     86\u001b[0m \u001b[43m    \u001b[49m\u001b[43mmodule_objects\u001b[49m\u001b[38;5;241;43m=\u001b[39;49m\u001b[43mALL_OBJECTS_DICT\u001b[49m\u001b[43m,\u001b[49m\n\u001b[0;32m     87\u001b[0m \u001b[43m    \u001b[49m\u001b[43mcustom_objects\u001b[49m\u001b[38;5;241;43m=\u001b[39;49m\u001b[43mcustom_objects\u001b[49m\u001b[43m,\u001b[49m\n\u001b[0;32m     88\u001b[0m \u001b[43m\u001b[49m\u001b[43m)\u001b[49m\n",
      "File \u001b[1;32mD:\\virtualenv\\myenv\\Lib\\site-packages\\keras\\src\\saving\\serialization_lib.py:533\u001b[0m, in \u001b[0;36mdeserialize_keras_object\u001b[1;34m(config, custom_objects, safe_mode, **kwargs)\u001b[0m\n\u001b[0;32m    532\u001b[0m \u001b[38;5;28;01mif\u001b[39;00m \u001b[38;5;124m\"\u001b[39m\u001b[38;5;124mclass_name\u001b[39m\u001b[38;5;124m\"\u001b[39m \u001b[38;5;129;01mnot\u001b[39;00m \u001b[38;5;129;01min\u001b[39;00m config:\n\u001b[1;32m--> 533\u001b[0m     \u001b[38;5;28;01mraise\u001b[39;00m \u001b[38;5;167;01mValueError\u001b[39;00m(\n\u001b[0;32m    534\u001b[0m         \u001b[38;5;124mf\u001b[39m\u001b[38;5;124m\"\u001b[39m\u001b[38;5;124mUnknown `config` as a `dict`, config=\u001b[39m\u001b[38;5;132;01m{\u001b[39;00mconfig\u001b[38;5;132;01m}\u001b[39;00m\u001b[38;5;124m\"\u001b[39m\n\u001b[0;32m    535\u001b[0m     )\n\u001b[0;32m    537\u001b[0m \u001b[38;5;66;03m# Check case where config is function or class and in custom objects\u001b[39;00m\n",
      "\u001b[1;31mValueError\u001b[0m: Unknown `config` as a `dict`, config={'value': ['4wEAAAAAAAAAAAAAAAUAAAADAAAA80QAAACXAHQAAAAAAAAAAAAAAGoBAAAAAAAAAACgAgAAAAAA\\nAAAAAAAAAAAAAAAAAAAAfABkAWQCpgMAAKsDAAAAAAAAAABTACkDTukAAAAA6QEAAAApA9oFa2Vy\\nYXPaB2JhY2tlbmTaBGNsaXApAdoBeHMBAAAAIPo+QzovVXNlcnMvZ2lvcmcvQXBwRGF0YS9Mb2Nh\\nbC9UZW1wL2lweWtlcm5lbF8xOTIxNi81OTUyNTAwNTUucHn6CDxsYW1iZGE+cgkAAAAbAAAAcxoA\\nAACAALVFtE3XNEbSNEbAccghyFHRNE/UNE+AAPMAAAAA\\n', None, None]}",
      "\nDuring handling of the above exception, another exception occurred:\n",
      "\u001b[1;31mTypeError\u001b[0m                                 Traceback (most recent call last)",
      "File \u001b[1;32mD:\\virtualenv\\myenv\\Lib\\site-packages\\keras\\src\\saving\\serialization_lib.py:718\u001b[0m, in \u001b[0;36mdeserialize_keras_object\u001b[1;34m(config, custom_objects, safe_mode, **kwargs)\u001b[0m\n\u001b[0;32m    717\u001b[0m \u001b[38;5;28;01mtry\u001b[39;00m:\n\u001b[1;32m--> 718\u001b[0m     instance \u001b[38;5;241m=\u001b[39m \u001b[38;5;28;43mcls\u001b[39;49m\u001b[38;5;241;43m.\u001b[39;49m\u001b[43mfrom_config\u001b[49m\u001b[43m(\u001b[49m\u001b[43minner_config\u001b[49m\u001b[43m)\u001b[49m\n\u001b[0;32m    719\u001b[0m \u001b[38;5;28;01mexcept\u001b[39;00m \u001b[38;5;167;01mTypeError\u001b[39;00m \u001b[38;5;28;01mas\u001b[39;00m e:\n",
      "File \u001b[1;32mD:\\virtualenv\\myenv\\Lib\\site-packages\\keras\\src\\ops\\operation.py:236\u001b[0m, in \u001b[0;36mOperation.from_config\u001b[1;34m(cls, config)\u001b[0m\n\u001b[0;32m    235\u001b[0m \u001b[38;5;28;01mexcept\u001b[39;00m \u001b[38;5;167;01mException\u001b[39;00m \u001b[38;5;28;01mas\u001b[39;00m e:\n\u001b[1;32m--> 236\u001b[0m     \u001b[38;5;28;01mraise\u001b[39;00m \u001b[38;5;167;01mTypeError\u001b[39;00m(\n\u001b[0;32m    237\u001b[0m         \u001b[38;5;124mf\u001b[39m\u001b[38;5;124m\"\u001b[39m\u001b[38;5;124mError when deserializing class \u001b[39m\u001b[38;5;124m'\u001b[39m\u001b[38;5;132;01m{\u001b[39;00m\u001b[38;5;28mcls\u001b[39m\u001b[38;5;241m.\u001b[39m\u001b[38;5;18m__name__\u001b[39m\u001b[38;5;132;01m}\u001b[39;00m\u001b[38;5;124m'\u001b[39m\u001b[38;5;124m using \u001b[39m\u001b[38;5;124m\"\u001b[39m\n\u001b[0;32m    238\u001b[0m         \u001b[38;5;124mf\u001b[39m\u001b[38;5;124m\"\u001b[39m\u001b[38;5;124mconfig=\u001b[39m\u001b[38;5;132;01m{\u001b[39;00mconfig\u001b[38;5;132;01m}\u001b[39;00m\u001b[38;5;124m.\u001b[39m\u001b[38;5;130;01m\\n\u001b[39;00m\u001b[38;5;130;01m\\n\u001b[39;00m\u001b[38;5;124mException encountered: \u001b[39m\u001b[38;5;132;01m{\u001b[39;00me\u001b[38;5;132;01m}\u001b[39;00m\u001b[38;5;124m\"\u001b[39m\n\u001b[0;32m    239\u001b[0m     )\n",
      "\u001b[1;31mTypeError\u001b[0m: Error when deserializing class 'Dense' using config={'name': 'dense_2', 'trainable': True, 'dtype': 'float32', 'units': 1, 'activation': {'value': ['4wEAAAAAAAAAAAAAAAUAAAADAAAA80QAAACXAHQAAAAAAAAAAAAAAGoBAAAAAAAAAACgAgAAAAAA\\nAAAAAAAAAAAAAAAAAAAAfABkAWQCpgMAAKsDAAAAAAAAAABTACkDTukAAAAA6QEAAAApA9oFa2Vy\\nYXPaB2JhY2tlbmTaBGNsaXApAdoBeHMBAAAAIPo+QzovVXNlcnMvZ2lvcmcvQXBwRGF0YS9Mb2Nh\\nbC9UZW1wL2lweWtlcm5lbF8xOTIxNi81OTUyNTAwNTUucHn6CDxsYW1iZGE+cgkAAAAbAAAAcxoA\\nAACAALVFtE3XNEbSNEbAccghyFHRNE/UNE+AAPMAAAAA\\n', None, None]}, 'use_bias': True, 'kernel_initializer': {'module': 'keras.initializers', 'class_name': 'GlorotUniform', 'config': {'seed': None}, 'registered_name': None}, 'bias_initializer': {'module': 'keras.initializers', 'class_name': 'Zeros', 'config': {}, 'registered_name': None}, 'kernel_regularizer': None, 'bias_regularizer': None, 'kernel_constraint': None, 'bias_constraint': None}.\n\nException encountered: Unknown `config` as a `dict`, config={'value': ['4wEAAAAAAAAAAAAAAAUAAAADAAAA80QAAACXAHQAAAAAAAAAAAAAAGoBAAAAAAAAAACgAgAAAAAA\\nAAAAAAAAAAAAAAAAAAAAfABkAWQCpgMAAKsDAAAAAAAAAABTACkDTukAAAAA6QEAAAApA9oFa2Vy\\nYXPaB2JhY2tlbmTaBGNsaXApAdoBeHMBAAAAIPo+QzovVXNlcnMvZ2lvcmcvQXBwRGF0YS9Mb2Nh\\nbC9UZW1wL2lweWtlcm5lbF8xOTIxNi81OTUyNTAwNTUucHn6CDxsYW1iZGE+cgkAAAAbAAAAcxoA\\nAACAALVFtE3XNEbSNEbAccghyFHRNE/UNE+AAPMAAAAA\\n', None, None]}",
      "\nDuring handling of the above exception, another exception occurred:\n",
      "\u001b[1;31mTypeError\u001b[0m                                 Traceback (most recent call last)",
      "File \u001b[1;32mD:\\virtualenv\\myenv\\Lib\\site-packages\\keras\\src\\saving\\serialization_lib.py:718\u001b[0m, in \u001b[0;36mdeserialize_keras_object\u001b[1;34m(config, custom_objects, safe_mode, **kwargs)\u001b[0m\n\u001b[0;32m    717\u001b[0m \u001b[38;5;28;01mtry\u001b[39;00m:\n\u001b[1;32m--> 718\u001b[0m     instance \u001b[38;5;241m=\u001b[39m \u001b[38;5;28;43mcls\u001b[39;49m\u001b[38;5;241;43m.\u001b[39;49m\u001b[43mfrom_config\u001b[49m\u001b[43m(\u001b[49m\u001b[43minner_config\u001b[49m\u001b[43m)\u001b[49m\n\u001b[0;32m    719\u001b[0m \u001b[38;5;28;01mexcept\u001b[39;00m \u001b[38;5;167;01mTypeError\u001b[39;00m \u001b[38;5;28;01mas\u001b[39;00m e:\n",
      "File \u001b[1;32mD:\\virtualenv\\myenv\\Lib\\site-packages\\keras\\src\\models\\sequential.py:347\u001b[0m, in \u001b[0;36mSequential.from_config\u001b[1;34m(cls, config, custom_objects)\u001b[0m\n\u001b[0;32m    346\u001b[0m \u001b[38;5;28;01melse\u001b[39;00m:\n\u001b[1;32m--> 347\u001b[0m     layer \u001b[38;5;241m=\u001b[39m \u001b[43mserialization_lib\u001b[49m\u001b[38;5;241;43m.\u001b[39;49m\u001b[43mdeserialize_keras_object\u001b[49m\u001b[43m(\u001b[49m\n\u001b[0;32m    348\u001b[0m \u001b[43m        \u001b[49m\u001b[43mlayer_config\u001b[49m\u001b[43m,\u001b[49m\n\u001b[0;32m    349\u001b[0m \u001b[43m        \u001b[49m\u001b[43mcustom_objects\u001b[49m\u001b[38;5;241;43m=\u001b[39;49m\u001b[43mcustom_objects\u001b[49m\u001b[43m,\u001b[49m\n\u001b[0;32m    350\u001b[0m \u001b[43m    \u001b[49m\u001b[43m)\u001b[49m\n\u001b[0;32m    351\u001b[0m model\u001b[38;5;241m.\u001b[39madd(layer)\n",
      "File \u001b[1;32mD:\\virtualenv\\myenv\\Lib\\site-packages\\keras\\src\\saving\\serialization_lib.py:720\u001b[0m, in \u001b[0;36mdeserialize_keras_object\u001b[1;34m(config, custom_objects, safe_mode, **kwargs)\u001b[0m\n\u001b[0;32m    719\u001b[0m \u001b[38;5;28;01mexcept\u001b[39;00m \u001b[38;5;167;01mTypeError\u001b[39;00m \u001b[38;5;28;01mas\u001b[39;00m e:\n\u001b[1;32m--> 720\u001b[0m     \u001b[38;5;28;01mraise\u001b[39;00m \u001b[38;5;167;01mTypeError\u001b[39;00m(\n\u001b[0;32m    721\u001b[0m         \u001b[38;5;124mf\u001b[39m\u001b[38;5;124m\"\u001b[39m\u001b[38;5;132;01m{\u001b[39;00m\u001b[38;5;28mcls\u001b[39m\u001b[38;5;132;01m}\u001b[39;00m\u001b[38;5;124m could not be deserialized properly. Please\u001b[39m\u001b[38;5;124m\"\u001b[39m\n\u001b[0;32m    722\u001b[0m         \u001b[38;5;124m\"\u001b[39m\u001b[38;5;124m ensure that components that are Python object\u001b[39m\u001b[38;5;124m\"\u001b[39m\n\u001b[0;32m    723\u001b[0m         \u001b[38;5;124m\"\u001b[39m\u001b[38;5;124m instances (layers, models, etc.) returned by\u001b[39m\u001b[38;5;124m\"\u001b[39m\n\u001b[0;32m    724\u001b[0m         \u001b[38;5;124m\"\u001b[39m\u001b[38;5;124m `get_config()` are explicitly deserialized in the\u001b[39m\u001b[38;5;124m\"\u001b[39m\n\u001b[0;32m    725\u001b[0m         \u001b[38;5;124m\"\u001b[39m\u001b[38;5;124m model\u001b[39m\u001b[38;5;124m'\u001b[39m\u001b[38;5;124ms `from_config()` method.\u001b[39m\u001b[38;5;124m\"\u001b[39m\n\u001b[0;32m    726\u001b[0m         \u001b[38;5;124mf\u001b[39m\u001b[38;5;124m\"\u001b[39m\u001b[38;5;130;01m\\n\u001b[39;00m\u001b[38;5;130;01m\\n\u001b[39;00m\u001b[38;5;124mconfig=\u001b[39m\u001b[38;5;132;01m{\u001b[39;00mconfig\u001b[38;5;132;01m}\u001b[39;00m\u001b[38;5;124m.\u001b[39m\u001b[38;5;130;01m\\n\u001b[39;00m\u001b[38;5;130;01m\\n\u001b[39;00m\u001b[38;5;124mException encountered: \u001b[39m\u001b[38;5;132;01m{\u001b[39;00me\u001b[38;5;132;01m}\u001b[39;00m\u001b[38;5;124m\"\u001b[39m\n\u001b[0;32m    727\u001b[0m     )\n\u001b[0;32m    728\u001b[0m build_config \u001b[38;5;241m=\u001b[39m config\u001b[38;5;241m.\u001b[39mget(\u001b[38;5;124m\"\u001b[39m\u001b[38;5;124mbuild_config\u001b[39m\u001b[38;5;124m\"\u001b[39m, \u001b[38;5;28;01mNone\u001b[39;00m)\n",
      "\u001b[1;31mTypeError\u001b[0m: <class 'keras.src.layers.core.dense.Dense'> could not be deserialized properly. Please ensure that components that are Python object instances (layers, models, etc.) returned by `get_config()` are explicitly deserialized in the model's `from_config()` method.\n\nconfig={'module': 'keras.layers', 'class_name': 'Dense', 'config': {'name': 'dense_2', 'trainable': True, 'dtype': {'module': 'keras', 'class_name': 'FloatDTypePolicy', 'config': {'name': 'float32'}, 'registered_name': None, 'shared_object_id': 2190573079504}, 'units': 1, 'activation': {'value': ['4wEAAAAAAAAAAAAAAAUAAAADAAAA80QAAACXAHQAAAAAAAAAAAAAAGoBAAAAAAAAAACgAgAAAAAA\\nAAAAAAAAAAAAAAAAAAAAfABkAWQCpgMAAKsDAAAAAAAAAABTACkDTukAAAAA6QEAAAApA9oFa2Vy\\nYXPaB2JhY2tlbmTaBGNsaXApAdoBeHMBAAAAIPo+QzovVXNlcnMvZ2lvcmcvQXBwRGF0YS9Mb2Nh\\nbC9UZW1wL2lweWtlcm5lbF8xOTIxNi81OTUyNTAwNTUucHn6CDxsYW1iZGE+cgkAAAAbAAAAcxoA\\nAACAALVFtE3XNEbSNEbAccghyFHRNE/UNE+AAPMAAAAA\\n', None, None]}, 'use_bias': True, 'kernel_initializer': {'module': 'keras.initializers', 'class_name': 'GlorotUniform', 'config': {'seed': None}, 'registered_name': None}, 'bias_initializer': {'module': 'keras.initializers', 'class_name': 'Zeros', 'config': {}, 'registered_name': None}, 'kernel_regularizer': None, 'bias_regularizer': None, 'kernel_constraint': None, 'bias_constraint': None}, 'registered_name': None, 'build_config': {'input_shape': [None, 55]}}.\n\nException encountered: Error when deserializing class 'Dense' using config={'name': 'dense_2', 'trainable': True, 'dtype': 'float32', 'units': 1, 'activation': {'value': ['4wEAAAAAAAAAAAAAAAUAAAADAAAA80QAAACXAHQAAAAAAAAAAAAAAGoBAAAAAAAAAACgAgAAAAAA\\nAAAAAAAAAAAAAAAAAAAAfABkAWQCpgMAAKsDAAAAAAAAAABTACkDTukAAAAA6QEAAAApA9oFa2Vy\\nYXPaB2JhY2tlbmTaBGNsaXApAdoBeHMBAAAAIPo+QzovVXNlcnMvZ2lvcmcvQXBwRGF0YS9Mb2Nh\\nbC9UZW1wL2lweWtlcm5lbF8xOTIxNi81OTUyNTAwNTUucHn6CDxsYW1iZGE+cgkAAAAbAAAAcxoA\\nAACAALVFtE3XNEbSNEbAccghyFHRNE/UNE+AAPMAAAAA\\n', None, None]}, 'use_bias': True, 'kernel_initializer': {'module': 'keras.initializers', 'class_name': 'GlorotUniform', 'config': {'seed': None}, 'registered_name': None}, 'bias_initializer': {'module': 'keras.initializers', 'class_name': 'Zeros', 'config': {}, 'registered_name': None}, 'kernel_regularizer': None, 'bias_regularizer': None, 'kernel_constraint': None, 'bias_constraint': None}.\n\nException encountered: Unknown `config` as a `dict`, config={'value': ['4wEAAAAAAAAAAAAAAAUAAAADAAAA80QAAACXAHQAAAAAAAAAAAAAAGoBAAAAAAAAAACgAgAAAAAA\\nAAAAAAAAAAAAAAAAAAAAfABkAWQCpgMAAKsDAAAAAAAAAABTACkDTukAAAAA6QEAAAApA9oFa2Vy\\nYXPaB2JhY2tlbmTaBGNsaXApAdoBeHMBAAAAIPo+QzovVXNlcnMvZ2lvcmcvQXBwRGF0YS9Mb2Nh\\nbC9UZW1wL2lweWtlcm5lbF8xOTIxNi81OTUyNTAwNTUucHn6CDxsYW1iZGE+cgkAAAAbAAAAcxoA\\nAACAALVFtE3XNEbSNEbAccghyFHRNE/UNE+AAPMAAAAA\\n', None, None]}",
      "\nDuring handling of the above exception, another exception occurred:\n",
      "\u001b[1;31mTypeError\u001b[0m                                 Traceback (most recent call last)",
      "Cell \u001b[1;32mIn[5], line 3\u001b[0m\n\u001b[0;32m      1\u001b[0m model_path \u001b[38;5;241m=\u001b[39m \u001b[38;5;124m'\u001b[39m\u001b[38;5;124m./models/dl/soc_estimation_dl.keras\u001b[39m\u001b[38;5;124m'\u001b[39m\n\u001b[1;32m----> 3\u001b[0m model \u001b[38;5;241m=\u001b[39m \u001b[43mload_model\u001b[49m\u001b[43m(\u001b[49m\u001b[43mmodel_path\u001b[49m\u001b[43m)\u001b[49m\n",
      "File \u001b[1;32mD:\\virtualenv\\myenv\\Lib\\site-packages\\keras\\src\\saving\\saving_api.py:182\u001b[0m, in \u001b[0;36mload_model\u001b[1;34m(filepath, custom_objects, compile, safe_mode)\u001b[0m\n\u001b[0;32m    179\u001b[0m         is_keras_zip \u001b[38;5;241m=\u001b[39m \u001b[38;5;28;01mTrue\u001b[39;00m\n\u001b[0;32m    181\u001b[0m \u001b[38;5;28;01mif\u001b[39;00m is_keras_zip \u001b[38;5;129;01mor\u001b[39;00m is_keras_dir:\n\u001b[1;32m--> 182\u001b[0m     \u001b[38;5;28;01mreturn\u001b[39;00m \u001b[43msaving_lib\u001b[49m\u001b[38;5;241;43m.\u001b[39;49m\u001b[43mload_model\u001b[49m\u001b[43m(\u001b[49m\n\u001b[0;32m    183\u001b[0m \u001b[43m        \u001b[49m\u001b[43mfilepath\u001b[49m\u001b[43m,\u001b[49m\n\u001b[0;32m    184\u001b[0m \u001b[43m        \u001b[49m\u001b[43mcustom_objects\u001b[49m\u001b[38;5;241;43m=\u001b[39;49m\u001b[43mcustom_objects\u001b[49m\u001b[43m,\u001b[49m\n\u001b[0;32m    185\u001b[0m \u001b[43m        \u001b[49m\u001b[38;5;28;43mcompile\u001b[39;49m\u001b[38;5;241;43m=\u001b[39;49m\u001b[38;5;28;43mcompile\u001b[39;49m\u001b[43m,\u001b[49m\n\u001b[0;32m    186\u001b[0m \u001b[43m        \u001b[49m\u001b[43msafe_mode\u001b[49m\u001b[38;5;241;43m=\u001b[39;49m\u001b[43msafe_mode\u001b[49m\u001b[43m,\u001b[49m\n\u001b[0;32m    187\u001b[0m \u001b[43m    \u001b[49m\u001b[43m)\u001b[49m\n\u001b[0;32m    188\u001b[0m \u001b[38;5;28;01mif\u001b[39;00m \u001b[38;5;28mstr\u001b[39m(filepath)\u001b[38;5;241m.\u001b[39mendswith((\u001b[38;5;124m\"\u001b[39m\u001b[38;5;124m.h5\u001b[39m\u001b[38;5;124m\"\u001b[39m, \u001b[38;5;124m\"\u001b[39m\u001b[38;5;124m.hdf5\u001b[39m\u001b[38;5;124m\"\u001b[39m)):\n\u001b[0;32m    189\u001b[0m     \u001b[38;5;28;01mreturn\u001b[39;00m legacy_h5_format\u001b[38;5;241m.\u001b[39mload_model_from_hdf5(\n\u001b[0;32m    190\u001b[0m         filepath, custom_objects\u001b[38;5;241m=\u001b[39mcustom_objects, \u001b[38;5;28mcompile\u001b[39m\u001b[38;5;241m=\u001b[39m\u001b[38;5;28mcompile\u001b[39m\n\u001b[0;32m    191\u001b[0m     )\n",
      "File \u001b[1;32mD:\\virtualenv\\myenv\\Lib\\site-packages\\keras\\src\\saving\\saving_lib.py:229\u001b[0m, in \u001b[0;36mload_model\u001b[1;34m(filepath, custom_objects, compile, safe_mode)\u001b[0m\n\u001b[0;32m    224\u001b[0m     \u001b[38;5;28;01mraise\u001b[39;00m \u001b[38;5;167;01mValueError\u001b[39;00m(\n\u001b[0;32m    225\u001b[0m         \u001b[38;5;124m\"\u001b[39m\u001b[38;5;124mInvalid filename: expected a `.keras` extension. \u001b[39m\u001b[38;5;124m\"\u001b[39m\n\u001b[0;32m    226\u001b[0m         \u001b[38;5;124mf\u001b[39m\u001b[38;5;124m\"\u001b[39m\u001b[38;5;124mReceived: filepath=\u001b[39m\u001b[38;5;132;01m{\u001b[39;00mfilepath\u001b[38;5;132;01m}\u001b[39;00m\u001b[38;5;124m\"\u001b[39m\n\u001b[0;32m    227\u001b[0m     )\n\u001b[0;32m    228\u001b[0m \u001b[38;5;28;01mwith\u001b[39;00m \u001b[38;5;28mopen\u001b[39m(filepath, \u001b[38;5;124m\"\u001b[39m\u001b[38;5;124mrb\u001b[39m\u001b[38;5;124m\"\u001b[39m) \u001b[38;5;28;01mas\u001b[39;00m f:\n\u001b[1;32m--> 229\u001b[0m     \u001b[38;5;28;01mreturn\u001b[39;00m \u001b[43m_load_model_from_fileobj\u001b[49m\u001b[43m(\u001b[49m\n\u001b[0;32m    230\u001b[0m \u001b[43m        \u001b[49m\u001b[43mf\u001b[49m\u001b[43m,\u001b[49m\u001b[43m \u001b[49m\u001b[43mcustom_objects\u001b[49m\u001b[43m,\u001b[49m\u001b[43m \u001b[49m\u001b[38;5;28;43mcompile\u001b[39;49m\u001b[43m,\u001b[49m\u001b[43m \u001b[49m\u001b[43msafe_mode\u001b[49m\n\u001b[0;32m    231\u001b[0m \u001b[43m    \u001b[49m\u001b[43m)\u001b[49m\n",
      "File \u001b[1;32mD:\\virtualenv\\myenv\\Lib\\site-packages\\keras\\src\\saving\\saving_lib.py:306\u001b[0m, in \u001b[0;36m_load_model_from_fileobj\u001b[1;34m(fileobj, custom_objects, compile, safe_mode)\u001b[0m\n\u001b[0;32m    303\u001b[0m \u001b[38;5;28;01mwith\u001b[39;00m zf\u001b[38;5;241m.\u001b[39mopen(_CONFIG_FILENAME, \u001b[38;5;124m\"\u001b[39m\u001b[38;5;124mr\u001b[39m\u001b[38;5;124m\"\u001b[39m) \u001b[38;5;28;01mas\u001b[39;00m f:\n\u001b[0;32m    304\u001b[0m     config_json \u001b[38;5;241m=\u001b[39m f\u001b[38;5;241m.\u001b[39mread()\n\u001b[1;32m--> 306\u001b[0m model \u001b[38;5;241m=\u001b[39m \u001b[43m_model_from_config\u001b[49m\u001b[43m(\u001b[49m\n\u001b[0;32m    307\u001b[0m \u001b[43m    \u001b[49m\u001b[43mconfig_json\u001b[49m\u001b[43m,\u001b[49m\u001b[43m \u001b[49m\u001b[43mcustom_objects\u001b[49m\u001b[43m,\u001b[49m\u001b[43m \u001b[49m\u001b[38;5;28;43mcompile\u001b[39;49m\u001b[43m,\u001b[49m\u001b[43m \u001b[49m\u001b[43msafe_mode\u001b[49m\n\u001b[0;32m    308\u001b[0m \u001b[43m\u001b[49m\u001b[43m)\u001b[49m\n\u001b[0;32m    310\u001b[0m all_filenames \u001b[38;5;241m=\u001b[39m zf\u001b[38;5;241m.\u001b[39mnamelist()\n\u001b[0;32m    311\u001b[0m weights_file_path \u001b[38;5;241m=\u001b[39m \u001b[38;5;28;01mNone\u001b[39;00m\n",
      "File \u001b[1;32mD:\\virtualenv\\myenv\\Lib\\site-packages\\keras\\src\\saving\\saving_lib.py:295\u001b[0m, in \u001b[0;36m_model_from_config\u001b[1;34m(config_json, custom_objects, compile, safe_mode)\u001b[0m\n\u001b[0;32m    293\u001b[0m \u001b[38;5;66;03m# Construct the model from the configuration file in the archive.\u001b[39;00m\n\u001b[0;32m    294\u001b[0m \u001b[38;5;28;01mwith\u001b[39;00m ObjectSharingScope():\n\u001b[1;32m--> 295\u001b[0m     model \u001b[38;5;241m=\u001b[39m \u001b[43mdeserialize_keras_object\u001b[49m\u001b[43m(\u001b[49m\n\u001b[0;32m    296\u001b[0m \u001b[43m        \u001b[49m\u001b[43mconfig_dict\u001b[49m\u001b[43m,\u001b[49m\u001b[43m \u001b[49m\u001b[43mcustom_objects\u001b[49m\u001b[43m,\u001b[49m\u001b[43m \u001b[49m\u001b[43msafe_mode\u001b[49m\u001b[38;5;241;43m=\u001b[39;49m\u001b[43msafe_mode\u001b[49m\n\u001b[0;32m    297\u001b[0m \u001b[43m    \u001b[49m\u001b[43m)\u001b[49m\n\u001b[0;32m    298\u001b[0m \u001b[38;5;28;01mreturn\u001b[39;00m model\n",
      "File \u001b[1;32mD:\\virtualenv\\myenv\\Lib\\site-packages\\keras\\src\\saving\\serialization_lib.py:720\u001b[0m, in \u001b[0;36mdeserialize_keras_object\u001b[1;34m(config, custom_objects, safe_mode, **kwargs)\u001b[0m\n\u001b[0;32m    718\u001b[0m     instance \u001b[38;5;241m=\u001b[39m \u001b[38;5;28mcls\u001b[39m\u001b[38;5;241m.\u001b[39mfrom_config(inner_config)\n\u001b[0;32m    719\u001b[0m \u001b[38;5;28;01mexcept\u001b[39;00m \u001b[38;5;167;01mTypeError\u001b[39;00m \u001b[38;5;28;01mas\u001b[39;00m e:\n\u001b[1;32m--> 720\u001b[0m     \u001b[38;5;28;01mraise\u001b[39;00m \u001b[38;5;167;01mTypeError\u001b[39;00m(\n\u001b[0;32m    721\u001b[0m         \u001b[38;5;124mf\u001b[39m\u001b[38;5;124m\"\u001b[39m\u001b[38;5;132;01m{\u001b[39;00m\u001b[38;5;28mcls\u001b[39m\u001b[38;5;132;01m}\u001b[39;00m\u001b[38;5;124m could not be deserialized properly. Please\u001b[39m\u001b[38;5;124m\"\u001b[39m\n\u001b[0;32m    722\u001b[0m         \u001b[38;5;124m\"\u001b[39m\u001b[38;5;124m ensure that components that are Python object\u001b[39m\u001b[38;5;124m\"\u001b[39m\n\u001b[0;32m    723\u001b[0m         \u001b[38;5;124m\"\u001b[39m\u001b[38;5;124m instances (layers, models, etc.) returned by\u001b[39m\u001b[38;5;124m\"\u001b[39m\n\u001b[0;32m    724\u001b[0m         \u001b[38;5;124m\"\u001b[39m\u001b[38;5;124m `get_config()` are explicitly deserialized in the\u001b[39m\u001b[38;5;124m\"\u001b[39m\n\u001b[0;32m    725\u001b[0m         \u001b[38;5;124m\"\u001b[39m\u001b[38;5;124m model\u001b[39m\u001b[38;5;124m'\u001b[39m\u001b[38;5;124ms `from_config()` method.\u001b[39m\u001b[38;5;124m\"\u001b[39m\n\u001b[0;32m    726\u001b[0m         \u001b[38;5;124mf\u001b[39m\u001b[38;5;124m\"\u001b[39m\u001b[38;5;130;01m\\n\u001b[39;00m\u001b[38;5;130;01m\\n\u001b[39;00m\u001b[38;5;124mconfig=\u001b[39m\u001b[38;5;132;01m{\u001b[39;00mconfig\u001b[38;5;132;01m}\u001b[39;00m\u001b[38;5;124m.\u001b[39m\u001b[38;5;130;01m\\n\u001b[39;00m\u001b[38;5;130;01m\\n\u001b[39;00m\u001b[38;5;124mException encountered: \u001b[39m\u001b[38;5;132;01m{\u001b[39;00me\u001b[38;5;132;01m}\u001b[39;00m\u001b[38;5;124m\"\u001b[39m\n\u001b[0;32m    727\u001b[0m     )\n\u001b[0;32m    728\u001b[0m build_config \u001b[38;5;241m=\u001b[39m config\u001b[38;5;241m.\u001b[39mget(\u001b[38;5;124m\"\u001b[39m\u001b[38;5;124mbuild_config\u001b[39m\u001b[38;5;124m\"\u001b[39m, \u001b[38;5;28;01mNone\u001b[39;00m)\n\u001b[0;32m    729\u001b[0m \u001b[38;5;28;01mif\u001b[39;00m build_config \u001b[38;5;129;01mand\u001b[39;00m \u001b[38;5;129;01mnot\u001b[39;00m instance\u001b[38;5;241m.\u001b[39mbuilt:\n",
      "\u001b[1;31mTypeError\u001b[0m: <class 'keras.src.models.sequential.Sequential'> could not be deserialized properly. Please ensure that components that are Python object instances (layers, models, etc.) returned by `get_config()` are explicitly deserialized in the model's `from_config()` method.\n\nconfig={'module': 'keras', 'class_name': 'Sequential', 'config': {'name': 'sequential', 'trainable': True, 'dtype': {'module': 'keras', 'class_name': 'FloatDTypePolicy', 'config': {'name': 'float32'}, 'registered_name': None, 'shared_object_id': 2190573079504}, 'layers': [{'module': 'keras.layers', 'class_name': 'InputLayer', 'config': {'batch_shape': [None, 5], 'dtype': 'float32', 'sparse': False, 'name': 'input_layer'}, 'registered_name': None}, {'module': 'keras.layers', 'class_name': 'Dense', 'config': {'name': 'dense', 'trainable': True, 'dtype': {'module': 'keras', 'class_name': 'FloatDTypePolicy', 'config': {'name': 'float32'}, 'registered_name': None}, 'units': 55, 'activation': 'tanh', 'use_bias': True, 'kernel_initializer': {'module': 'keras.initializers', 'class_name': 'GlorotUniform', 'config': {'seed': None}, 'registered_name': None}, 'bias_initializer': {'module': 'keras.initializers', 'class_name': 'Zeros', 'config': {}, 'registered_name': None}, 'kernel_regularizer': None, 'bias_regularizer': None, 'kernel_constraint': None, 'bias_constraint': None}, 'registered_name': None, 'build_config': {'input_shape': [None, 5]}}, {'module': 'keras.layers', 'class_name': 'Dense', 'config': {'name': 'dense_1', 'trainable': True, 'dtype': {'module': 'keras', 'class_name': 'FloatDTypePolicy', 'config': {'name': 'float32'}, 'registered_name': None, 'shared_object_id': 2190573079504}, 'units': 55, 'activation': 'relu', 'use_bias': True, 'kernel_initializer': {'module': 'keras.initializers', 'class_name': 'GlorotUniform', 'config': {'seed': None}, 'registered_name': None}, 'bias_initializer': {'module': 'keras.initializers', 'class_name': 'Zeros', 'config': {}, 'registered_name': None}, 'kernel_regularizer': None, 'bias_regularizer': None, 'kernel_constraint': None, 'bias_constraint': None}, 'registered_name': None, 'build_config': {'input_shape': [None, 55]}}, {'module': 'keras.layers', 'class_name': 'Dense', 'config': {'name': 'dense_2', 'trainable': True, 'dtype': {'module': 'keras', 'class_name': 'FloatDTypePolicy', 'config': {'name': 'float32'}, 'registered_name': None, 'shared_object_id': 2190573079504}, 'units': 1, 'activation': {'value': ['4wEAAAAAAAAAAAAAAAUAAAADAAAA80QAAACXAHQAAAAAAAAAAAAAAGoBAAAAAAAAAACgAgAAAAAA\\nAAAAAAAAAAAAAAAAAAAAfABkAWQCpgMAAKsDAAAAAAAAAABTACkDTukAAAAA6QEAAAApA9oFa2Vy\\nYXPaB2JhY2tlbmTaBGNsaXApAdoBeHMBAAAAIPo+QzovVXNlcnMvZ2lvcmcvQXBwRGF0YS9Mb2Nh\\nbC9UZW1wL2lweWtlcm5lbF8xOTIxNi81OTUyNTAwNTUucHn6CDxsYW1iZGE+cgkAAAAbAAAAcxoA\\nAACAALVFtE3XNEbSNEbAccghyFHRNE/UNE+AAPMAAAAA\\n', None, None]}, 'use_bias': True, 'kernel_initializer': {'module': 'keras.initializers', 'class_name': 'GlorotUniform', 'config': {'seed': None}, 'registered_name': None}, 'bias_initializer': {'module': 'keras.initializers', 'class_name': 'Zeros', 'config': {}, 'registered_name': None}, 'kernel_regularizer': None, 'bias_regularizer': None, 'kernel_constraint': None, 'bias_constraint': None}, 'registered_name': None, 'build_config': {'input_shape': [None, 55]}}], 'build_input_shape': [None, 5]}, 'registered_name': None, 'build_config': {'input_shape': [None, 5]}, 'compile_config': {'optimizer': {'module': 'keras.optimizers', 'class_name': 'SGD', 'config': {'name': 'SGD', 'learning_rate': {'module': 'keras.optimizers.schedules', 'class_name': 'ExponentialDecay', 'config': {'initial_learning_rate': 0.01, 'decay_steps': 10000, 'decay_rate': 0.9, 'staircase': False, 'name': 'ExponentialDecay'}, 'registered_name': None}, 'weight_decay': None, 'clipnorm': None, 'global_clipnorm': None, 'clipvalue': None, 'use_ema': False, 'ema_momentum': 0.99, 'ema_overwrite_frequency': None, 'loss_scale_factor': None, 'gradient_accumulation_steps': None, 'momentum': 0.0, 'nesterov': False}, 'registered_name': None}, 'loss': 'mse', 'loss_weights': None, 'metrics': None, 'weighted_metrics': None, 'run_eagerly': False, 'steps_per_execution': 1, 'jit_compile': False}}.\n\nException encountered: <class 'keras.src.layers.core.dense.Dense'> could not be deserialized properly. Please ensure that components that are Python object instances (layers, models, etc.) returned by `get_config()` are explicitly deserialized in the model's `from_config()` method.\n\nconfig={'module': 'keras.layers', 'class_name': 'Dense', 'config': {'name': 'dense_2', 'trainable': True, 'dtype': {'module': 'keras', 'class_name': 'FloatDTypePolicy', 'config': {'name': 'float32'}, 'registered_name': None, 'shared_object_id': 2190573079504}, 'units': 1, 'activation': {'value': ['4wEAAAAAAAAAAAAAAAUAAAADAAAA80QAAACXAHQAAAAAAAAAAAAAAGoBAAAAAAAAAACgAgAAAAAA\\nAAAAAAAAAAAAAAAAAAAAfABkAWQCpgMAAKsDAAAAAAAAAABTACkDTukAAAAA6QEAAAApA9oFa2Vy\\nYXPaB2JhY2tlbmTaBGNsaXApAdoBeHMBAAAAIPo+QzovVXNlcnMvZ2lvcmcvQXBwRGF0YS9Mb2Nh\\nbC9UZW1wL2lweWtlcm5lbF8xOTIxNi81OTUyNTAwNTUucHn6CDxsYW1iZGE+cgkAAAAbAAAAcxoA\\nAACAALVFtE3XNEbSNEbAccghyFHRNE/UNE+AAPMAAAAA\\n', None, None]}, 'use_bias': True, 'kernel_initializer': {'module': 'keras.initializers', 'class_name': 'GlorotUniform', 'config': {'seed': None}, 'registered_name': None}, 'bias_initializer': {'module': 'keras.initializers', 'class_name': 'Zeros', 'config': {}, 'registered_name': None}, 'kernel_regularizer': None, 'bias_regularizer': None, 'kernel_constraint': None, 'bias_constraint': None}, 'registered_name': None, 'build_config': {'input_shape': [None, 55]}}.\n\nException encountered: Error when deserializing class 'Dense' using config={'name': 'dense_2', 'trainable': True, 'dtype': 'float32', 'units': 1, 'activation': {'value': ['4wEAAAAAAAAAAAAAAAUAAAADAAAA80QAAACXAHQAAAAAAAAAAAAAAGoBAAAAAAAAAACgAgAAAAAA\\nAAAAAAAAAAAAAAAAAAAAfABkAWQCpgMAAKsDAAAAAAAAAABTACkDTukAAAAA6QEAAAApA9oFa2Vy\\nYXPaB2JhY2tlbmTaBGNsaXApAdoBeHMBAAAAIPo+QzovVXNlcnMvZ2lvcmcvQXBwRGF0YS9Mb2Nh\\nbC9UZW1wL2lweWtlcm5lbF8xOTIxNi81OTUyNTAwNTUucHn6CDxsYW1iZGE+cgkAAAAbAAAAcxoA\\nAACAALVFtE3XNEbSNEbAccghyFHRNE/UNE+AAPMAAAAA\\n', None, None]}, 'use_bias': True, 'kernel_initializer': {'module': 'keras.initializers', 'class_name': 'GlorotUniform', 'config': {'seed': None}, 'registered_name': None}, 'bias_initializer': {'module': 'keras.initializers', 'class_name': 'Zeros', 'config': {}, 'registered_name': None}, 'kernel_regularizer': None, 'bias_regularizer': None, 'kernel_constraint': None, 'bias_constraint': None}.\n\nException encountered: Unknown `config` as a `dict`, config={'value': ['4wEAAAAAAAAAAAAAAAUAAAADAAAA80QAAACXAHQAAAAAAAAAAAAAAGoBAAAAAAAAAACgAgAAAAAA\\nAAAAAAAAAAAAAAAAAAAAfABkAWQCpgMAAKsDAAAAAAAAAABTACkDTukAAAAA6QEAAAApA9oFa2Vy\\nYXPaB2JhY2tlbmTaBGNsaXApAdoBeHMBAAAAIPo+QzovVXNlcnMvZ2lvcmcvQXBwRGF0YS9Mb2Nh\\nbC9UZW1wL2lweWtlcm5lbF8xOTIxNi81OTUyNTAwNTUucHn6CDxsYW1iZGE+cgkAAAAbAAAAcxoA\\nAACAALVFtE3XNEbSNEbAccghyFHRNE/UNE+AAPMAAAAA\\n', None, None]}"
     ]
    }
   ],
   "source": [
    "model_path = './models/dl/soc_estimation_dl.keras'\n",
    "\n",
    "model = load_model(model_path)"
   ]
  },
  {
   "cell_type": "code",
   "execution_count": 5,
   "id": "422358b6-3600-4f56-b062-c2435bf92d5e",
   "metadata": {},
   "outputs": [
    {
     "name": "stdout",
     "output_type": "stream",
     "text": [
      "data_dir = ['test', 'train', 'val']\n",
      "train_data_dir = ['TRAIN_LGHG2@n10degC_to_25degC_Norm_5Inputs.csv']\n",
      "val_data_dir = ['01_TEST_LGHG2@n10degC_Norm_(05_Inputs).csv', '02_TEST_LGHG2@0degC_Norm_(05_Inputs).csv', '03_TEST_LGHG2@10degC_Norm_(05_Inputs).csv', '04_TEST_LGHG2@25degC_Norm_(05_Inputs).csv']\n",
      "test_data_dir = ['01_TEST_LGHG2@n10degC_Norm_(05_Inputs).csv', '02_TEST_LGHG2@0degC_Norm_(05_Inputs).csv', '03_TEST_LGHG2@10degC_Norm_(05_Inputs).csv', '04_TEST_LGHG2@25degC_Norm_(05_Inputs).csv']\n"
     ]
    }
   ],
   "source": [
    "config = Config(\n",
    "    data_dir='./data',\n",
    "    train_data_subdir='train/',\n",
    "    val_data_subdir='test/',\n",
    "    test_data_subdir='test/'\n",
    ")"
   ]
  },
  {
   "cell_type": "code",
   "execution_count": 6,
   "id": "4a3f0987-2211-4980-a3a3-8edec3f773ab",
   "metadata": {},
   "outputs": [
    {
     "data": {
      "text/html": [
       "<div>\n",
       "<style scoped>\n",
       "    .dataframe tbody tr th:only-of-type {\n",
       "        vertical-align: middle;\n",
       "    }\n",
       "\n",
       "    .dataframe tbody tr th {\n",
       "        vertical-align: top;\n",
       "    }\n",
       "\n",
       "    .dataframe thead th {\n",
       "        text-align: right;\n",
       "    }\n",
       "</style>\n",
       "<table border=\"1\" class=\"dataframe\">\n",
       "  <thead>\n",
       "    <tr style=\"text-align: right;\">\n",
       "      <th></th>\n",
       "      <th>V</th>\n",
       "      <th>I</th>\n",
       "      <th>Temp</th>\n",
       "      <th>V_avg</th>\n",
       "      <th>I_avg</th>\n",
       "      <th>SOC</th>\n",
       "    </tr>\n",
       "  </thead>\n",
       "  <tbody>\n",
       "    <tr>\n",
       "      <th>0</th>\n",
       "      <td>0.968019</td>\n",
       "      <td>0.749112</td>\n",
       "      <td>0.521236</td>\n",
       "      <td>0.968019</td>\n",
       "      <td>0.749112</td>\n",
       "      <td>1.000000</td>\n",
       "    </tr>\n",
       "    <tr>\n",
       "      <th>1</th>\n",
       "      <td>0.965316</td>\n",
       "      <td>0.747098</td>\n",
       "      <td>0.521236</td>\n",
       "      <td>0.966668</td>\n",
       "      <td>0.748105</td>\n",
       "      <td>0.999990</td>\n",
       "    </tr>\n",
       "    <tr>\n",
       "      <th>2</th>\n",
       "      <td>0.965198</td>\n",
       "      <td>0.746992</td>\n",
       "      <td>0.521236</td>\n",
       "      <td>0.966178</td>\n",
       "      <td>0.747734</td>\n",
       "      <td>0.999983</td>\n",
       "    </tr>\n",
       "    <tr>\n",
       "      <th>3</th>\n",
       "      <td>0.964961</td>\n",
       "      <td>0.747098</td>\n",
       "      <td>0.518403</td>\n",
       "      <td>0.965874</td>\n",
       "      <td>0.747575</td>\n",
       "      <td>0.999973</td>\n",
       "    </tr>\n",
       "    <tr>\n",
       "      <th>4</th>\n",
       "      <td>0.964961</td>\n",
       "      <td>0.747098</td>\n",
       "      <td>0.518403</td>\n",
       "      <td>0.965691</td>\n",
       "      <td>0.747480</td>\n",
       "      <td>0.999963</td>\n",
       "    </tr>\n",
       "    <tr>\n",
       "      <th>...</th>\n",
       "      <td>...</td>\n",
       "      <td>...</td>\n",
       "      <td>...</td>\n",
       "      <td>...</td>\n",
       "      <td>...</td>\n",
       "      <td>...</td>\n",
       "    </tr>\n",
       "    <tr>\n",
       "      <th>44279</th>\n",
       "      <td>0.335128</td>\n",
       "      <td>0.751020</td>\n",
       "      <td>0.532568</td>\n",
       "      <td>0.329741</td>\n",
       "      <td>0.751020</td>\n",
       "      <td>0.194990</td>\n",
       "    </tr>\n",
       "    <tr>\n",
       "      <th>44280</th>\n",
       "      <td>0.335128</td>\n",
       "      <td>0.751020</td>\n",
       "      <td>0.532568</td>\n",
       "      <td>0.329778</td>\n",
       "      <td>0.751020</td>\n",
       "      <td>0.194990</td>\n",
       "    </tr>\n",
       "    <tr>\n",
       "      <th>44281</th>\n",
       "      <td>0.335128</td>\n",
       "      <td>0.751020</td>\n",
       "      <td>0.532568</td>\n",
       "      <td>0.329815</td>\n",
       "      <td>0.751020</td>\n",
       "      <td>0.194990</td>\n",
       "    </tr>\n",
       "    <tr>\n",
       "      <th>44282</th>\n",
       "      <td>0.335128</td>\n",
       "      <td>0.751020</td>\n",
       "      <td>0.532568</td>\n",
       "      <td>0.329851</td>\n",
       "      <td>0.751020</td>\n",
       "      <td>0.194990</td>\n",
       "    </tr>\n",
       "    <tr>\n",
       "      <th>44283</th>\n",
       "      <td>0.335128</td>\n",
       "      <td>0.751020</td>\n",
       "      <td>0.532568</td>\n",
       "      <td>0.329888</td>\n",
       "      <td>0.751020</td>\n",
       "      <td>0.194990</td>\n",
       "    </tr>\n",
       "  </tbody>\n",
       "</table>\n",
       "<p>44284 rows × 6 columns</p>\n",
       "</div>"
      ],
      "text/plain": [
       "              V         I      Temp     V_avg     I_avg       SOC\n",
       "0      0.968019  0.749112  0.521236  0.968019  0.749112  1.000000\n",
       "1      0.965316  0.747098  0.521236  0.966668  0.748105  0.999990\n",
       "2      0.965198  0.746992  0.521236  0.966178  0.747734  0.999983\n",
       "3      0.964961  0.747098  0.518403  0.965874  0.747575  0.999973\n",
       "4      0.964961  0.747098  0.518403  0.965691  0.747480  0.999963\n",
       "...         ...       ...       ...       ...       ...       ...\n",
       "44279  0.335128  0.751020  0.532568  0.329741  0.751020  0.194990\n",
       "44280  0.335128  0.751020  0.532568  0.329778  0.751020  0.194990\n",
       "44281  0.335128  0.751020  0.532568  0.329815  0.751020  0.194990\n",
       "44282  0.335128  0.751020  0.532568  0.329851  0.751020  0.194990\n",
       "44283  0.335128  0.751020  0.532568  0.329888  0.751020  0.194990\n",
       "\n",
       "[44284 rows x 6 columns]"
      ]
     },
     "execution_count": 6,
     "metadata": {},
     "output_type": "execute_result"
    }
   ],
   "source": [
    "test_data_filename = os.listdir(config.get_test_data_dir())[2]\n",
    "test_data_path = os.path.join(config.get_test_data_dir(), test_data_filename)\n",
    "test_data = pd.read_csv(test_data_path)\n",
    "test_data"
   ]
  },
  {
   "cell_type": "code",
   "execution_count": 7,
   "id": "6455d8d8-a839-4b5b-b493-a93b61417887",
   "metadata": {},
   "outputs": [
    {
     "data": {
      "text/plain": [
       "(44284, 5)"
      ]
     },
     "execution_count": 7,
     "metadata": {},
     "output_type": "execute_result"
    }
   ],
   "source": [
    "X_test = test_data[['V', 'I', 'Temp', 'V_avg', 'I_avg']].values\n",
    "X_test.shape"
   ]
  },
  {
   "cell_type": "code",
   "execution_count": 8,
   "id": "25e94590-2629-41cf-8b3a-a7fbd4dc7180",
   "metadata": {},
   "outputs": [
    {
     "data": {
      "text/plain": [
       "array([[0.96801895, 0.74911237, 0.52123591, 0.96801895, 0.74911237],\n",
       "       [0.96531628, 0.7470984 , 0.52123591, 0.96666762, 0.74810539],\n",
       "       [0.96519787, 0.74699221, 0.52123591, 0.9661777 , 0.74773433],\n",
       "       ...,\n",
       "       [0.33512765, 0.75102009, 0.53256776, 0.32981484, 0.75102009],\n",
       "       [0.33512765, 0.75102009, 0.53256776, 0.32985141, 0.75102009],\n",
       "       [0.33512765, 0.75102009, 0.53256776, 0.3298875 , 0.75102009]])"
      ]
     },
     "execution_count": 8,
     "metadata": {},
     "output_type": "execute_result"
    }
   ],
   "source": [
    "X_test"
   ]
  },
  {
   "cell_type": "code",
   "execution_count": 9,
   "id": "067e7bec-bff0-43e9-b30a-f2089dfad3b3",
   "metadata": {},
   "outputs": [
    {
     "data": {
      "text/plain": [
       "array([[ 1.        ,  0.02007657, -1.        ,  1.        ,  0.02007657],\n",
       "       [ 0.99393247,  0.01412849, -1.        ,  1.        ,  0.01864986],\n",
       "       [ 0.99559568,  0.01476778, -1.        ,  1.        ,  0.01810358],\n",
       "       ...,\n",
       "       [-0.97477332,  1.        , -0.0372726 , -1.        ,  1.        ],\n",
       "       [-0.97494477,  1.        , -0.03736266, -1.        ,  1.        ],\n",
       "       [-0.97511403,  1.        , -0.03745156, -1.        ,  1.        ]])"
      ]
     },
     "execution_count": 9,
     "metadata": {},
     "output_type": "execute_result"
    }
   ],
   "source": [
    "normalized_X_test = normalize(X_test)\n",
    "normalized_X_test"
   ]
  },
  {
   "cell_type": "code",
   "execution_count": 10,
   "id": "67d617d0-cc83-499c-953c-d5b741b3eb4c",
   "metadata": {},
   "outputs": [
    {
     "data": {
      "text/plain": [
       "(44284,)"
      ]
     },
     "execution_count": 10,
     "metadata": {},
     "output_type": "execute_result"
    }
   ],
   "source": [
    "y_test = test_data['SOC'].values\n",
    "y_test.shape"
   ]
  },
  {
   "cell_type": "code",
   "execution_count": 11,
   "id": "c8cdda33-63c5-45d9-848f-7ddc3587116c",
   "metadata": {},
   "outputs": [
    {
     "data": {
      "text/plain": [
       "array([1.        , 0.99999   , 0.99998333, ..., 0.19499   , 0.19499   ,\n",
       "       0.19499   ])"
      ]
     },
     "execution_count": 11,
     "metadata": {},
     "output_type": "execute_result"
    }
   ],
   "source": [
    "y_test"
   ]
  },
  {
   "cell_type": "code",
   "execution_count": 12,
   "id": "f84170a7-3151-4c7e-9679-ddc9a51413cd",
   "metadata": {},
   "outputs": [
    {
     "ename": "NameError",
     "evalue": "name 'model' is not defined",
     "output_type": "error",
     "traceback": [
      "\u001b[1;31m---------------------------------------------------------------------------\u001b[0m",
      "\u001b[1;31mNameError\u001b[0m                                 Traceback (most recent call last)",
      "Cell \u001b[1;32mIn[12], line 3\u001b[0m\n\u001b[0;32m      1\u001b[0m soc_observed \u001b[38;5;241m=\u001b[39m y_test\n\u001b[1;32m----> 3\u001b[0m soc_predicted \u001b[38;5;241m=\u001b[39m \u001b[43mmodel\u001b[49m\u001b[38;5;241m.\u001b[39mpredict(normalized_X_test)\n\u001b[0;32m      4\u001b[0m soc_predicted\n",
      "\u001b[1;31mNameError\u001b[0m: name 'model' is not defined"
     ]
    }
   ],
   "source": [
    "soc_observed = y_test\n",
    "\n",
    "soc_predicted = model.predict(normalized_X_test)\n",
    "soc_predicted"
   ]
  },
  {
   "cell_type": "code",
   "execution_count": null,
   "id": "1eb949b4-b0f2-4faa-a556-19d544e531c6",
   "metadata": {},
   "outputs": [],
   "source": [
    "results = model.evaluate(normalized_X_test, y_test)\n",
    "print(\"test loss, test acc:\", results)"
   ]
  },
  {
   "cell_type": "code",
   "execution_count": null,
   "id": "4fc2c20c-dec8-4fcb-bb37-9414114aebc8",
   "metadata": {},
   "outputs": [],
   "source": [
    "class ErrorFunctions:\n",
    "    @staticmethod\n",
    "    def rmse(observed, predicted):\n",
    "        diff = predicted - observed\n",
    "        return np.sqrt(np.mean(diff**2))\n",
    "\n",
    "    @staticmethod\n",
    "    def max(observed, predicted):\n",
    "        return np.max(np.abs(predicted - observed))\n",
    "\n",
    "    @staticmethod\n",
    "    def mae(observed, predicted):\n",
    "        return np.mean(np.abs(predicted - observed))"
   ]
  },
  {
   "cell_type": "code",
   "execution_count": null,
   "id": "3b9ad186-30a2-4744-a9a6-cf1562fad6cf",
   "metadata": {},
   "outputs": [],
   "source": [
    "rmse_value = ErrorFunctions.rmse(soc_observed, soc_predicted)\n",
    "print(f'rmse(observed, predicted) = {round(rmse_value*100,2)}%')\n",
    "max_value = ErrorFunctions.max(soc_observed, soc_predicted)\n",
    "print(f'max(observed, predicted) = {round(max_value*100,2)}%')\n",
    "mae_value = ErrorFunctions.mae(soc_observed, soc_predicted)\n",
    "print(f'mae(observed, predicted) = {round(mae_value*100,2)}%')"
   ]
  },
  {
   "cell_type": "code",
   "execution_count": null,
   "id": "8fd228ea-45aa-4c31-a2f8-be214bd19835",
   "metadata": {},
   "outputs": [],
   "source": [
    "plt.plot(soc_observed, label='observed')\n",
    "plt.plot(soc_predicted, label='predicted')\n",
    "plt.ylabel('SOC')\n",
    "plt.xlabel('Time (s)')\n",
    "plt.legend()"
   ]
  }
 ],
 "metadata": {
  "kernelspec": {
   "display_name": "myenv",
   "language": "python",
   "name": "myenv"
  },
  "language_info": {
   "codemirror_mode": {
    "name": "ipython",
    "version": 3
   },
   "file_extension": ".py",
   "mimetype": "text/x-python",
   "name": "python",
   "nbconvert_exporter": "python",
   "pygments_lexer": "ipython3",
   "version": "3.11.1"
  }
 },
 "nbformat": 4,
 "nbformat_minor": 5
}
