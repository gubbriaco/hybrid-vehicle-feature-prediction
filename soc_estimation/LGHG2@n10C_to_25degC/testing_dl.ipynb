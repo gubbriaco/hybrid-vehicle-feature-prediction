{
 "cells": [
  {
   "cell_type": "code",
   "execution_count": 1,
   "id": "926b0225-1dfd-45d3-b7d4-20fb6d292a2a",
   "metadata": {
    "scrolled": true
   },
   "outputs": [
    {
     "name": "stdout",
     "output_type": "stream",
     "text": [
      "2024-08-30 17:40:00,703 - INFO - Upgrading pip...\n",
      "2024-08-30 17:40:00,703 - INFO - Running pip command: install --upgrade pip\n",
      "Requirement already satisfied: pip in d:\\virtualenv\\myenv\\lib\\site-packages (24.2)\n",
      "2024-08-30 17:40:02,513 - INFO - Command 'install --upgrade pip' executed successfully.\n",
      "2024-08-30 17:40:02,513 - INFO - pip upgraded successfully.\n",
      "2024-08-30 17:40:02,513 - INFO - Installing library numpy...\n",
      "2024-08-30 17:40:02,513 - INFO - Running pip command: install numpy\n",
      "Requirement already satisfied: numpy in d:\\virtualenv\\myenv\\lib\\site-packages (1.26.3)\n",
      "2024-08-30 17:40:03,882 - INFO - Command 'install numpy' executed successfully.\n",
      "2024-08-30 17:40:03,882 - INFO - numpy installed successfully.\n",
      "2024-08-30 17:40:03,882 - INFO - Installing library pandas...\n",
      "2024-08-30 17:40:03,882 - INFO - Running pip command: install pandas\n",
      "Requirement already satisfied: pandas in d:\\virtualenv\\myenv\\lib\\site-packages (2.2.2)\n",
      "Requirement already satisfied: numpy>=1.23.2 in d:\\virtualenv\\myenv\\lib\\site-packages (from pandas) (1.26.3)\n",
      "Requirement already satisfied: python-dateutil>=2.8.2 in d:\\virtualenv\\myenv\\lib\\site-packages (from pandas) (2.9.0.post0)\n",
      "Requirement already satisfied: pytz>=2020.1 in d:\\virtualenv\\myenv\\lib\\site-packages (from pandas) (2024.1)\n",
      "Requirement already satisfied: tzdata>=2022.7 in d:\\virtualenv\\myenv\\lib\\site-packages (from pandas) (2024.1)\n",
      "Requirement already satisfied: six>=1.5 in d:\\virtualenv\\myenv\\lib\\site-packages (from python-dateutil>=2.8.2->pandas) (1.16.0)\n",
      "2024-08-30 17:40:05,120 - INFO - Command 'install pandas' executed successfully.\n",
      "2024-08-30 17:40:05,120 - INFO - pandas installed successfully.\n",
      "2024-08-30 17:40:05,120 - INFO - Installing library matplotlib...\n",
      "2024-08-30 17:40:05,120 - INFO - Running pip command: install matplotlib\n",
      "Requirement already satisfied: matplotlib in d:\\virtualenv\\myenv\\lib\\site-packages (3.9.0)\n",
      "Requirement already satisfied: contourpy>=1.0.1 in d:\\virtualenv\\myenv\\lib\\site-packages (from matplotlib) (1.2.1)\n",
      "Requirement already satisfied: cycler>=0.10 in d:\\virtualenv\\myenv\\lib\\site-packages (from matplotlib) (0.12.1)\n",
      "Requirement already satisfied: fonttools>=4.22.0 in d:\\virtualenv\\myenv\\lib\\site-packages (from matplotlib) (4.53.0)\n",
      "Requirement already satisfied: kiwisolver>=1.3.1 in d:\\virtualenv\\myenv\\lib\\site-packages (from matplotlib) (1.4.5)\n",
      "Requirement already satisfied: numpy>=1.23 in d:\\virtualenv\\myenv\\lib\\site-packages (from matplotlib) (1.26.3)\n",
      "Requirement already satisfied: packaging>=20.0 in d:\\virtualenv\\myenv\\lib\\site-packages (from matplotlib) (24.1)\n",
      "Requirement already satisfied: pillow>=8 in d:\\virtualenv\\myenv\\lib\\site-packages (from matplotlib) (10.2.0)\n",
      "Requirement already satisfied: pyparsing>=2.3.1 in d:\\virtualenv\\myenv\\lib\\site-packages (from matplotlib) (3.1.2)\n",
      "Requirement already satisfied: python-dateutil>=2.7 in d:\\virtualenv\\myenv\\lib\\site-packages (from matplotlib) (2.9.0.post0)\n",
      "Requirement already satisfied: six>=1.5 in d:\\virtualenv\\myenv\\lib\\site-packages (from python-dateutil>=2.7->matplotlib) (1.16.0)\n",
      "2024-08-30 17:40:06,271 - INFO - Command 'install matplotlib' executed successfully.\n",
      "2024-08-30 17:40:06,271 - INFO - matplotlib installed successfully.\n",
      "2024-08-30 17:40:06,271 - INFO - Installing library seaborn...\n",
      "2024-08-30 17:40:06,271 - INFO - Running pip command: install seaborn\n",
      "Requirement already satisfied: seaborn in d:\\virtualenv\\myenv\\lib\\site-packages (0.13.2)\n",
      "Requirement already satisfied: numpy!=1.24.0,>=1.20 in d:\\virtualenv\\myenv\\lib\\site-packages (from seaborn) (1.26.3)\n",
      "Requirement already satisfied: pandas>=1.2 in d:\\virtualenv\\myenv\\lib\\site-packages (from seaborn) (2.2.2)\n",
      "Requirement already satisfied: matplotlib!=3.6.1,>=3.4 in d:\\virtualenv\\myenv\\lib\\site-packages (from seaborn) (3.9.0)\n",
      "Requirement already satisfied: contourpy>=1.0.1 in d:\\virtualenv\\myenv\\lib\\site-packages (from matplotlib!=3.6.1,>=3.4->seaborn) (1.2.1)\n",
      "Requirement already satisfied: cycler>=0.10 in d:\\virtualenv\\myenv\\lib\\site-packages (from matplotlib!=3.6.1,>=3.4->seaborn) (0.12.1)\n",
      "Requirement already satisfied: fonttools>=4.22.0 in d:\\virtualenv\\myenv\\lib\\site-packages (from matplotlib!=3.6.1,>=3.4->seaborn) (4.53.0)\n",
      "Requirement already satisfied: kiwisolver>=1.3.1 in d:\\virtualenv\\myenv\\lib\\site-packages (from matplotlib!=3.6.1,>=3.4->seaborn) (1.4.5)\n",
      "Requirement already satisfied: packaging>=20.0 in d:\\virtualenv\\myenv\\lib\\site-packages (from matplotlib!=3.6.1,>=3.4->seaborn) (24.1)\n",
      "Requirement already satisfied: pillow>=8 in d:\\virtualenv\\myenv\\lib\\site-packages (from matplotlib!=3.6.1,>=3.4->seaborn) (10.2.0)\n",
      "Requirement already satisfied: pyparsing>=2.3.1 in d:\\virtualenv\\myenv\\lib\\site-packages (from matplotlib!=3.6.1,>=3.4->seaborn) (3.1.2)\n",
      "Requirement already satisfied: python-dateutil>=2.7 in d:\\virtualenv\\myenv\\lib\\site-packages (from matplotlib!=3.6.1,>=3.4->seaborn) (2.9.0.post0)\n",
      "Requirement already satisfied: pytz>=2020.1 in d:\\virtualenv\\myenv\\lib\\site-packages (from pandas>=1.2->seaborn) (2024.1)\n",
      "Requirement already satisfied: tzdata>=2022.7 in d:\\virtualenv\\myenv\\lib\\site-packages (from pandas>=1.2->seaborn) (2024.1)\n",
      "Requirement already satisfied: six>=1.5 in d:\\virtualenv\\myenv\\lib\\site-packages (from python-dateutil>=2.7->matplotlib!=3.6.1,>=3.4->seaborn) (1.16.0)\n",
      "2024-08-30 17:40:07,406 - INFO - Command 'install seaborn' executed successfully.\n",
      "2024-08-30 17:40:07,406 - INFO - seaborn installed successfully.\n",
      "2024-08-30 17:40:07,406 - INFO - Installing library tensorflow...\n",
      "2024-08-30 17:40:07,406 - INFO - Running pip command: install tensorflow\n",
      "Requirement already satisfied: tensorflow in d:\\virtualenv\\myenv\\lib\\site-packages (2.16.1)\n",
      "Requirement already satisfied: tensorflow-intel==2.16.1 in d:\\virtualenv\\myenv\\lib\\site-packages (from tensorflow) (2.16.1)\n",
      "Requirement already satisfied: absl-py>=1.0.0 in d:\\virtualenv\\myenv\\lib\\site-packages (from tensorflow-intel==2.16.1->tensorflow) (2.1.0)\n",
      "Requirement already satisfied: astunparse>=1.6.0 in d:\\virtualenv\\myenv\\lib\\site-packages (from tensorflow-intel==2.16.1->tensorflow) (1.6.3)\n",
      "Requirement already satisfied: flatbuffers>=23.5.26 in d:\\virtualenv\\myenv\\lib\\site-packages (from tensorflow-intel==2.16.1->tensorflow) (24.3.25)\n",
      "Requirement already satisfied: gast!=0.5.0,!=0.5.1,!=0.5.2,>=0.2.1 in d:\\virtualenv\\myenv\\lib\\site-packages (from tensorflow-intel==2.16.1->tensorflow) (0.5.4)\n",
      "Requirement already satisfied: google-pasta>=0.1.1 in d:\\virtualenv\\myenv\\lib\\site-packages (from tensorflow-intel==2.16.1->tensorflow) (0.2.0)\n",
      "Requirement already satisfied: h5py>=3.10.0 in d:\\virtualenv\\myenv\\lib\\site-packages (from tensorflow-intel==2.16.1->tensorflow) (3.11.0)\n",
      "Requirement already satisfied: libclang>=13.0.0 in d:\\virtualenv\\myenv\\lib\\site-packages (from tensorflow-intel==2.16.1->tensorflow) (18.1.1)\n",
      "Requirement already satisfied: ml-dtypes~=0.3.1 in d:\\virtualenv\\myenv\\lib\\site-packages (from tensorflow-intel==2.16.1->tensorflow) (0.3.2)\n",
      "Requirement already satisfied: opt-einsum>=2.3.2 in d:\\virtualenv\\myenv\\lib\\site-packages (from tensorflow-intel==2.16.1->tensorflow) (3.3.0)\n",
      "Requirement already satisfied: packaging in d:\\virtualenv\\myenv\\lib\\site-packages (from tensorflow-intel==2.16.1->tensorflow) (24.1)\n",
      "Requirement already satisfied: protobuf!=4.21.0,!=4.21.1,!=4.21.2,!=4.21.3,!=4.21.4,!=4.21.5,<5.0.0dev,>=3.20.3 in d:\\virtualenv\\myenv\\lib\\site-packages (from tensorflow-intel==2.16.1->tensorflow) (4.25.3)\n",
      "Requirement already satisfied: requests<3,>=2.21.0 in d:\\virtualenv\\myenv\\lib\\site-packages (from tensorflow-intel==2.16.1->tensorflow) (2.32.3)\n",
      "Requirement already satisfied: setuptools in d:\\virtualenv\\myenv\\lib\\site-packages (from tensorflow-intel==2.16.1->tensorflow) (70.1.0)\n",
      "Requirement already satisfied: six>=1.12.0 in d:\\virtualenv\\myenv\\lib\\site-packages (from tensorflow-intel==2.16.1->tensorflow) (1.16.0)\n",
      "Requirement already satisfied: termcolor>=1.1.0 in d:\\virtualenv\\myenv\\lib\\site-packages (from tensorflow-intel==2.16.1->tensorflow) (2.4.0)\n",
      "Requirement already satisfied: typing-extensions>=3.6.6 in d:\\virtualenv\\myenv\\lib\\site-packages (from tensorflow-intel==2.16.1->tensorflow) (4.12.2)\n",
      "Requirement already satisfied: wrapt>=1.11.0 in d:\\virtualenv\\myenv\\lib\\site-packages (from tensorflow-intel==2.16.1->tensorflow) (1.16.0)\n",
      "Requirement already satisfied: grpcio<2.0,>=1.24.3 in d:\\virtualenv\\myenv\\lib\\site-packages (from tensorflow-intel==2.16.1->tensorflow) (1.64.1)\n",
      "Requirement already satisfied: tensorboard<2.17,>=2.16 in d:\\virtualenv\\myenv\\lib\\site-packages (from tensorflow-intel==2.16.1->tensorflow) (2.16.2)\n",
      "Requirement already satisfied: keras>=3.0.0 in d:\\virtualenv\\myenv\\lib\\site-packages (from tensorflow-intel==2.16.1->tensorflow) (3.4.0)\n",
      "Requirement already satisfied: tensorflow-io-gcs-filesystem>=0.23.1 in d:\\virtualenv\\myenv\\lib\\site-packages (from tensorflow-intel==2.16.1->tensorflow) (0.31.0)\n",
      "Requirement already satisfied: numpy<2.0.0,>=1.23.5 in d:\\virtualenv\\myenv\\lib\\site-packages (from tensorflow-intel==2.16.1->tensorflow) (1.26.3)\n",
      "Requirement already satisfied: wheel<1.0,>=0.23.0 in d:\\virtualenv\\myenv\\lib\\site-packages (from astunparse>=1.6.0->tensorflow-intel==2.16.1->tensorflow) (0.43.0)\n",
      "Requirement already satisfied: rich in d:\\virtualenv\\myenv\\lib\\site-packages (from keras>=3.0.0->tensorflow-intel==2.16.1->tensorflow) (13.7.1)\n",
      "Requirement already satisfied: namex in d:\\virtualenv\\myenv\\lib\\site-packages (from keras>=3.0.0->tensorflow-intel==2.16.1->tensorflow) (0.0.8)\n",
      "Requirement already satisfied: optree in d:\\virtualenv\\myenv\\lib\\site-packages (from keras>=3.0.0->tensorflow-intel==2.16.1->tensorflow) (0.11.0)\n",
      "Requirement already satisfied: charset-normalizer<4,>=2 in d:\\virtualenv\\myenv\\lib\\site-packages (from requests<3,>=2.21.0->tensorflow-intel==2.16.1->tensorflow) (3.3.2)\n",
      "Requirement already satisfied: idna<4,>=2.5 in d:\\virtualenv\\myenv\\lib\\site-packages (from requests<3,>=2.21.0->tensorflow-intel==2.16.1->tensorflow) (3.7)\n",
      "Requirement already satisfied: urllib3<3,>=1.21.1 in d:\\virtualenv\\myenv\\lib\\site-packages (from requests<3,>=2.21.0->tensorflow-intel==2.16.1->tensorflow) (2.2.2)\n",
      "Requirement already satisfied: certifi>=2017.4.17 in d:\\virtualenv\\myenv\\lib\\site-packages (from requests<3,>=2.21.0->tensorflow-intel==2.16.1->tensorflow) (2024.6.2)\n",
      "Requirement already satisfied: markdown>=2.6.8 in d:\\virtualenv\\myenv\\lib\\site-packages (from tensorboard<2.17,>=2.16->tensorflow-intel==2.16.1->tensorflow) (3.6)\n",
      "Requirement already satisfied: tensorboard-data-server<0.8.0,>=0.7.0 in d:\\virtualenv\\myenv\\lib\\site-packages (from tensorboard<2.17,>=2.16->tensorflow-intel==2.16.1->tensorflow) (0.7.2)\n",
      "Requirement already satisfied: werkzeug>=1.0.1 in d:\\virtualenv\\myenv\\lib\\site-packages (from tensorboard<2.17,>=2.16->tensorflow-intel==2.16.1->tensorflow) (3.0.3)\n",
      "Requirement already satisfied: MarkupSafe>=2.1.1 in d:\\virtualenv\\myenv\\lib\\site-packages (from werkzeug>=1.0.1->tensorboard<2.17,>=2.16->tensorflow-intel==2.16.1->tensorflow) (2.1.5)\n",
      "Requirement already satisfied: markdown-it-py>=2.2.0 in d:\\virtualenv\\myenv\\lib\\site-packages (from rich->keras>=3.0.0->tensorflow-intel==2.16.1->tensorflow) (3.0.0)\n",
      "Requirement already satisfied: pygments<3.0.0,>=2.13.0 in d:\\virtualenv\\myenv\\lib\\site-packages (from rich->keras>=3.0.0->tensorflow-intel==2.16.1->tensorflow) (2.18.0)\n",
      "Requirement already satisfied: mdurl~=0.1 in d:\\virtualenv\\myenv\\lib\\site-packages (from markdown-it-py>=2.2.0->rich->keras>=3.0.0->tensorflow-intel==2.16.1->tensorflow) (0.1.2)\n",
      "2024-08-30 17:40:08,663 - INFO - Command 'install tensorflow' executed successfully.\n",
      "2024-08-30 17:40:08,663 - INFO - tensorflow installed successfully.\n",
      "2024-08-30 17:40:08,663 - INFO - Installing library scikit-learn...\n",
      "2024-08-30 17:40:08,663 - INFO - Running pip command: install scikit-learn\n",
      "Requirement already satisfied: scikit-learn in d:\\virtualenv\\myenv\\lib\\site-packages (1.5.0)\n",
      "Requirement already satisfied: numpy>=1.19.5 in d:\\virtualenv\\myenv\\lib\\site-packages (from scikit-learn) (1.26.3)\n",
      "Requirement already satisfied: scipy>=1.6.0 in d:\\virtualenv\\myenv\\lib\\site-packages (from scikit-learn) (1.14.0)\n",
      "Requirement already satisfied: joblib>=1.2.0 in d:\\virtualenv\\myenv\\lib\\site-packages (from scikit-learn) (1.4.2)\n",
      "Requirement already satisfied: threadpoolctl>=3.1.0 in d:\\virtualenv\\myenv\\lib\\site-packages (from scikit-learn) (3.5.0)\n",
      "2024-08-30 17:40:09,874 - INFO - Command 'install scikit-learn' executed successfully.\n",
      "2024-08-30 17:40:09,874 - INFO - scikit-learn installed successfully.\n",
      "2024-08-30 17:40:09,874 - INFO - Installing library openpyxl...\n",
      "2024-08-30 17:40:09,874 - INFO - Running pip command: install openpyxl\n",
      "Requirement already satisfied: openpyxl in d:\\virtualenv\\myenv\\lib\\site-packages (3.1.5)\n",
      "Requirement already satisfied: et-xmlfile in d:\\virtualenv\\myenv\\lib\\site-packages (from openpyxl) (1.1.0)\n",
      "2024-08-30 17:40:11,086 - INFO - Command 'install openpyxl' executed successfully.\n",
      "2024-08-30 17:40:11,096 - INFO - openpyxl installed successfully.\n",
      "2024-08-30 17:40:11,096 - INFO - Installation of all libraries completed!\n"
     ]
    }
   ],
   "source": [
    "!python libraries.py"
   ]
  },
  {
   "cell_type": "code",
   "execution_count": 2,
   "id": "422358b6-3600-4f56-b062-c2435bf92d5e",
   "metadata": {},
   "outputs": [
    {
     "name": "stdout",
     "output_type": "stream",
     "text": [
      "data_dir = ['.ipynb_checkpoints', 'features.txt', 'targets.txt', 'test', 'test_file_idx.txt', 'train', 'val']\n",
      "train_data_dir = ['TRAIN_LGHG2@n10degC_to_25degC_Norm_5Inputs.csv']\n",
      "val_data_dir = ['01_TEST_LGHG2@n10degC_Norm_(05_Inputs).csv', '02_TEST_LGHG2@0degC_Norm_(05_Inputs).csv', '03_TEST_LGHG2@10degC_Norm_(05_Inputs).csv', '04_TEST_LGHG2@25degC_Norm_(05_Inputs).csv']\n",
      "test_data_dir = ['01_TEST_LGHG2@n10degC_Norm_(05_Inputs).csv', '02_TEST_LGHG2@0degC_Norm_(05_Inputs).csv', '03_TEST_LGHG2@10degC_Norm_(05_Inputs).csv', '04_TEST_LGHG2@25degC_Norm_(05_Inputs).csv']\n",
      "models_dir = ['.ipynb_checkpoints', 'dl', 'ml']\n",
      "dl_models_dir = ['rnn_model.keras']\n",
      "ml_models_dir = ['soc_estimation_ml_decisiontree.sav', 'soc_estimation_ml_lregression.sav', 'soc_estimation_ml_nnregression.sav']\n"
     ]
    }
   ],
   "source": [
    "import os\n",
    "from config import Config\n",
    "\n",
    "config = Config(\n",
    "    data_dir='./data',\n",
    "    train_data_subdir='train/',\n",
    "    val_data_subdir='test/',\n",
    "    test_data_subdir='test/',\n",
    "    models_dir='./models',\n",
    "    dl_models_subdir='dl/',\n",
    "    ml_models_subdir='ml/'\n",
    ")"
   ]
  },
  {
   "cell_type": "code",
   "execution_count": 3,
   "id": "b4f4cfb5-726d-44c4-bcff-8acbf910b1c9",
   "metadata": {},
   "outputs": [],
   "source": [
    "import pandas as pd\n",
    "import numpy as np"
   ]
  },
  {
   "cell_type": "markdown",
   "id": "59ad7c41-d550-402f-8507-9d4729517442",
   "metadata": {},
   "source": [
    "## Testing Data"
   ]
  },
  {
   "cell_type": "code",
   "execution_count": 4,
   "id": "b4be44d2-3b6d-4699-89f4-5c698bc93f46",
   "metadata": {},
   "outputs": [],
   "source": [
    "test_file_idx_filename = 'test_file_idx.txt'\n",
    "test_file_idx_path = os.path.join(config.get_data_dir(), test_file_idx_filename)\n",
    "with open(test_file_idx_path, 'r') as file:\n",
    "    test_file_idx = [int(idx.strip()) for idx in file.readlines()]"
   ]
  },
  {
   "cell_type": "code",
   "execution_count": 5,
   "id": "4a3f0987-2211-4980-a3a3-8edec3f773ab",
   "metadata": {},
   "outputs": [
    {
     "data": {
      "text/plain": [
       "Index(['V', 'I', 'Temp', 'V_avg', 'I_avg', 'SOC'], dtype='object')"
      ]
     },
     "execution_count": 5,
     "metadata": {},
     "output_type": "execute_result"
    }
   ],
   "source": [
    "test_data_filename = os.listdir(config.get_test_data_dir())[test_file_idx[0]]\n",
    "test_data_path = os.path.join(config.get_test_data_dir(), test_data_filename)\n",
    "test_data = pd.read_csv(test_data_path)\n",
    "test_data.columns"
   ]
  },
  {
   "cell_type": "markdown",
   "id": "7a64b0ed-0c25-4f32-8612-5f969e8f345e",
   "metadata": {},
   "source": [
    "### Extracting Features for Testing\n",
    "In this cell, we extract specific features from the testing data for use in model testing"
   ]
  },
  {
   "cell_type": "code",
   "execution_count": 6,
   "id": "f3cef157-7f37-442e-81f3-00de1191b67b",
   "metadata": {},
   "outputs": [
    {
     "name": "stdout",
     "output_type": "stream",
     "text": [
      "features = ['I', 'Temp', 'V_avg', 'I_avg', 'V']\n",
      "target = ['SOC']\n"
     ]
    }
   ],
   "source": [
    "targets_filename = 'targets.txt'\n",
    "targets_path = os.path.join(config.get_data_dir(), targets_filename)\n",
    "with open(targets_path, 'r') as file:\n",
    "    targets = [target.strip() for target in file.readlines()]\n",
    "\n",
    "features_filename = 'features.txt'\n",
    "features_path = os.path.join(config.get_data_dir(), features_filename)\n",
    "with open(features_path, 'r') as file:\n",
    "    features = [feature.strip() for feature in file.readlines()]\n",
    "\n",
    "print(f'features = {features}')\n",
    "print(f'target = {targets}')"
   ]
  },
  {
   "cell_type": "code",
   "execution_count": 7,
   "id": "6455d8d8-a839-4b5b-b493-a93b61417887",
   "metadata": {},
   "outputs": [
    {
     "data": {
      "text/plain": [
       "(47517, 5)"
      ]
     },
     "execution_count": 7,
     "metadata": {},
     "output_type": "execute_result"
    }
   ],
   "source": [
    "X_test = test_data[features].values\n",
    "X_test.shape"
   ]
  },
  {
   "cell_type": "code",
   "execution_count": 8,
   "id": "25e94590-2629-41cf-8b3a-a7fbd4dc7180",
   "metadata": {},
   "outputs": [
    {
     "data": {
      "text/plain": [
       "array([[0.74890031, 0.92067815, 0.96696018, 0.74890031, 0.96696018],\n",
       "       [0.74699217, 0.92067726, 0.96649   , 0.74794624, 0.96601981],\n",
       "       [0.74699223, 0.91784518, 0.9662938 , 0.74762823, 0.9659014 ],\n",
       "       ...,\n",
       "       [0.75102009, 0.9263438 , 0.2927976 , 0.75102009, 0.29861375],\n",
       "       [0.75102009, 0.92917676, 0.2928344 , 0.75102009, 0.29861375],\n",
       "       [0.75102009, 0.92917676, 0.29287091, 0.75102009, 0.29861375]])"
      ]
     },
     "execution_count": 8,
     "metadata": {},
     "output_type": "execute_result"
    }
   ],
   "source": [
    "X_test"
   ]
  },
  {
   "cell_type": "markdown",
   "id": "1025ad8b-9d97-45cc-b2ef-1c81592ebfff",
   "metadata": {},
   "source": [
    "### Extracting Target Variable for Testing\n",
    "\n",
    "In this cell, we extract the target variable from the testing data"
   ]
  },
  {
   "cell_type": "code",
   "execution_count": 9,
   "id": "67d617d0-cc83-499c-953c-d5b741b3eb4c",
   "metadata": {},
   "outputs": [
    {
     "data": {
      "text/plain": [
       "(47517, 1)"
      ]
     },
     "execution_count": 9,
     "metadata": {},
     "output_type": "execute_result"
    }
   ],
   "source": [
    "y_test = test_data[targets].values\n",
    "y_test.shape"
   ]
  },
  {
   "cell_type": "code",
   "execution_count": 10,
   "id": "c8cdda33-63c5-45d9-848f-7ddc3587116c",
   "metadata": {},
   "outputs": [
    {
     "data": {
      "text/plain": [
       "array([[1.        ],\n",
       "       [0.99999   ],\n",
       "       [0.99998333],\n",
       "       ...,\n",
       "       [0.13662333],\n",
       "       [0.13662333],\n",
       "       [0.13662333]])"
      ]
     },
     "execution_count": 10,
     "metadata": {},
     "output_type": "execute_result"
    }
   ],
   "source": [
    "y_test"
   ]
  },
  {
   "cell_type": "markdown",
   "id": "15010ce6-152f-4916-9660-14320eeb781a",
   "metadata": {},
   "source": [
    "## Data Normalization"
   ]
  },
  {
   "cell_type": "code",
   "execution_count": 11,
   "id": "58f11056-5d11-4e49-86d4-51aa0ee4cf57",
   "metadata": {},
   "outputs": [],
   "source": [
    "import utils"
   ]
  },
  {
   "cell_type": "code",
   "execution_count": 12,
   "id": "067e7bec-bff0-43e9-b30a-f2089dfad3b3",
   "metadata": {},
   "outputs": [
    {
     "data": {
      "text/plain": [
       "array([[-1.        ,  0.57551079,  1.        , -1.        ,  1.        ],\n",
       "       [-1.        ,  0.58256774,  1.        , -0.99130679,  0.99571585],\n",
       "       [-1.        ,  0.55815534,  1.        , -0.99419975,  0.99642139],\n",
       "       ...,\n",
       "       [ 0.44653221,  1.        , -1.        ,  0.44653221, -0.98163938],\n",
       "       [ 0.44006032,  1.        , -1.        ,  0.44006032, -0.98183573],\n",
       "       [ 0.44002819,  1.        , -1.        ,  0.44002819, -0.98194943]])"
      ]
     },
     "execution_count": 12,
     "metadata": {},
     "output_type": "execute_result"
    }
   ],
   "source": [
    "normalized_X_test = utils.normalize(X_test)\n",
    "normalized_X_test"
   ]
  },
  {
   "cell_type": "markdown",
   "id": "cc78b8a9-2b46-4505-b6a4-bec76bd8d4b0",
   "metadata": {},
   "source": [
    "# RNN Testing"
   ]
  },
  {
   "cell_type": "code",
   "execution_count": 13,
   "id": "1be340ba-496f-4921-9ec1-cd76680d9977",
   "metadata": {},
   "outputs": [],
   "source": [
    "from tensorflow import keras\n",
    "from custom import CustomLeakyReLU, CustomClippedReLU"
   ]
  },
  {
   "cell_type": "code",
   "execution_count": 14,
   "id": "c46aca38-2cb3-4e13-88cf-edbbb7a982dc",
   "metadata": {},
   "outputs": [],
   "source": [
    "saved_model_name = 'rnn_model.keras'\n",
    "saved_model_path = os.path.join(config.get_dl_models_dir(), saved_model_name)\n",
    "model = keras.models.load_model(\n",
    "    saved_model_path, \n",
    "    custom_objects={\n",
    "        'CustomLeakyReLU': CustomLeakyReLU,\n",
    "        'CustomClippedReLU': CustomClippedReLU\n",
    "    }\n",
    ")"
   ]
  },
  {
   "cell_type": "code",
   "execution_count": 15,
   "id": "f84170a7-3151-4c7e-9679-ddc9a51413cd",
   "metadata": {},
   "outputs": [
    {
     "name": "stdout",
     "output_type": "stream",
     "text": [
      "\u001b[1m1485/1485\u001b[0m \u001b[32m━━━━━━━━━━━━━━━━━━━━\u001b[0m\u001b[37m\u001b[0m \u001b[1m2s\u001b[0m 948us/step\n"
     ]
    },
    {
     "data": {
      "text/plain": [
       "array([[1.        ],\n",
       "       [0.9968414 ],\n",
       "       [0.99955195],\n",
       "       ...,\n",
       "       [0.14000113],\n",
       "       [0.13980083],\n",
       "       [0.13970536]], dtype=float32)"
      ]
     },
     "execution_count": 15,
     "metadata": {},
     "output_type": "execute_result"
    }
   ],
   "source": [
    "y_predicted = model.predict(normalized_X_test)\n",
    "y_predicted"
   ]
  },
  {
   "cell_type": "code",
   "execution_count": 16,
   "id": "1eb949b4-b0f2-4faa-a556-19d544e531c6",
   "metadata": {},
   "outputs": [
    {
     "name": "stdout",
     "output_type": "stream",
     "text": [
      "\u001b[1m1485/1485\u001b[0m \u001b[32m━━━━━━━━━━━━━━━━━━━━\u001b[0m\u001b[37m\u001b[0m \u001b[1m1s\u001b[0m 886us/step - loss: 7.8267e-04\n"
     ]
    }
   ],
   "source": [
    "results = model.evaluate(normalized_X_test, y_test)"
   ]
  },
  {
   "cell_type": "code",
   "execution_count": 17,
   "id": "4bea5a39-dff5-4932-afde-4825b45ada40",
   "metadata": {},
   "outputs": [
    {
     "data": {
      "text/html": [
       "<style type=\"text/css\">\n",
       "#T_f42f9_row0_col0, #T_f42f9_row1_col0, #T_f42f9_row2_col0, #T_f42f9_row3_col0, #T_f42f9_row4_col0, #T_f42f9_row5_col0 {\n",
       "  border: 1.5px solid black;\n",
       "  color: black;\n",
       "  font-size: 12pt;\n",
       "  text-align: center;\n",
       "}\n",
       "#T_f42f9_row0_col1 {\n",
       "  background-color: #b40426;\n",
       "  color: #f1f1f1;\n",
       "  border: 1.5px solid black;\n",
       "  color: black;\n",
       "  font-size: 12pt;\n",
       "  text-align: center;\n",
       "}\n",
       "#T_f42f9_row1_col1 {\n",
       "  background-color: #536edd;\n",
       "  color: #f1f1f1;\n",
       "  border: 1.5px solid black;\n",
       "  color: black;\n",
       "  font-size: 12pt;\n",
       "  text-align: center;\n",
       "}\n",
       "#T_f42f9_row2_col1 {\n",
       "  background-color: #89acfd;\n",
       "  color: #000000;\n",
       "  border: 1.5px solid black;\n",
       "  color: black;\n",
       "  font-size: 12pt;\n",
       "  text-align: center;\n",
       "}\n",
       "#T_f42f9_row3_col1 {\n",
       "  background-color: #3b4cc0;\n",
       "  color: #f1f1f1;\n",
       "  border: 1.5px solid black;\n",
       "  color: black;\n",
       "  font-size: 12pt;\n",
       "  text-align: center;\n",
       "}\n",
       "#T_f42f9_row4_col1 {\n",
       "  background-color: #6485ec;\n",
       "  color: #f1f1f1;\n",
       "  border: 1.5px solid black;\n",
       "  color: black;\n",
       "  font-size: 12pt;\n",
       "  text-align: center;\n",
       "}\n",
       "#T_f42f9_row5_col1 {\n",
       "  background-color: #5875e1;\n",
       "  color: #f1f1f1;\n",
       "  border: 1.5px solid black;\n",
       "  color: black;\n",
       "  font-size: 12pt;\n",
       "  text-align: center;\n",
       "}\n",
       "</style>\n",
       "<table id=\"T_f42f9\">\n",
       "  <thead>\n",
       "    <tr>\n",
       "      <th class=\"blank level0\" >&nbsp;</th>\n",
       "      <th id=\"T_f42f9_level0_col0\" class=\"col_heading level0 col0\" >Metric</th>\n",
       "      <th id=\"T_f42f9_level0_col1\" class=\"col_heading level0 col1\" >Value</th>\n",
       "    </tr>\n",
       "  </thead>\n",
       "  <tbody>\n",
       "    <tr>\n",
       "      <th id=\"T_f42f9_level0_row0\" class=\"row_heading level0 row0\" >0</th>\n",
       "      <td id=\"T_f42f9_row0_col0\" class=\"data row0 col0\" >max_error</td>\n",
       "      <td id=\"T_f42f9_row0_col1\" class=\"data row0 col1\" >0.234332</td>\n",
       "    </tr>\n",
       "    <tr>\n",
       "      <th id=\"T_f42f9_level0_row1\" class=\"row_heading level0 row1\" >1</th>\n",
       "      <td id=\"T_f42f9_row1_col0\" class=\"data row1 col0\" >mean_absolute_error</td>\n",
       "      <td id=\"T_f42f9_row1_col1\" class=\"data row1 col1\" >0.019947</td>\n",
       "    </tr>\n",
       "    <tr>\n",
       "      <th id=\"T_f42f9_level0_row2\" class=\"row_heading level0 row2\" >2</th>\n",
       "      <td id=\"T_f42f9_row2_col0\" class=\"data row2 col0\" >mean_absolute_percentage_error</td>\n",
       "      <td id=\"T_f42f9_row2_col1\" class=\"data row2 col1\" >0.056672</td>\n",
       "    </tr>\n",
       "    <tr>\n",
       "      <th id=\"T_f42f9_level0_row3\" class=\"row_heading level0 row3\" >3</th>\n",
       "      <td id=\"T_f42f9_row3_col0\" class=\"data row3 col0\" >mean_squared_error</td>\n",
       "      <td id=\"T_f42f9_row3_col1\" class=\"data row3 col1\" >0.001034</td>\n",
       "    </tr>\n",
       "    <tr>\n",
       "      <th id=\"T_f42f9_level0_row4\" class=\"row_heading level0 row4\" >4</th>\n",
       "      <td id=\"T_f42f9_row4_col0\" class=\"data row4 col0\" >root_mean_squared_error</td>\n",
       "      <td id=\"T_f42f9_row4_col1\" class=\"data row4 col1\" >0.032162</td>\n",
       "    </tr>\n",
       "    <tr>\n",
       "      <th id=\"T_f42f9_level0_row5\" class=\"row_heading level0 row5\" >5</th>\n",
       "      <td id=\"T_f42f9_row5_col0\" class=\"data row5 col0\" >root_mean_squared_log_error</td>\n",
       "      <td id=\"T_f42f9_row5_col1\" class=\"data row5 col1\" >0.023323</td>\n",
       "    </tr>\n",
       "  </tbody>\n",
       "</table>\n"
      ],
      "text/plain": [
       "<pandas.io.formats.style.Styler at 0x18091c66350>"
      ]
     },
     "execution_count": 17,
     "metadata": {},
     "output_type": "execute_result"
    }
   ],
   "source": [
    "import utils\n",
    "rnn_metrics = utils.get_metrics(y_test, y_predicted)\n",
    "rnn_metrics"
   ]
  },
  {
   "cell_type": "code",
   "execution_count": 18,
   "id": "8fd228ea-45aa-4c31-a2f8-be214bd19835",
   "metadata": {},
   "outputs": [
    {
     "data": {
      "image/png": "[encoded data removed]",
      "text/plain": [
       "<Figure size 1100x600 with 2 Axes>"
      ]
     },
     "metadata": {},
     "output_type": "display_data"
    }
   ],
   "source": [
    "utils.plot_obs_pred(\n",
    "    y_test=y_test, \n",
    "    y_predicted=y_predicted, \n",
    "    ylabel='SOC', \n",
    "    xlabel='Time (s)'\n",
    ")"
   ]
  },
  {
   "cell_type": "code",
   "execution_count": null,
   "id": "cc9665e2-c584-4246-862e-dec6284f68f6",
   "metadata": {},
   "outputs": [],
   "source": []
  }
 ],
 "metadata": {
  "kernelspec": {
   "display_name": "myenv",
   "language": "python",
   "name": "myenv"
  },
  "language_info": {
   "codemirror_mode": {
    "name": "ipython",
    "version": 3
   },
   "file_extension": ".py",
   "mimetype": "text/x-python",
   "name": "python",
   "nbconvert_exporter": "python",
   "pygments_lexer": "ipython3",
   "version": "3.11.1"
  }
 },
 "nbformat": 4,
 "nbformat_minor": 5
}
