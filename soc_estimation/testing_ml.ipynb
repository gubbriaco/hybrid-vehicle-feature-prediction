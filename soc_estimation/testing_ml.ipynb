{
 "cells": [
  {
   "cell_type": "code",
   "execution_count": 1,
   "id": "f9784261-15c9-4074-a4b8-83975d4ecbdc",
   "metadata": {},
   "outputs": [
    {
     "name": "stdout",
     "output_type": "stream",
     "text": [
      "Requirement already satisfied: tensorflow in d:\\virtualenv\\myenv\\lib\\site-packages (2.16.1)\n",
      "Requirement already satisfied: tensorflow-intel==2.16.1 in d:\\virtualenv\\myenv\\lib\\site-packages (from tensorflow) (2.16.1)\n",
      "Requirement already satisfied: absl-py>=1.0.0 in d:\\virtualenv\\myenv\\lib\\site-packages (from tensorflow-intel==2.16.1->tensorflow) (2.1.0)\n",
      "Requirement already satisfied: astunparse>=1.6.0 in d:\\virtualenv\\myenv\\lib\\site-packages (from tensorflow-intel==2.16.1->tensorflow) (1.6.3)\n",
      "Requirement already satisfied: flatbuffers>=23.5.26 in d:\\virtualenv\\myenv\\lib\\site-packages (from tensorflow-intel==2.16.1->tensorflow) (24.3.25)\n",
      "Requirement already satisfied: gast!=0.5.0,!=0.5.1,!=0.5.2,>=0.2.1 in d:\\virtualenv\\myenv\\lib\\site-packages (from tensorflow-intel==2.16.1->tensorflow) (0.5.4)\n",
      "Requirement already satisfied: google-pasta>=0.1.1 in d:\\virtualenv\\myenv\\lib\\site-packages (from tensorflow-intel==2.16.1->tensorflow) (0.2.0)\n",
      "Requirement already satisfied: h5py>=3.10.0 in d:\\virtualenv\\myenv\\lib\\site-packages (from tensorflow-intel==2.16.1->tensorflow) (3.11.0)\n",
      "Requirement already satisfied: libclang>=13.0.0 in d:\\virtualenv\\myenv\\lib\\site-packages (from tensorflow-intel==2.16.1->tensorflow) (18.1.1)\n",
      "Requirement already satisfied: ml-dtypes~=0.3.1 in d:\\virtualenv\\myenv\\lib\\site-packages (from tensorflow-intel==2.16.1->tensorflow) (0.3.2)\n",
      "Requirement already satisfied: opt-einsum>=2.3.2 in d:\\virtualenv\\myenv\\lib\\site-packages (from tensorflow-intel==2.16.1->tensorflow) (3.3.0)\n",
      "Requirement already satisfied: packaging in d:\\virtualenv\\myenv\\lib\\site-packages (from tensorflow-intel==2.16.1->tensorflow) (24.1)\n",
      "Requirement already satisfied: protobuf!=4.21.0,!=4.21.1,!=4.21.2,!=4.21.3,!=4.21.4,!=4.21.5,<5.0.0dev,>=3.20.3 in d:\\virtualenv\\myenv\\lib\\site-packages (from tensorflow-intel==2.16.1->tensorflow) (4.25.3)\n",
      "Requirement already satisfied: requests<3,>=2.21.0 in d:\\virtualenv\\myenv\\lib\\site-packages (from tensorflow-intel==2.16.1->tensorflow) (2.32.3)\n",
      "Requirement already satisfied: setuptools in d:\\virtualenv\\myenv\\lib\\site-packages (from tensorflow-intel==2.16.1->tensorflow) (70.1.0)\n",
      "Requirement already satisfied: six>=1.12.0 in d:\\virtualenv\\myenv\\lib\\site-packages (from tensorflow-intel==2.16.1->tensorflow) (1.16.0)\n",
      "Requirement already satisfied: termcolor>=1.1.0 in d:\\virtualenv\\myenv\\lib\\site-packages (from tensorflow-intel==2.16.1->tensorflow) (2.4.0)\n",
      "Requirement already satisfied: typing-extensions>=3.6.6 in d:\\virtualenv\\myenv\\lib\\site-packages (from tensorflow-intel==2.16.1->tensorflow) (4.12.2)\n",
      "Requirement already satisfied: wrapt>=1.11.0 in d:\\virtualenv\\myenv\\lib\\site-packages (from tensorflow-intel==2.16.1->tensorflow) (1.16.0)\n",
      "Requirement already satisfied: grpcio<2.0,>=1.24.3 in d:\\virtualenv\\myenv\\lib\\site-packages (from tensorflow-intel==2.16.1->tensorflow) (1.64.1)\n",
      "Requirement already satisfied: tensorboard<2.17,>=2.16 in d:\\virtualenv\\myenv\\lib\\site-packages (from tensorflow-intel==2.16.1->tensorflow) (2.16.2)\n",
      "Requirement already satisfied: keras>=3.0.0 in d:\\virtualenv\\myenv\\lib\\site-packages (from tensorflow-intel==2.16.1->tensorflow) (3.4.0)\n",
      "Requirement already satisfied: tensorflow-io-gcs-filesystem>=0.23.1 in d:\\virtualenv\\myenv\\lib\\site-packages (from tensorflow-intel==2.16.1->tensorflow) (0.31.0)\n",
      "Requirement already satisfied: numpy<2.0.0,>=1.23.5 in d:\\virtualenv\\myenv\\lib\\site-packages (from tensorflow-intel==2.16.1->tensorflow) (1.26.3)\n",
      "Requirement already satisfied: wheel<1.0,>=0.23.0 in d:\\virtualenv\\myenv\\lib\\site-packages (from astunparse>=1.6.0->tensorflow-intel==2.16.1->tensorflow) (0.43.0)\n",
      "Requirement already satisfied: rich in d:\\virtualenv\\myenv\\lib\\site-packages (from keras>=3.0.0->tensorflow-intel==2.16.1->tensorflow) (13.7.1)\n",
      "Requirement already satisfied: namex in d:\\virtualenv\\myenv\\lib\\site-packages (from keras>=3.0.0->tensorflow-intel==2.16.1->tensorflow) (0.0.8)\n",
      "Requirement already satisfied: optree in d:\\virtualenv\\myenv\\lib\\site-packages (from keras>=3.0.0->tensorflow-intel==2.16.1->tensorflow) (0.11.0)\n",
      "Requirement already satisfied: charset-normalizer<4,>=2 in d:\\virtualenv\\myenv\\lib\\site-packages (from requests<3,>=2.21.0->tensorflow-intel==2.16.1->tensorflow) (3.3.2)\n",
      "Requirement already satisfied: idna<4,>=2.5 in d:\\virtualenv\\myenv\\lib\\site-packages (from requests<3,>=2.21.0->tensorflow-intel==2.16.1->tensorflow) (3.7)\n",
      "Requirement already satisfied: urllib3<3,>=1.21.1 in d:\\virtualenv\\myenv\\lib\\site-packages (from requests<3,>=2.21.0->tensorflow-intel==2.16.1->tensorflow) (2.2.2)\n",
      "Requirement already satisfied: certifi>=2017.4.17 in d:\\virtualenv\\myenv\\lib\\site-packages (from requests<3,>=2.21.0->tensorflow-intel==2.16.1->tensorflow) (2024.6.2)\n",
      "Requirement already satisfied: markdown>=2.6.8 in d:\\virtualenv\\myenv\\lib\\site-packages (from tensorboard<2.17,>=2.16->tensorflow-intel==2.16.1->tensorflow) (3.6)\n",
      "Requirement already satisfied: tensorboard-data-server<0.8.0,>=0.7.0 in d:\\virtualenv\\myenv\\lib\\site-packages (from tensorboard<2.17,>=2.16->tensorflow-intel==2.16.1->tensorflow) (0.7.2)\n",
      "Requirement already satisfied: werkzeug>=1.0.1 in d:\\virtualenv\\myenv\\lib\\site-packages (from tensorboard<2.17,>=2.16->tensorflow-intel==2.16.1->tensorflow) (3.0.3)\n",
      "Requirement already satisfied: MarkupSafe>=2.1.1 in d:\\virtualenv\\myenv\\lib\\site-packages (from werkzeug>=1.0.1->tensorboard<2.17,>=2.16->tensorflow-intel==2.16.1->tensorflow) (2.1.5)\n",
      "Requirement already satisfied: markdown-it-py>=2.2.0 in d:\\virtualenv\\myenv\\lib\\site-packages (from rich->keras>=3.0.0->tensorflow-intel==2.16.1->tensorflow) (3.0.0)\n",
      "Requirement already satisfied: pygments<3.0.0,>=2.13.0 in d:\\virtualenv\\myenv\\lib\\site-packages (from rich->keras>=3.0.0->tensorflow-intel==2.16.1->tensorflow) (2.18.0)\n",
      "Requirement already satisfied: mdurl~=0.1 in d:\\virtualenv\\myenv\\lib\\site-packages (from markdown-it-py>=2.2.0->rich->keras>=3.0.0->tensorflow-intel==2.16.1->tensorflow) (0.1.2)\n",
      "Note: you may need to restart the kernel to use updated packages.\n"
     ]
    },
    {
     "name": "stderr",
     "output_type": "stream",
     "text": [
      "\n",
      "[notice] A new release of pip is available: 24.1 -> 24.2\n",
      "[notice] To update, run: python.exe -m pip install --upgrade pip\n"
     ]
    }
   ],
   "source": [
    "pip install tensorflow"
   ]
  },
  {
   "cell_type": "code",
   "execution_count": 2,
   "id": "03e2415d-59e5-4be9-b02e-56055d2cefef",
   "metadata": {},
   "outputs": [
    {
     "name": "stdout",
     "output_type": "stream",
     "text": [
      "Requirement already satisfied: pandas in d:\\virtualenv\\myenv\\lib\\site-packages (2.2.2)\n",
      "Requirement already satisfied: numpy>=1.23.2 in d:\\virtualenv\\myenv\\lib\\site-packages (from pandas) (1.26.3)\n",
      "Requirement already satisfied: python-dateutil>=2.8.2 in d:\\virtualenv\\myenv\\lib\\site-packages (from pandas) (2.9.0.post0)\n",
      "Requirement already satisfied: pytz>=2020.1 in d:\\virtualenv\\myenv\\lib\\site-packages (from pandas) (2024.1)\n",
      "Requirement already satisfied: tzdata>=2022.7 in d:\\virtualenv\\myenv\\lib\\site-packages (from pandas) (2024.1)\n",
      "Requirement already satisfied: six>=1.5 in d:\\virtualenv\\myenv\\lib\\site-packages (from python-dateutil>=2.8.2->pandas) (1.16.0)\n",
      "Note: you may need to restart the kernel to use updated packages.\n"
     ]
    },
    {
     "name": "stderr",
     "output_type": "stream",
     "text": [
      "\n",
      "[notice] A new release of pip is available: 24.1 -> 24.2\n",
      "[notice] To update, run: python.exe -m pip install --upgrade pip\n"
     ]
    }
   ],
   "source": [
    "pip install pandas"
   ]
  },
  {
   "cell_type": "code",
   "execution_count": 3,
   "id": "da669dc3-22a6-403f-89ea-296faebfba26",
   "metadata": {},
   "outputs": [
    {
     "name": "stdout",
     "output_type": "stream",
     "text": [
      "Requirement already satisfied: matplotlib in d:\\virtualenv\\myenv\\lib\\site-packages (3.9.0)\n",
      "Requirement already satisfied: contourpy>=1.0.1 in d:\\virtualenv\\myenv\\lib\\site-packages (from matplotlib) (1.2.1)\n",
      "Requirement already satisfied: cycler>=0.10 in d:\\virtualenv\\myenv\\lib\\site-packages (from matplotlib) (0.12.1)\n",
      "Requirement already satisfied: fonttools>=4.22.0 in d:\\virtualenv\\myenv\\lib\\site-packages (from matplotlib) (4.53.0)\n",
      "Requirement already satisfied: kiwisolver>=1.3.1 in d:\\virtualenv\\myenv\\lib\\site-packages (from matplotlib) (1.4.5)\n",
      "Requirement already satisfied: numpy>=1.23 in d:\\virtualenv\\myenv\\lib\\site-packages (from matplotlib) (1.26.3)\n",
      "Requirement already satisfied: packaging>=20.0 in d:\\virtualenv\\myenv\\lib\\site-packages (from matplotlib) (24.1)\n",
      "Requirement already satisfied: pillow>=8 in d:\\virtualenv\\myenv\\lib\\site-packages (from matplotlib) (10.2.0)\n",
      "Requirement already satisfied: pyparsing>=2.3.1 in d:\\virtualenv\\myenv\\lib\\site-packages (from matplotlib) (3.1.2)\n",
      "Requirement already satisfied: python-dateutil>=2.7 in d:\\virtualenv\\myenv\\lib\\site-packages (from matplotlib) (2.9.0.post0)\n",
      "Requirement already satisfied: six>=1.5 in d:\\virtualenv\\myenv\\lib\\site-packages (from python-dateutil>=2.7->matplotlib) (1.16.0)\n",
      "Note: you may need to restart the kernel to use updated packages.\n"
     ]
    },
    {
     "name": "stderr",
     "output_type": "stream",
     "text": [
      "\n",
      "[notice] A new release of pip is available: 24.1 -> 24.2\n",
      "[notice] To update, run: python.exe -m pip install --upgrade pip\n"
     ]
    }
   ],
   "source": [
    "pip install matplotlib"
   ]
  },
  {
   "cell_type": "code",
   "execution_count": 4,
   "id": "978f63df-cf21-44ed-ab6b-a5d7d3c12cc8",
   "metadata": {},
   "outputs": [
    {
     "name": "stdout",
     "output_type": "stream",
     "text": [
      "Requirement already satisfied: tabulate in d:\\virtualenv\\myenv\\lib\\site-packages (0.9.0)\n",
      "Note: you may need to restart the kernel to use updated packages.\n"
     ]
    },
    {
     "name": "stderr",
     "output_type": "stream",
     "text": [
      "\n",
      "[notice] A new release of pip is available: 24.1 -> 24.2\n",
      "[notice] To update, run: python.exe -m pip install --upgrade pip\n"
     ]
    }
   ],
   "source": [
    "pip install tabulate"
   ]
  },
  {
   "cell_type": "code",
   "execution_count": 5,
   "id": "94e0240b-f714-4e71-a986-47d44f9dc3d5",
   "metadata": {},
   "outputs": [
    {
     "name": "stdout",
     "output_type": "stream",
     "text": [
      "Requirement already satisfied: prettytable in d:\\virtualenv\\myenv\\lib\\site-packages (3.11.0)\n",
      "Requirement already satisfied: wcwidth in d:\\virtualenv\\myenv\\lib\\site-packages (from prettytable) (0.2.13)\n",
      "Note: you may need to restart the kernel to use updated packages.\n"
     ]
    },
    {
     "name": "stderr",
     "output_type": "stream",
     "text": [
      "\n",
      "[notice] A new release of pip is available: 24.1 -> 24.2\n",
      "[notice] To update, run: python.exe -m pip install --upgrade pip\n"
     ]
    }
   ],
   "source": [
    "pip install prettytable"
   ]
  },
  {
   "cell_type": "code",
   "execution_count": 6,
   "id": "407d75a4-8af3-4ede-847c-b7f4e597a5da",
   "metadata": {},
   "outputs": [],
   "source": [
    "import pandas as pd\n",
    "from matplotlib import pyplot as plt\n",
    "from config import Config\n",
    "import os\n",
    "import numpy as np\n",
    "from utils import normalize\n",
    "import pickle\n",
    "from utils import get_metrics"
   ]
  },
  {
   "cell_type": "code",
   "execution_count": 7,
   "id": "84bb834e-d0ac-46e9-aae5-e1c3ef21ac69",
   "metadata": {},
   "outputs": [
    {
     "name": "stdout",
     "output_type": "stream",
     "text": [
      "data_dir = ['test', 'train', 'val']\n",
      "train_data_dir = ['TRAIN_LGHG2@n10degC_to_25degC_Norm_5Inputs.csv']\n",
      "val_data_dir = ['01_TEST_LGHG2@n10degC_Norm_(05_Inputs).csv', '02_TEST_LGHG2@0degC_Norm_(05_Inputs).csv', '03_TEST_LGHG2@10degC_Norm_(05_Inputs).csv', '04_TEST_LGHG2@25degC_Norm_(05_Inputs).csv']\n",
      "test_data_dir = ['01_TEST_LGHG2@n10degC_Norm_(05_Inputs).csv', '02_TEST_LGHG2@0degC_Norm_(05_Inputs).csv', '03_TEST_LGHG2@10degC_Norm_(05_Inputs).csv', '04_TEST_LGHG2@25degC_Norm_(05_Inputs).csv']\n"
     ]
    }
   ],
   "source": [
    "config = Config(\n",
    "    data_dir='./data',\n",
    "    train_data_subdir='train/',\n",
    "    val_data_subdir='test/',\n",
    "    test_data_subdir='test/'\n",
    ")"
   ]
  },
  {
   "cell_type": "code",
   "execution_count": 8,
   "id": "192fe061-33fb-43d5-9090-ccb7d7b88214",
   "metadata": {},
   "outputs": [
    {
     "data": {
      "text/html": [
       "<div>\n",
       "<style scoped>\n",
       "    .dataframe tbody tr th:only-of-type {\n",
       "        vertical-align: middle;\n",
       "    }\n",
       "\n",
       "    .dataframe tbody tr th {\n",
       "        vertical-align: top;\n",
       "    }\n",
       "\n",
       "    .dataframe thead th {\n",
       "        text-align: right;\n",
       "    }\n",
       "</style>\n",
       "<table border=\"1\" class=\"dataframe\">\n",
       "  <thead>\n",
       "    <tr style=\"text-align: right;\">\n",
       "      <th></th>\n",
       "      <th>V</th>\n",
       "      <th>I</th>\n",
       "      <th>Temp</th>\n",
       "      <th>V_avg</th>\n",
       "      <th>I_avg</th>\n",
       "      <th>SOC</th>\n",
       "    </tr>\n",
       "  </thead>\n",
       "  <tbody>\n",
       "    <tr>\n",
       "      <th>0</th>\n",
       "      <td>0.968019</td>\n",
       "      <td>0.749112</td>\n",
       "      <td>0.521236</td>\n",
       "      <td>0.968019</td>\n",
       "      <td>0.749112</td>\n",
       "      <td>1.000000</td>\n",
       "    </tr>\n",
       "    <tr>\n",
       "      <th>1</th>\n",
       "      <td>0.965316</td>\n",
       "      <td>0.747098</td>\n",
       "      <td>0.521236</td>\n",
       "      <td>0.966668</td>\n",
       "      <td>0.748105</td>\n",
       "      <td>0.999990</td>\n",
       "    </tr>\n",
       "    <tr>\n",
       "      <th>2</th>\n",
       "      <td>0.965198</td>\n",
       "      <td>0.746992</td>\n",
       "      <td>0.521236</td>\n",
       "      <td>0.966178</td>\n",
       "      <td>0.747734</td>\n",
       "      <td>0.999983</td>\n",
       "    </tr>\n",
       "    <tr>\n",
       "      <th>3</th>\n",
       "      <td>0.964961</td>\n",
       "      <td>0.747098</td>\n",
       "      <td>0.518403</td>\n",
       "      <td>0.965874</td>\n",
       "      <td>0.747575</td>\n",
       "      <td>0.999973</td>\n",
       "    </tr>\n",
       "    <tr>\n",
       "      <th>4</th>\n",
       "      <td>0.964961</td>\n",
       "      <td>0.747098</td>\n",
       "      <td>0.518403</td>\n",
       "      <td>0.965691</td>\n",
       "      <td>0.747480</td>\n",
       "      <td>0.999963</td>\n",
       "    </tr>\n",
       "    <tr>\n",
       "      <th>...</th>\n",
       "      <td>...</td>\n",
       "      <td>...</td>\n",
       "      <td>...</td>\n",
       "      <td>...</td>\n",
       "      <td>...</td>\n",
       "      <td>...</td>\n",
       "    </tr>\n",
       "    <tr>\n",
       "      <th>44279</th>\n",
       "      <td>0.335128</td>\n",
       "      <td>0.751020</td>\n",
       "      <td>0.532568</td>\n",
       "      <td>0.329741</td>\n",
       "      <td>0.751020</td>\n",
       "      <td>0.194990</td>\n",
       "    </tr>\n",
       "    <tr>\n",
       "      <th>44280</th>\n",
       "      <td>0.335128</td>\n",
       "      <td>0.751020</td>\n",
       "      <td>0.532568</td>\n",
       "      <td>0.329778</td>\n",
       "      <td>0.751020</td>\n",
       "      <td>0.194990</td>\n",
       "    </tr>\n",
       "    <tr>\n",
       "      <th>44281</th>\n",
       "      <td>0.335128</td>\n",
       "      <td>0.751020</td>\n",
       "      <td>0.532568</td>\n",
       "      <td>0.329815</td>\n",
       "      <td>0.751020</td>\n",
       "      <td>0.194990</td>\n",
       "    </tr>\n",
       "    <tr>\n",
       "      <th>44282</th>\n",
       "      <td>0.335128</td>\n",
       "      <td>0.751020</td>\n",
       "      <td>0.532568</td>\n",
       "      <td>0.329851</td>\n",
       "      <td>0.751020</td>\n",
       "      <td>0.194990</td>\n",
       "    </tr>\n",
       "    <tr>\n",
       "      <th>44283</th>\n",
       "      <td>0.335128</td>\n",
       "      <td>0.751020</td>\n",
       "      <td>0.532568</td>\n",
       "      <td>0.329888</td>\n",
       "      <td>0.751020</td>\n",
       "      <td>0.194990</td>\n",
       "    </tr>\n",
       "  </tbody>\n",
       "</table>\n",
       "<p>44284 rows × 6 columns</p>\n",
       "</div>"
      ],
      "text/plain": [
       "              V         I      Temp     V_avg     I_avg       SOC\n",
       "0      0.968019  0.749112  0.521236  0.968019  0.749112  1.000000\n",
       "1      0.965316  0.747098  0.521236  0.966668  0.748105  0.999990\n",
       "2      0.965198  0.746992  0.521236  0.966178  0.747734  0.999983\n",
       "3      0.964961  0.747098  0.518403  0.965874  0.747575  0.999973\n",
       "4      0.964961  0.747098  0.518403  0.965691  0.747480  0.999963\n",
       "...         ...       ...       ...       ...       ...       ...\n",
       "44279  0.335128  0.751020  0.532568  0.329741  0.751020  0.194990\n",
       "44280  0.335128  0.751020  0.532568  0.329778  0.751020  0.194990\n",
       "44281  0.335128  0.751020  0.532568  0.329815  0.751020  0.194990\n",
       "44282  0.335128  0.751020  0.532568  0.329851  0.751020  0.194990\n",
       "44283  0.335128  0.751020  0.532568  0.329888  0.751020  0.194990\n",
       "\n",
       "[44284 rows x 6 columns]"
      ]
     },
     "execution_count": 8,
     "metadata": {},
     "output_type": "execute_result"
    }
   ],
   "source": [
    "test_data_filename = os.listdir(config.get_test_data_dir())[2]\n",
    "test_data_path = os.path.join(config.get_test_data_dir(), test_data_filename)\n",
    "test_data = pd.read_csv(test_data_path)\n",
    "test_data"
   ]
  },
  {
   "cell_type": "code",
   "execution_count": 9,
   "id": "b04fb6eb-42ad-4d4c-8786-ec43c29a8638",
   "metadata": {},
   "outputs": [
    {
     "data": {
      "text/plain": [
       "(44284, 5)"
      ]
     },
     "execution_count": 9,
     "metadata": {},
     "output_type": "execute_result"
    }
   ],
   "source": [
    "X_test = test_data[['V', 'I', 'Temp', 'V_avg', 'I_avg']].values\n",
    "X_test.shape"
   ]
  },
  {
   "cell_type": "code",
   "execution_count": 10,
   "id": "d992200e-c72a-4976-a8d9-123dbcc524ca",
   "metadata": {},
   "outputs": [
    {
     "data": {
      "text/plain": [
       "array([[0.96801895, 0.74911237, 0.52123591, 0.96801895, 0.74911237],\n",
       "       [0.96531628, 0.7470984 , 0.52123591, 0.96666762, 0.74810539],\n",
       "       [0.96519787, 0.74699221, 0.52123591, 0.9661777 , 0.74773433],\n",
       "       ...,\n",
       "       [0.33512765, 0.75102009, 0.53256776, 0.32981484, 0.75102009],\n",
       "       [0.33512765, 0.75102009, 0.53256776, 0.32985141, 0.75102009],\n",
       "       [0.33512765, 0.75102009, 0.53256776, 0.3298875 , 0.75102009]])"
      ]
     },
     "execution_count": 10,
     "metadata": {},
     "output_type": "execute_result"
    }
   ],
   "source": [
    "X_test"
   ]
  },
  {
   "cell_type": "code",
   "execution_count": 11,
   "id": "6a8588ae-db43-4f13-9c83-c200681f5ea5",
   "metadata": {},
   "outputs": [
    {
     "data": {
      "text/plain": [
       "array([[ 1.        ,  0.02007657, -1.        ,  1.        ,  0.02007657],\n",
       "       [ 0.99393247,  0.01412849, -1.        ,  1.        ,  0.01864986],\n",
       "       [ 0.99559568,  0.01476778, -1.        ,  1.        ,  0.01810358],\n",
       "       ...,\n",
       "       [-0.97477332,  1.        , -0.0372726 , -1.        ,  1.        ],\n",
       "       [-0.97494477,  1.        , -0.03736266, -1.        ,  1.        ],\n",
       "       [-0.97511403,  1.        , -0.03745156, -1.        ,  1.        ]])"
      ]
     },
     "execution_count": 11,
     "metadata": {},
     "output_type": "execute_result"
    }
   ],
   "source": [
    "normalized_X_test = normalize(X_test)\n",
    "normalized_X_test"
   ]
  },
  {
   "cell_type": "code",
   "execution_count": 12,
   "id": "668e1310-47fe-44f2-b4fe-1fbeae4fde27",
   "metadata": {},
   "outputs": [
    {
     "data": {
      "text/plain": [
       "(44284,)"
      ]
     },
     "execution_count": 12,
     "metadata": {},
     "output_type": "execute_result"
    }
   ],
   "source": [
    "y_test = test_data['SOC'].values\n",
    "y_test.shape"
   ]
  },
  {
   "cell_type": "code",
   "execution_count": 13,
   "id": "f0c29fd6-d9d7-4a82-8f26-ce5a6577f292",
   "metadata": {},
   "outputs": [
    {
     "data": {
      "text/plain": [
       "array([1.        , 0.99999   , 0.99998333, ..., 0.19499   , 0.19499   ,\n",
       "       0.19499   ])"
      ]
     },
     "execution_count": 13,
     "metadata": {},
     "output_type": "execute_result"
    }
   ],
   "source": [
    "y_test"
   ]
  },
  {
   "cell_type": "code",
   "execution_count": 14,
   "id": "3cb25ca5-530b-4551-ae0d-bdb2250d7e1e",
   "metadata": {},
   "outputs": [],
   "source": [
    "soc_observed = y_test"
   ]
  },
  {
   "cell_type": "markdown",
   "id": "2ac3bc81-2149-45aa-9802-7475f30180a9",
   "metadata": {},
   "source": [
    "# Linear Regression"
   ]
  },
  {
   "cell_type": "code",
   "execution_count": 15,
   "id": "00800770-f242-4945-acae-368670237959",
   "metadata": {},
   "outputs": [],
   "source": [
    "lregression_model_path = './models/ml/soc_estimation_ml_lregression.sav'\n",
    "lregression_model = pickle.load(open(lregression_model_path, 'rb'))"
   ]
  },
  {
   "cell_type": "code",
   "execution_count": 16,
   "id": "eddf8a25-2342-483f-be44-50a500ec5758",
   "metadata": {},
   "outputs": [
    {
     "data": {
      "text/plain": [
       "array([0.96096553, 0.96030846, 0.96064429, ..., 0.20757221, 0.20754155,\n",
       "       0.20751128])"
      ]
     },
     "execution_count": 16,
     "metadata": {},
     "output_type": "execute_result"
    }
   ],
   "source": [
    "soc_predicted = lregression_model.predict(normalized_X_test)\n",
    "soc_predicted"
   ]
  },
  {
   "cell_type": "code",
   "execution_count": 17,
   "id": "944d332e-eddc-45ad-845a-ea7bc0bb128f",
   "metadata": {},
   "outputs": [
    {
     "name": "stdout",
     "output_type": "stream",
     "text": [
      "Accuracy: 92.36%\n"
     ]
    }
   ],
   "source": [
    "result = lregression_model.score(normalized_X_test, y_test)\n",
    "print(\"Accuracy: %.2f%%\" % (result*100.0))"
   ]
  },
  {
   "cell_type": "code",
   "execution_count": 18,
   "id": "08cc3d01-cb45-4c31-bb83-3ca782732b2d",
   "metadata": {},
   "outputs": [
    {
     "data": {
      "text/html": [
       "<style type=\"text/css\">\n",
       "#T_6421a_row0_col0, #T_6421a_row1_col0, #T_6421a_row2_col0, #T_6421a_row3_col0, #T_6421a_row4_col0, #T_6421a_row5_col0 {\n",
       "  border: 1.5px solid black;\n",
       "  color: black;\n",
       "  font-size: 12pt;\n",
       "  text-align: center;\n",
       "}\n",
       "#T_6421a_row0_col1 {\n",
       "  background-color: #b40426;\n",
       "  color: #f1f1f1;\n",
       "  border: 1.5px solid black;\n",
       "  color: black;\n",
       "  font-size: 12pt;\n",
       "  text-align: center;\n",
       "}\n",
       "#T_6421a_row1_col1 {\n",
       "  background-color: #7ea1fa;\n",
       "  color: #f1f1f1;\n",
       "  border: 1.5px solid black;\n",
       "  color: black;\n",
       "  font-size: 12pt;\n",
       "  text-align: center;\n",
       "}\n",
       "#T_6421a_row2_col1 {\n",
       "  background-color: #c3d5f4;\n",
       "  color: #000000;\n",
       "  border: 1.5px solid black;\n",
       "  color: black;\n",
       "  font-size: 12pt;\n",
       "  text-align: center;\n",
       "}\n",
       "#T_6421a_row3_col1 {\n",
       "  background-color: #3b4cc0;\n",
       "  color: #f1f1f1;\n",
       "  border: 1.5px solid black;\n",
       "  color: black;\n",
       "  font-size: 12pt;\n",
       "  text-align: center;\n",
       "}\n",
       "#T_6421a_row4_col1 {\n",
       "  background-color: #92b4fe;\n",
       "  color: #000000;\n",
       "  border: 1.5px solid black;\n",
       "  color: black;\n",
       "  font-size: 12pt;\n",
       "  text-align: center;\n",
       "}\n",
       "#T_6421a_row5_col1 {\n",
       "  background-color: #6e90f2;\n",
       "  color: #f1f1f1;\n",
       "  border: 1.5px solid black;\n",
       "  color: black;\n",
       "  font-size: 12pt;\n",
       "  text-align: center;\n",
       "}\n",
       "</style>\n",
       "<table id=\"T_6421a\">\n",
       "  <thead>\n",
       "    <tr>\n",
       "      <th class=\"blank level0\" >&nbsp;</th>\n",
       "      <th id=\"T_6421a_level0_col0\" class=\"col_heading level0 col0\" >Metric</th>\n",
       "      <th id=\"T_6421a_level0_col1\" class=\"col_heading level0 col1\" >Value</th>\n",
       "    </tr>\n",
       "  </thead>\n",
       "  <tbody>\n",
       "    <tr>\n",
       "      <th id=\"T_6421a_level0_row0\" class=\"row_heading level0 row0\" >0</th>\n",
       "      <td id=\"T_6421a_row0_col0\" class=\"data row0 col0\" >max_error</td>\n",
       "      <td id=\"T_6421a_row0_col1\" class=\"data row0 col1\" >0.271403</td>\n",
       "    </tr>\n",
       "    <tr>\n",
       "      <th id=\"T_6421a_level0_row1\" class=\"row_heading level0 row1\" >1</th>\n",
       "      <td id=\"T_6421a_row1_col0\" class=\"data row1 col0\" >mean_absolute_error</td>\n",
       "      <td id=\"T_6421a_row1_col1\" class=\"data row1 col1\" >0.061482</td>\n",
       "    </tr>\n",
       "    <tr>\n",
       "      <th id=\"T_6421a_level0_row2\" class=\"row_heading level0 row2\" >2</th>\n",
       "      <td id=\"T_6421a_row2_col0\" class=\"data row2 col0\" >mean_absolute_percentage_error</td>\n",
       "      <td id=\"T_6421a_row2_col1\" class=\"data row2 col1\" >0.114238</td>\n",
       "    </tr>\n",
       "    <tr>\n",
       "      <th id=\"T_6421a_level0_row3\" class=\"row_heading level0 row3\" >3</th>\n",
       "      <td id=\"T_6421a_row3_col0\" class=\"data row3 col0\" >mean_squared_error</td>\n",
       "      <td id=\"T_6421a_row3_col1\" class=\"data row3 col1\" >0.005756</td>\n",
       "    </tr>\n",
       "    <tr>\n",
       "      <th id=\"T_6421a_level0_row4\" class=\"row_heading level0 row4\" >4</th>\n",
       "      <td id=\"T_6421a_row4_col0\" class=\"data row4 col0\" >root_mean_squared_error</td>\n",
       "      <td id=\"T_6421a_row4_col1\" class=\"data row4 col1\" >0.075870</td>\n",
       "    </tr>\n",
       "    <tr>\n",
       "      <th id=\"T_6421a_level0_row5\" class=\"row_heading level0 row5\" >5</th>\n",
       "      <td id=\"T_6421a_row5_col0\" class=\"data row5 col0\" >root_mean_squared_log_error</td>\n",
       "      <td id=\"T_6421a_row5_col1\" class=\"data row5 col1\" >0.048605</td>\n",
       "    </tr>\n",
       "  </tbody>\n",
       "</table>\n"
      ],
      "text/plain": [
       "<pandas.io.formats.style.Styler at 0x12eb74b8550>"
      ]
     },
     "execution_count": 18,
     "metadata": {},
     "output_type": "execute_result"
    }
   ],
   "source": [
    "lregression_metrics = get_metrics(soc_observed, soc_predicted)\n",
    "lregression_metrics"
   ]
  },
  {
   "cell_type": "code",
   "execution_count": 19,
   "id": "89838b67-bdbc-43df-b69b-f5839c3ec1dd",
   "metadata": {},
   "outputs": [
    {
     "ename": "NameError",
     "evalue": "name 'plot_obs_pred' is not defined",
     "output_type": "error",
     "traceback": [
      "\u001b[1;31m---------------------------------------------------------------------------\u001b[0m",
      "\u001b[1;31mNameError\u001b[0m                                 Traceback (most recent call last)",
      "Cell \u001b[1;32mIn[19], line 1\u001b[0m\n\u001b[1;32m----> 1\u001b[0m \u001b[43mplot_obs_pred\u001b[49m(\n\u001b[0;32m      2\u001b[0m     y_test\u001b[38;5;241m=\u001b[39msoc_observed, \n\u001b[0;32m      3\u001b[0m     y_predicted\u001b[38;5;241m=\u001b[39msoc_predicted, \n\u001b[0;32m      4\u001b[0m     ylabel\u001b[38;5;241m=\u001b[39m\u001b[38;5;124m'\u001b[39m\u001b[38;5;124mSOC\u001b[39m\u001b[38;5;124m'\u001b[39m, \n\u001b[0;32m      5\u001b[0m     xlabel\u001b[38;5;241m=\u001b[39m\u001b[38;5;124m'\u001b[39m\u001b[38;5;124mTime (s)\u001b[39m\u001b[38;5;124m'\u001b[39m\n\u001b[0;32m      6\u001b[0m )\n",
      "\u001b[1;31mNameError\u001b[0m: name 'plot_obs_pred' is not defined"
     ]
    }
   ],
   "source": [
    "plot_obs_pred(\n",
    "    y_test=soc_observed, \n",
    "    y_predicted=soc_predicted, \n",
    "    ylabel='SOC', \n",
    "    xlabel='Time (s)'\n",
    ")"
   ]
  },
  {
   "cell_type": "markdown",
   "id": "b3ae67f9-f740-4575-bf14-8676cfa4f2bf",
   "metadata": {},
   "source": [
    "# Decision Tree"
   ]
  },
  {
   "cell_type": "code",
   "execution_count": null,
   "id": "fd83c332-bde0-4a05-a125-861c2d48acb3",
   "metadata": {},
   "outputs": [],
   "source": [
    "decisiontree_model_path = './models/ml/soc_estimation_ml_decisiontree.sav'\n",
    "decisiontree_model = pickle.load(open(decisiontree_model_path, 'rb'))"
   ]
  },
  {
   "cell_type": "code",
   "execution_count": null,
   "id": "9d0f8465-fa13-49c6-a45c-553d641aefbf",
   "metadata": {},
   "outputs": [],
   "source": [
    "soc_predicted = decisiontree_model.predict(normalized_X_test)\n",
    "soc_predicted"
   ]
  },
  {
   "cell_type": "code",
   "execution_count": null,
   "id": "77bacbc0-ccdb-452a-a550-aaee9ec662ba",
   "metadata": {},
   "outputs": [],
   "source": [
    "result = decisiontree_model.score(normalized_X_test, y_test)\n",
    "print(\"Accuracy: %.2f%%\" % (result*100.0))"
   ]
  },
  {
   "cell_type": "code",
   "execution_count": null,
   "id": "cffd99cc-5bfe-4014-b2f5-ed021a3abdc3",
   "metadata": {},
   "outputs": [],
   "source": [
    "gpr_metrics = get_metrics(soc_observed, soc_predicted)\n",
    "gpr_metrics"
   ]
  },
  {
   "cell_type": "code",
   "execution_count": null,
   "id": "4db5f327-8bce-4f67-a870-9dfb26c388b7",
   "metadata": {},
   "outputs": [],
   "source": [
    "plot_obs_pred(\n",
    "    y_test=soc_observed, \n",
    "    y_predicted=soc_predicted, \n",
    "    ylabel='SOC', \n",
    "    xlabel='Time (s)'\n",
    ")"
   ]
  },
  {
   "cell_type": "markdown",
   "id": "d2c0439d-d559-42c9-a4bf-4d0c5894ccc7",
   "metadata": {},
   "source": [
    "# Nearest Neighbors Regression"
   ]
  },
  {
   "cell_type": "code",
   "execution_count": null,
   "id": "24363c37-f6a2-4e45-a98d-d47a1989d089",
   "metadata": {},
   "outputs": [],
   "source": [
    "decisiontree_model_path = './models/ml/soc_estimation_ml_nnregression.sav'\n",
    "decisiontree_model = pickle.load(open(decisiontree_model_path, 'rb'))"
   ]
  },
  {
   "cell_type": "code",
   "execution_count": null,
   "id": "ee74e6b6-13cb-4b6f-b4ab-c4db5b011f83",
   "metadata": {},
   "outputs": [],
   "source": [
    "soc_predicted = decisiontree_model.predict(normalized_X_test)\n",
    "soc_predicted"
   ]
  },
  {
   "cell_type": "code",
   "execution_count": null,
   "id": "ef775345-5103-464c-bd56-657792751347",
   "metadata": {},
   "outputs": [],
   "source": [
    "result = decisiontree_model.score(normalized_X_test, y_test)\n",
    "print(\"Accuracy: %.2f%%\" % (result*100.0))"
   ]
  },
  {
   "cell_type": "code",
   "execution_count": null,
   "id": "961c6a76-a906-4fbb-9fcd-73ffaa65f11d",
   "metadata": {},
   "outputs": [],
   "source": [
    "gpr_metrics = get_metrics(soc_observed, soc_predicted)\n",
    "gpr_metrics"
   ]
  },
  {
   "cell_type": "code",
   "execution_count": null,
   "id": "863d52d2-4b49-4930-ae49-7a80e85be73a",
   "metadata": {},
   "outputs": [],
   "source": [
    "plot_obs_pred(\n",
    "    y_test=soc_observed, \n",
    "    y_predicted=soc_predicted, \n",
    "    ylabel='SOC', \n",
    "    xlabel='Time (s)'\n",
    ")"
   ]
  },
  {
   "cell_type": "code",
   "execution_count": null,
   "id": "b7170895-0d0d-49fa-997a-56f2a81fa494",
   "metadata": {},
   "outputs": [],
   "source": []
  }
 ],
 "metadata": {
  "kernelspec": {
   "display_name": "myenv",
   "language": "python",
   "name": "myenv"
  },
  "language_info": {
   "codemirror_mode": {
    "name": "ipython",
    "version": 3
   },
   "file_extension": ".py",
   "mimetype": "text/x-python",
   "name": "python",
   "nbconvert_exporter": "python",
   "pygments_lexer": "ipython3",
   "version": "3.11.1"
  }
 },
 "nbformat": 4,
 "nbformat_minor": 5
}
